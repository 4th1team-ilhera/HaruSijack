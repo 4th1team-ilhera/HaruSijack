{
 "cells": [
  {
   "cell_type": "markdown",
   "metadata": {},
   "source": [
    "### OPEN API 를 이용한 챗봇 시스템 "
   ]
  },
  {
   "cell_type": "code",
   "execution_count": 3,
   "metadata": {},
   "outputs": [
    {
     "name": "stdout",
     "output_type": "stream",
     "text": [
      "Name: openapi\n",
      "Version: 2.0.0\n",
      "Summary: Python OpenAPI 2.0 (Swagger) object model\n",
      "Home-page: https://github.com/globality-corp/openapi\n",
      "Author: Globality Engineering\n",
      "Author-email: engineering@globality.com\n",
      "License: \n",
      "Location: /opt/anaconda3/lib/python3.11/site-packages\n",
      "Requires: inflection, jsonschema\n",
      "Required-by: \n"
     ]
    }
   ],
   "source": [
    "!pip show openapi\n",
    "# !pip install openai"
   ]
  },
  {
   "cell_type": "markdown",
   "metadata": {},
   "source": [
    "---\n",
    "### OPENAI API 호출 예제 "
   ]
  },
  {
   "cell_type": "code",
   "execution_count": 2,
   "metadata": {},
   "outputs": [
    {
     "name": "stdout",
     "output_type": "stream",
     "text": [
      "{'choices': [{'finish_reason': 'stop',\n",
      "              'index': 0,\n",
      "              'logprobs': None,\n",
      "              'message': {'content': '죄송합니다, 제가 실시간 정보를 제공할 수 있는 기능은 아직 없어요. '\n",
      "                                     '혼잡도 정보를 확인하려면 현장에 있는 역 관리소나 공공기관의 웹사이트를 '\n",
      "                                     '참고하거나, 대중교통 애플리케이션을 이용하는 것이 좋을 것 같아요.',\n",
      "                          'function_call': None,\n",
      "                          'role': 'assistant',\n",
      "                          'tool_calls': None}}],\n",
      " 'created': 1719973626,\n",
      " 'id': 'chatcmpl-9gk02ErNKOBnUhNOkisOTVXazpkpP',\n",
      " 'model': 'gpt-3.5-turbo-1106',\n",
      " 'object': 'chat.completion',\n",
      " 'service_tier': None,\n",
      " 'system_fingerprint': 'fp_44132a4de3',\n",
      " 'usage': {'completion_tokens': 104, 'prompt_tokens': 36, 'total_tokens': 140}}\n"
     ]
    }
   ],
   "source": [
    "from openai import OpenAI\n",
    "from pprint import pprint\n",
    "import os\n",
    "api_key=os.environ.get(\"OPENAI_API_KEY\")\n",
    "client = OpenAI(api_key=api_key)\n",
    "\n",
    "client = OpenAI(api_key=api_key)\n",
    "model = 'gpt-3.5-turbo-1106'\n",
    "\n",
    "messages = [\n",
    "    {'role':'system','content': 'You are a helphful assistant.'},\n",
    "    {'role':'user','content': '군자역 혼잡도 알려줘?'}\n",
    "]\n",
    "response = client.chat.completions.create(model=model, messages=messages).model_dump()\n",
    "pprint(response)"
   ]
  },
  {
   "cell_type": "markdown",
   "metadata": {},
   "source": [
    "> gpt 는 json type 으로 답을 넘겨준다. "
   ]
  },
  {
   "cell_type": "markdown",
   "metadata": {},
   "source": [
    "---\n",
    "### \n",
    "\n",
    " * [model dump ]\n",
    "    : 메서드 체이닝 -> 메서드를 연쇄적으로 호출하는 방식 "
   ]
  },
  {
   "cell_type": "markdown",
   "metadata": {},
   "source": [
    "---\n",
    "### ai chatbot 을 만들기 위해서는 프롬프트 엔지니어링이 필요하다."
   ]
  },
  {
   "cell_type": "code",
   "execution_count": 9,
   "metadata": {},
   "outputs": [
    {
     "name": "stdout",
     "output_type": "stream",
     "text": [
      "<bound method BaseModel.to_dict of ChatCompletion(id='chatcmpl-9gk4TZjp8AKGlnr7ciMo6Gzg0LvgY', choices=[Choice(finish_reason='stop', index=0, logprobs=None, message=ChatCompletionMessage(content='- 인공지능 기술의 발전과 교육의 관련성에 대한 이해\\n- 인공지능이 교육 분야에 미치는 영향과 변화\\n- 교육의 목표와 방향성을 재조명하는 필요성\\n- 인공지능을 효과적으로 활용한 교육 방법과 도구 도입의 중요성\\n- 학생들의 능력과 창의성을 개발하는데 인공지능의 활용 방안에 대한 고찰', role='assistant', function_call=None, tool_calls=None))], created=1719973901, model='gpt-3.5-turbo-1106', object='chat.completion', service_tier=None, system_fingerprint='fp_44132a4de3', usage=CompletionUsage(completion_tokens=161, prompt_tokens=97, total_tokens=258))>\n"
     ]
    }
   ],
   "source": [
    "prompt = \"\"\"\n",
    "내일 다음 주제로 미래 교육 포럼에서 발표할 발제문을 작성해야합니다.\n",
    "발제문의 주요 내용을 불릿 기호로 간략히 정리해 주세요.\n",
    "주제:{agenda}\n",
    "\n",
    "\n",
    "\"\"\".format(agenda=\"인공지능 시대의 교육의 역활과 의미\")\n",
    "model = 'gpt-3.5-turbo-1106'\n",
    "response = client.chat.completions.create(\n",
    "    model= model,\n",
    "    messages=[{'role':'user','content':prompt}]\n",
    ").to_dict\n",
    "pprint(response)\n",
    "\n"
   ]
  },
  {
   "cell_type": "code",
   "execution_count": 7,
   "metadata": {},
   "outputs": [
    {
     "name": "stdout",
     "output_type": "stream",
     "text": [
      "<bound method BaseModel.model_dump of ChatCompletion(id='chatcmpl-9gk2C7PQ6FnXL2RvlvFR5sibJTl6a', choices=[Choice(finish_reason='stop', index=0, logprobs=None, message=ChatCompletionMessage(content='- 인공지능이 교육 분야에 미치는 영향\\n- 학교 교육과 산업현장의 변화\\n- 인공지능을 효과적으로 활용한 교육 방법\\n- 교사의 역할과 역량 강화\\n- 학생들의 능력과 자기주도적 학습 강화\\n- 윤리적 측면과 사회적 영향 고려', role='assistant', function_call=None, tool_calls=None))], created=1719973760, model='gpt-3.5-turbo-1106', object='chat.completion', service_tier=None, system_fingerprint='fp_44132a4de3', usage=CompletionUsage(completion_tokens=137, prompt_tokens=97, total_tokens=234))>\n"
     ]
    }
   ],
   "source": [
    "print(response)"
   ]
  },
  {
   "cell_type": "code",
   "execution_count": null,
   "metadata": {},
   "outputs": [],
   "source": []
  },
  {
   "cell_type": "code",
   "execution_count": null,
   "metadata": {},
   "outputs": [],
   "source": []
  },
  {
   "cell_type": "code",
   "execution_count": null,
   "metadata": {},
   "outputs": [],
   "source": []
  },
  {
   "cell_type": "code",
   "execution_count": null,
   "metadata": {},
   "outputs": [],
   "source": []
  }
 ],
 "metadata": {
  "kernelspec": {
   "display_name": "base",
   "language": "python",
   "name": "python3"
  },
  "language_info": {
   "codemirror_mode": {
    "name": "ipython",
    "version": 3
   },
   "file_extension": ".py",
   "mimetype": "text/x-python",
   "name": "python",
   "nbconvert_exporter": "python",
   "pygments_lexer": "ipython3",
   "version": "3.11.7"
  }
 },
 "nbformat": 4,
 "nbformat_minor": 2
}
