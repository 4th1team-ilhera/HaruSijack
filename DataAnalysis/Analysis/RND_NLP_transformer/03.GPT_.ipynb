{
 "cells": [
  {
   "cell_type": "markdown",
   "metadata": {},
   "source": [
    "### OPEN API 를 이용한 챗봇 시스템 "
   ]
  },
  {
   "cell_type": "code",
   "execution_count": 2,
   "metadata": {},
   "outputs": [
    {
     "name": "stdout",
     "output_type": "stream",
     "text": [
      "Name: openapi\n",
      "Version: 2.0.0\n",
      "Summary: Python OpenAPI 2.0 (Swagger) object model\n",
      "Home-page: https://github.com/globality-corp/openapi\n",
      "Author: Globality Engineering\n",
      "Author-email: engineering@globality.com\n",
      "License: \n",
      "Location: /opt/anaconda3/lib/python3.11/site-packages\n",
      "Requires: inflection, jsonschema\n",
      "Required-by: \n"
     ]
    }
   ],
   "source": [
    "!pip show openapi\n",
    "# !pip install openai"
   ]
  },
  {
   "cell_type": "markdown",
   "metadata": {},
   "source": [
    "---\n",
    "### OPENAI API 호출 예제 "
   ]
  },
  {
   "cell_type": "code",
   "execution_count": 3,
   "metadata": {},
   "outputs": [
    {
     "name": "stdout",
     "output_type": "stream",
     "text": [
      "{'choices': [{'finish_reason': 'stop',\n",
      "              'index': 0,\n",
      "              'logprobs': None,\n",
      "              'message': {'content': '죄송합니다, 현재 군자역의 혼잡도 정보를 파악할 수 있는 방법은 '\n",
      "                                     '없습니다. 군자역의 혼잡도 정보는 해당 역에서 제공하는 공공 시설의 안내 '\n",
      "                                     '시스템을 통해 확인하시거나, 현지에서 직접 확인하시는 것이 좋을 것 '\n",
      "                                     '같습니다.',\n",
      "                          'function_call': None,\n",
      "                          'role': 'assistant',\n",
      "                          'tool_calls': None}}],\n",
      " 'created': 1720079963,\n",
      " 'id': 'chatcmpl-9hBf9yOjwL0BLc331DxO3P85cDimS',\n",
      " 'model': 'gpt-3.5-turbo-1106',\n",
      " 'object': 'chat.completion',\n",
      " 'service_tier': None,\n",
      " 'system_fingerprint': 'fp_44132a4de3',\n",
      " 'usage': {'completion_tokens': 102, 'prompt_tokens': 36, 'total_tokens': 138}}\n"
     ]
    }
   ],
   "source": [
    "from openai import OpenAI\n",
    "from pprint import pprint\n",
    "import os\n",
    "api_key=os.environ.get(\"OPENAI_API_KEY\")\n",
    "client = OpenAI(api_key=api_key)\n",
    "\n",
    "client = OpenAI(api_key=api_key)\n",
    "model = 'gpt-3.5-turbo-1106'\n",
    "\n",
    "messages = [\n",
    "    {'role':'system','content': 'You are a helphful assistant.'},\n",
    "    {'role':'user','content': '군자역 혼잡도 알려줘?'}\n",
    "]\n",
    "response = client.chat.completions.create(model=model, messages=messages).model_dump()\n",
    "pprint(response)"
   ]
  },
  {
   "cell_type": "markdown",
   "metadata": {},
   "source": [
    "> gpt 는 json type 으로 답을 넘겨준다. "
   ]
  },
  {
   "cell_type": "markdown",
   "metadata": {},
   "source": [
    "---\n",
    "### \n",
    "\n",
    " * [model dump ]\n",
    "    : 메서드 체이닝 -> 메서드를 연쇄적으로 호출하는 방식 "
   ]
  },
  {
   "cell_type": "markdown",
   "metadata": {},
   "source": [
    "---\n",
    "### ai chatbot 을 만들기 위해서는 프롬프트 엔지니어링이 필요하다."
   ]
  },
  {
   "cell_type": "code",
   "execution_count": 4,
   "metadata": {},
   "outputs": [
    {
     "name": "stdout",
     "output_type": "stream",
     "text": [
      "<bound method BaseModel.to_dict of ChatCompletion(id='chatcmpl-9hBfBsl4xnnmLE2BNdCMu7MJ7dVbS', choices=[Choice(finish_reason='stop', index=0, logprobs=None, message=ChatCompletionMessage(content='- 인공지능 기술의 발전으로 교육의 역할이 변화하고 있는 현상 파악\\n- 인공지능이 교육에 미치는 영향과 가능성에 대한 이해와 고찰\\n- 학습자 중심의 개별 맞춤형 교육 시스템 구축을 통한 인공지능 기술의 적용 가능성\\n- 교사의 역할과 역량 강화를 통한 인공지능과 협업하는 교육 환경 조성\\n- 디지털 리터러시와 스마트 러닝 활성화를 통한 인공지능 시대 교육의 의미와 가치 재정립', role='assistant', function_call=None, tool_calls=None))], created=1720079965, model='gpt-3.5-turbo-1106', object='chat.completion', service_tier=None, system_fingerprint='fp_44132a4de3', usage=CompletionUsage(completion_tokens=215, prompt_tokens=97, total_tokens=312))>\n"
     ]
    }
   ],
   "source": [
    "prompt = \"\"\"\n",
    "내일 다음 주제로 미래 교육 포럼에서 발표할 발제문을 작성해야합니다.\n",
    "발제문의 주요 내용을 불릿 기호로 간략히 정리해 주세요.\n",
    "주제:{agenda}\n",
    "\n",
    "\n",
    "\"\"\".format(agenda=\"인공지능 시대의 교육의 역활과 의미\")\n",
    "model = 'gpt-3.5-turbo-1106'\n",
    "response = client.chat.completions.create(\n",
    "    model= model,\n",
    "    messages=[{'role':'user','content':prompt}]\n",
    ").to_dict\n",
    "pprint(response)\n",
    "\n"
   ]
  },
  {
   "cell_type": "code",
   "execution_count": 6,
   "metadata": {},
   "outputs": [
    {
     "name": "stdout",
     "output_type": "stream",
     "text": [
      "('- 인공지능 기술의 발전은 교육에 어떤 영향을 미치는가?\\n'\n",
      " '- 교육이 인공지능 시대에 더 중요한 이유는?\\n'\n",
      " '- 인공지능과 함께 하는 교육의 가장 큰 장점은 무엇인가?\\n'\n",
      " '- 교육과 인공지능이 상호 보완적으로 발전할 수 있는 방안은?')\n"
     ]
    }
   ],
   "source": [
    "from pprint import pprint\n",
    "\n",
    "prompt = \"\"\"\n",
    "내일 다음 주제로 미래 교육 포럼에서 발표할 발제문을 작성해야합니다.\n",
    "발제문의 주요 내용을 불릿 기호로 간략히 정리해 주세요.\n",
    "주제:{agenda}\n",
    "\"\"\".format(agenda=\"인공지능 시대의 교육의 역할과 의미\")\n",
    "\n",
    "model = 'gpt-3.5-turbo-1106'\n",
    "response = client.chat.completions.create(\n",
    "    model=model,\n",
    "    messages=[{'role': 'user', 'content': prompt}]\n",
    ")\n",
    "\n",
    "pprint(response.choices[0].message.content)\n"
   ]
  },
  {
   "cell_type": "markdown",
   "metadata": {},
   "source": [
    "---\n",
    "### Chater 5 프롬프트 엔지니어링의 핵심 기법 \n",
    "- few shot\n",
    "- Cot\n",
    "-SC\n",
    "- ToT\n",
    "- ReAct\n",
    "-RAG\n"
   ]
  },
  {
   "cell_type": "code",
   "execution_count": 12,
   "metadata": {},
   "outputs": [
    {
     "name": "stdout",
     "output_type": "stream",
     "text": [
      "{'STEP-1': 'William Shakespeare was an English playwrit, poet and actor.  He '\n",
      "           'is widely regarded as the greatest writer in the English language '\n",
      "           \"and the world's pre-eminent dramatist.\",\n",
      " 'STEP-2': True,\n",
      " 'STEP-3': ['윌리엄 셰익스피어는 영국의 희곡 작가, 시인, 배우였어.',\n",
      "            '그는 영어로 가장 위대한 작가로 널리 인정받고 있고, 세계에서 가장 뛰어난 극작가야.']}\n"
     ]
    }
   ],
   "source": [
    "from pprint import pprint\n",
    "import json\n",
    "template = \"\"\"\n",
    "당신은 번역함수이며, 반환값은 반드시 JSON 데이터 여야 합니다. \n",
    "STEP 별로 작업을 수행하면서 그 결과를 아래의 출력 결과 JSON 포맷에 작성하세요.\n",
    "STEP-1. 아래 세 개의 백틱으로 구분된 텍스트를 원문 그대로 읽어 올것\n",
    "STEP-2. 입력받은 텍스트가 긍정적이라면 True를 표기할것\n",
    "STEP-3. 다음의 말투로 번역할 것: [\"지구의 나이는 45억살이야.\",\"세종 대왕은 조선의 위대한 국왕이야.\"]\n",
    "```{text}```\n",
    "---\n",
    "출력결과 : {{\"STEP-1\":<입력텍스트>, \"STEP-2\": <true/false>, \"STEP-3\":<번역결과>}}\n",
    "\"\"\"\n",
    "text = \"William Shakespeare was an English playwrit, poet and actor.  He is widely regarded as the greatest writer in the English language and the world's pre-eminent dramatist.\"\n",
    "template = template.format(text=text)\n",
    "context = [{\"role\": \"user\",\"content\": template}]\n",
    "\n",
    "model_1 = 'gpt-3.5-turbo-1106'\n",
    "model_2 = 'gpt-4-0613'\n",
    "response = client.chat.completions.create(\n",
    "    model=model_2,\n",
    "    messages=context,\n",
    "    temperature=0,\n",
    "    top_p=0,\n",
    "    seed=1234\n",
    ").model_dump()\n",
    "pprint(json.loads(response['choices'][0]['message']['content']))\n",
    "# pprint(response.choices[0].message.content)\n"
   ]
  },
  {
   "cell_type": "code",
   "execution_count": null,
   "metadata": {},
   "outputs": [],
   "source": []
  },
  {
   "cell_type": "code",
   "execution_count": null,
   "metadata": {},
   "outputs": [],
   "source": []
  }
 ],
 "metadata": {
  "kernelspec": {
   "display_name": "base",
   "language": "python",
   "name": "python3"
  },
  "language_info": {
   "codemirror_mode": {
    "name": "ipython",
    "version": 3
   },
   "file_extension": ".py",
   "mimetype": "text/x-python",
   "name": "python",
   "nbconvert_exporter": "python",
   "pygments_lexer": "ipython3",
   "version": "3.11.7"
  }
 },
 "nbformat": 4,
 "nbformat_minor": 2
}
