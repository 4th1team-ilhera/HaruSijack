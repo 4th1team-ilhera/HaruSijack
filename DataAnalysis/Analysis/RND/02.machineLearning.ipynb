{
 "cells": [
  {
   "cell_type": "code",
   "execution_count": 1,
   "metadata": {},
   "outputs": [
    {
     "name": "stdout",
     "output_type": "stream",
     "text": [
      "\u001b[1m\u001b[92m___ 🟡 PLOTSETTING. \u001b[0m\n",
      "\u001b[93m______ 📌 matplotlibn plot 한글화 Setting\u001b[0m\n",
      "\u001b[95m___## OS platform 한글 세팅완료 ## ___\u001b[0m\n"
     ]
    }
   ],
   "source": [
    "#### Jupyter Basic Setting ####\n",
    "import pandas as pd,numpy as np\n",
    "import matplotlib.pyplot as plt,seaborn as sns  # 시각화\n",
    "import warnings; warnings.filterwarnings('ignore')  # 경고 무시\n",
    "import sys,os \n",
    "import xgboost as xgb\n",
    "# xgb.set_config(verbosity=0)# xgb 경고 끔\n",
    "pd.set_option('display.float_format', lambda x: '%.3f' % x) ##scientific 수치\n",
    "parent_dir = os.path.dirname(os.getcwd())\n",
    "parent_dir = os.path.dirname(parent_dir)\n",
    "sys.path.append(parent_dir)\n",
    "from Module.Functions import Service\n",
    "# 기본 세팅\n",
    "Service.plotSetting(\"seaborn-v0_8\")\n"
   ]
  },
  {
   "cell_type": "code",
   "execution_count": 2,
   "metadata": {},
   "outputs": [],
   "source": [
    "data_Folder='../../Data/승하차정제'\n",
    "finalT =pd.read_csv(os.path.join(data_Folder,'finalTable_18to24.csv'))"
   ]
  },
  {
   "cell_type": "code",
   "execution_count": 3,
   "metadata": {},
   "outputs": [],
   "source": [
    "test=finalT"
   ]
  },
  {
   "cell_type": "code",
   "execution_count": 5,
   "metadata": {},
   "outputs": [
    {
     "data": {
      "text/html": [
       "<div>\n",
       "<style scoped>\n",
       "    .dataframe tbody tr th:only-of-type {\n",
       "        vertical-align: middle;\n",
       "    }\n",
       "\n",
       "    .dataframe tbody tr th {\n",
       "        vertical-align: top;\n",
       "    }\n",
       "\n",
       "    .dataframe thead th {\n",
       "        text-align: right;\n",
       "    }\n",
       "</style>\n",
       "<table border=\"1\" class=\"dataframe\">\n",
       "  <thead>\n",
       "    <tr style=\"text-align: right;\">\n",
       "      <th></th>\n",
       "      <th>역사코드</th>\n",
       "      <th>역이름</th>\n",
       "      <th>호선</th>\n",
       "      <th>수송일자</th>\n",
       "      <th>승하차구분</th>\n",
       "      <th>05시인원</th>\n",
       "      <th>06시인원</th>\n",
       "      <th>07시인원</th>\n",
       "      <th>08시인원</th>\n",
       "      <th>09시인원</th>\n",
       "      <th>...</th>\n",
       "      <th>15배차</th>\n",
       "      <th>16배차</th>\n",
       "      <th>17배차</th>\n",
       "      <th>18배차</th>\n",
       "      <th>19배차</th>\n",
       "      <th>20배차</th>\n",
       "      <th>21배차</th>\n",
       "      <th>22배차</th>\n",
       "      <th>23배차</th>\n",
       "      <th>24배차</th>\n",
       "    </tr>\n",
       "  </thead>\n",
       "  <tbody>\n",
       "    <tr>\n",
       "      <th>0</th>\n",
       "      <td>150</td>\n",
       "      <td>서울역</td>\n",
       "      <td>8</td>\n",
       "      <td>2023-11-01</td>\n",
       "      <td>승차</td>\n",
       "      <td>342</td>\n",
       "      <td>520</td>\n",
       "      <td>1929</td>\n",
       "      <td>2864</td>\n",
       "      <td>2321</td>\n",
       "      <td>...</td>\n",
       "      <td>15.0</td>\n",
       "      <td>15.5</td>\n",
       "      <td>17.0</td>\n",
       "      <td>16.0</td>\n",
       "      <td>15.5</td>\n",
       "      <td>14.5</td>\n",
       "      <td>14.0</td>\n",
       "      <td>11.0</td>\n",
       "      <td>9.0</td>\n",
       "      <td>1.0</td>\n",
       "    </tr>\n",
       "    <tr>\n",
       "      <th>1</th>\n",
       "      <td>150</td>\n",
       "      <td>서울역</td>\n",
       "      <td>8</td>\n",
       "      <td>2023-11-01</td>\n",
       "      <td>하차</td>\n",
       "      <td>300</td>\n",
       "      <td>2166</td>\n",
       "      <td>5186</td>\n",
       "      <td>10500</td>\n",
       "      <td>6808</td>\n",
       "      <td>...</td>\n",
       "      <td>15.0</td>\n",
       "      <td>15.5</td>\n",
       "      <td>17.0</td>\n",
       "      <td>16.0</td>\n",
       "      <td>15.5</td>\n",
       "      <td>14.5</td>\n",
       "      <td>14.0</td>\n",
       "      <td>11.0</td>\n",
       "      <td>9.0</td>\n",
       "      <td>1.0</td>\n",
       "    </tr>\n",
       "    <tr>\n",
       "      <th>2</th>\n",
       "      <td>150</td>\n",
       "      <td>서울역</td>\n",
       "      <td>8</td>\n",
       "      <td>2023-11-02</td>\n",
       "      <td>승차</td>\n",
       "      <td>369</td>\n",
       "      <td>562</td>\n",
       "      <td>1859</td>\n",
       "      <td>2711</td>\n",
       "      <td>2522</td>\n",
       "      <td>...</td>\n",
       "      <td>15.0</td>\n",
       "      <td>15.5</td>\n",
       "      <td>17.0</td>\n",
       "      <td>16.0</td>\n",
       "      <td>15.5</td>\n",
       "      <td>14.5</td>\n",
       "      <td>14.0</td>\n",
       "      <td>11.0</td>\n",
       "      <td>9.0</td>\n",
       "      <td>1.0</td>\n",
       "    </tr>\n",
       "    <tr>\n",
       "      <th>3</th>\n",
       "      <td>150</td>\n",
       "      <td>서울역</td>\n",
       "      <td>8</td>\n",
       "      <td>2023-11-02</td>\n",
       "      <td>하차</td>\n",
       "      <td>361</td>\n",
       "      <td>2284</td>\n",
       "      <td>5117</td>\n",
       "      <td>10856</td>\n",
       "      <td>7006</td>\n",
       "      <td>...</td>\n",
       "      <td>15.0</td>\n",
       "      <td>15.5</td>\n",
       "      <td>17.0</td>\n",
       "      <td>16.0</td>\n",
       "      <td>15.5</td>\n",
       "      <td>14.5</td>\n",
       "      <td>14.0</td>\n",
       "      <td>11.0</td>\n",
       "      <td>9.0</td>\n",
       "      <td>1.0</td>\n",
       "    </tr>\n",
       "    <tr>\n",
       "      <th>4</th>\n",
       "      <td>150</td>\n",
       "      <td>서울역</td>\n",
       "      <td>8</td>\n",
       "      <td>2023-11-03</td>\n",
       "      <td>승차</td>\n",
       "      <td>340</td>\n",
       "      <td>513</td>\n",
       "      <td>1681</td>\n",
       "      <td>2821</td>\n",
       "      <td>2419</td>\n",
       "      <td>...</td>\n",
       "      <td>15.0</td>\n",
       "      <td>15.5</td>\n",
       "      <td>17.0</td>\n",
       "      <td>16.0</td>\n",
       "      <td>15.5</td>\n",
       "      <td>14.5</td>\n",
       "      <td>14.0</td>\n",
       "      <td>11.0</td>\n",
       "      <td>9.0</td>\n",
       "      <td>1.0</td>\n",
       "    </tr>\n",
       "  </tbody>\n",
       "</table>\n",
       "<p>5 rows × 51 columns</p>\n",
       "</div>"
      ],
      "text/plain": [
       "   역사코드  역이름  호선        수송일자 승하차구분  05시인원  06시인원  07시인원  08시인원  09시인원  ...  \\\n",
       "0   150  서울역   8  2023-11-01    승차    342    520   1929   2864   2321  ...   \n",
       "1   150  서울역   8  2023-11-01    하차    300   2166   5186  10500   6808  ...   \n",
       "2   150  서울역   8  2023-11-02    승차    369    562   1859   2711   2522  ...   \n",
       "3   150  서울역   8  2023-11-02    하차    361   2284   5117  10856   7006  ...   \n",
       "4   150  서울역   8  2023-11-03    승차    340    513   1681   2821   2419  ...   \n",
       "\n",
       "   15배차  16배차  17배차  18배차  19배차  20배차  21배차  22배차  23배차  24배차  \n",
       "0  15.0  15.5  17.0  16.0  15.5  14.5  14.0  11.0   9.0   1.0  \n",
       "1  15.0  15.5  17.0  16.0  15.5  14.5  14.0  11.0   9.0   1.0  \n",
       "2  15.0  15.5  17.0  16.0  15.5  14.5  14.0  11.0   9.0   1.0  \n",
       "3  15.0  15.5  17.0  16.0  15.5  14.5  14.0  11.0   9.0   1.0  \n",
       "4  15.0  15.5  17.0  16.0  15.5  14.5  14.0  11.0   9.0   1.0  \n",
       "\n",
       "[5 rows x 51 columns]"
      ]
     },
     "execution_count": 5,
     "metadata": {},
     "output_type": "execute_result"
    }
   ],
   "source": [
    "test.head()"
   ]
  },
  {
   "cell_type": "code",
   "execution_count": 80,
   "metadata": {},
   "outputs": [
    {
     "name": "stdout",
     "output_type": "stream",
     "text": [
      "\u001b[1m\u001b[92m___ 🟡 DATAINFOPROCESSING. \u001b[0m\n",
      "\u001b[93m______ 📌 Data frame 의 정제해야할 부분을 체크해주는 함수 입니다\u001b[0m\n",
      "\u001b[91m  1️⃣ Data row/colum numbers : 3958770/51\u001b[0m\n",
      "\u001b[91m  2️⃣ null check 결과Null 없는 clean data!\u001b[0m\n",
      "\u001b[91m  3️⃣ Column  Information (중복체크)\u001b[0m\n",
      "\tidx.columName |\t\t\t\t |Colum Info(dtype)|** \n",
      "\t ----------------------------------------------------------------\n",
      "\t0.[역사코드(int64)]: \t\t\t283/3958770 [uniq/raw]\n",
      "\t1.[역이름(object)]: \t\t\t253/3958770 [uniq/raw]\n",
      "\t2.[호선(int64)]: \t\t\t1/3958770 [uniq/raw]\n",
      "\t3.[수송일자(object)]: \t\t\t2222/3958770 [uniq/raw]\n",
      "\t4.[승하차구분(object)]: \t\t\t2/3958770 [uniq/raw]\n",
      "\t5.[05시인원(int64)]: \t\t\t2134/3958770 [uniq/raw]\n",
      "\t ...etc (추가로 45개의 칼럼이 있습니다 )\n"
     ]
    }
   ],
   "source": [
    "test.describe()\n",
    "Service.dataInfoProcessing(test,replace_Nan=True)\n",
    "test.to_csv(os.path.join(data_Folder,'finalTable_18to24.csv'))"
   ]
  },
  {
   "cell_type": "markdown",
   "metadata": {},
   "source": [
    "### 데이터 분석\n",
    "> "
   ]
  },
  {
   "cell_type": "code",
   "execution_count": 11,
   "metadata": {},
   "outputs": [],
   "source": [
    "test_2024=test[test['년도']==2024]"
   ]
  },
  {
   "cell_type": "code",
   "execution_count": 14,
   "metadata": {},
   "outputs": [],
   "source": [
    "test_st=test_2024[['역사코드', '역이름', '호선', '수송일자', '승하차구분', '05시인원', '06시인원', '07시인원',\n",
    "       '08시인원', '09시인원', '10시인원', '11시인원', '12시인원', '13시인원', '14시인원', '15시인원',\n",
    "       '16시인원', '17시인원', '18시인원', '19시인원', '20시인원', '21시인원', '22시인원', '23시인원',\n",
    "       '24시인원', '요일', '주중주말', '년도', '월', '주차', '공휴일']]"
   ]
  },
  {
   "cell_type": "code",
   "execution_count": 22,
   "metadata": {},
   "outputs": [
    {
     "data": {
      "text/plain": [
       "Index(['역사코드', '역이름', '호선', '수송일자', '승하차구분', '05시인원', '06시인원', '07시인원',\n",
       "       '08시인원', '09시인원', '10시인원', '11시인원', '12시인원', '13시인원', '14시인원', '15시인원',\n",
       "       '16시인원', '17시인원', '18시인원', '19시인원', '20시인원', '21시인원', '22시인원', '23시인원',\n",
       "       '24시인원', '요일', '주중주말', '년도', '월', '주차', '공휴일', '05배차', '06배차', '07배차',\n",
       "       '08배차', '09배차', '10배차', '11배차', '12배차', '13배차', '14배차', '15배차', '16배차',\n",
       "       '17배차', '18배차', '19배차', '20배차', '21배차', '22배차', '23배차', '24배차'],\n",
       "      dtype='object')"
      ]
     },
     "execution_count": 22,
     "metadata": {},
     "output_type": "execute_result"
    }
   ],
   "source": [
    "test_2024.columns"
   ]
  },
  {
   "cell_type": "markdown",
   "metadata": {},
   "source": [
    "---\n",
    "### 회귀 모델 만들기\n",
    "- input 과 output 을 나눈다"
   ]
  },
  {
   "cell_type": "markdown",
   "metadata": {},
   "source": [
    "---\n",
    "### Test, trainning 나누기 "
   ]
  },
  {
   "cell_type": "code",
   "execution_count": 74,
   "metadata": {},
   "outputs": [
    {
     "name": "stdout",
     "output_type": "stream",
     "text": [
      "RMSE: 858.03\n"
     ]
    },
    {
     "data": {
      "text/plain": [
       "array([[ 349.59897683,  630.25212832, 1736.18307186, ...,  649.9631509 ,\n",
       "         293.09105426,   31.70789856],\n",
       "       [ 188.47344188,  296.6328327 ,  816.8868605 , ...,  339.60694319,\n",
       "         149.42088106,   52.70366457],\n",
       "       [ 176.62702506,  320.72598097,  906.50050132, ...,  389.33025098,\n",
       "         179.3450799 ,   47.59625311],\n",
       "       ...,\n",
       "       [ 212.49960047,  358.80257931,  945.2491974 , ...,  595.50224698,\n",
       "         279.13410475,   45.82470456],\n",
       "       [ 106.71931897,  207.97023716,  508.61907326, ...,  154.58048078,\n",
       "          85.47755882, -110.27324941],\n",
       "       [ 179.26370855,  267.33437077,  470.32298841, ...,  431.4285946 ,\n",
       "         181.57233351,   -7.09972853]])"
      ]
     },
     "execution_count": 74,
     "metadata": {},
     "output_type": "execute_result"
    }
   ],
   "source": [
    "def linearRegression_test(data):\n",
    "    # linear regression 을 위해 수치화할수있는것만 남긴다. \n",
    "    test_2024_승차 =data[data['승하차구분']=='승차']\n",
    "    test_2024_하차 =data[data['승하차구분']=='하차']\n",
    "    X= test_2024_승차[['역사코드', '호선','요일', '년도', '월', '주차', '공휴일','05배차', '06배차', '07배차',\n",
    "        '08배차', '09배차', '10배차', '11배차', '12배차', '13배차', '14배차', '15배차', '16배차',\n",
    "        '17배차', '18배차', '19배차', '20배차', '21배차', '22배차', '23배차', '24배차']]\n",
    "    y =test_2024_승차[['05시인원', '06시인원', '07시인원',\n",
    "        '08시인원', '09시인원', '10시인원', '11시인원', '12시인원', '13시인원', '14시인원', '15시인원',\n",
    "        '16시인원', '17시인원', '18시인원', '19시인원', '20시인원', '21시인원', '22시인원', '23시인원',\n",
    "        '24시인원']]\n",
    "    ## 승하차구분, 주중주말 삭제 \n",
    "\n",
    "    from sklearn.model_selection import train_test_split\n",
    "    from sklearn.linear_model import LinearRegression\n",
    "\n",
    "    X_train,X_test, y_train,y_test = train_test_split(X,y,random_state=2)\n",
    "    lin_reg = LinearRegression()\n",
    "    # lin_reg.fit(X_train,y_train.iloc[:,1])\n",
    "    lin_reg.fit(X_train,y_train)\n",
    "    y_pred = lin_reg.predict(X_test)\n",
    "    \n",
    "    from sklearn.metrics import mean_squared_error\n",
    "    mse = mean_squared_error(y_test,y_pred)\n",
    "    rmse = np.sqrt(mse)\n",
    "    print(f\"RMSE: {rmse :0.2f}\")\n",
    "    return y_pred\n",
    "\n",
    "# test_2024=test[test['년도']==2022]\n",
    "# test_2024=test[test['년도']==2024]\n",
    "linearRegression_test(test)"
   ]
  },
  {
   "cell_type": "markdown",
   "metadata": {},
   "source": [
    "---\n",
    "### Linear Regression"
   ]
  },
  {
   "cell_type": "code",
   "execution_count": 79,
   "metadata": {},
   "outputs": [
    {
     "name": "stdout",
     "output_type": "stream",
     "text": [
      "RMSE: 858.03\n"
     ]
    }
   ],
   "source": [
    "# linear regression 을 위해 수치화할수있는것만 남긴다. \n",
    "test_승차 =test[test['승하차구분']=='승차']\n",
    "test_하차 =test[test['승하차구분']=='하차']\n",
    "X= test_승차[['역사코드', '호선','요일', '년도', '월', '주차', '공휴일','05배차', '06배차', '07배차',\n",
    "    '08배차', '09배차', '10배차', '11배차', '12배차', '13배차', '14배차', '15배차', '16배차',\n",
    "    '17배차', '18배차', '19배차', '20배차', '21배차', '22배차', '23배차', '24배차']]\n",
    "y =test_승차[['05시인원', '06시인원', '07시인원',\n",
    "    '08시인원', '09시인원', '10시인원', '11시인원', '12시인원', '13시인원', '14시인원', '15시인원',\n",
    "    '16시인원', '17시인원', '18시인원', '19시인원', '20시인원', '21시인원', '22시인원', '23시인원',\n",
    "    '24시인원']]\n",
    "## 승하차구분, 주중주말 삭제 \n",
    "\n",
    "from sklearn.model_selection import train_test_split\n",
    "from sklearn.linear_model import LinearRegression\n",
    "\n",
    "X_train,X_test, y_train,y_test = train_test_split(X,y,random_state=2)\n",
    "lin_reg = LinearRegression()\n",
    "# lin_reg.fit(X_train,y_train.iloc[:,1])\n",
    "lin_reg.fit(X_train,y_train)\n",
    "y_pred = lin_reg.predict(X_test)\n",
    "\n",
    "from sklearn.metrics import mean_squared_error\n",
    "mse = mean_squared_error(y_test,y_pred)\n",
    "rmse = np.sqrt(mse)\n",
    "print(f\"RMSE: {rmse :0.2f}\")"
   ]
  },
  {
   "cell_type": "code",
   "execution_count": 85,
   "metadata": {},
   "outputs": [
    {
     "data": {
      "text/html": [
       "<div>\n",
       "<style scoped>\n",
       "    .dataframe tbody tr th:only-of-type {\n",
       "        vertical-align: middle;\n",
       "    }\n",
       "\n",
       "    .dataframe tbody tr th {\n",
       "        vertical-align: top;\n",
       "    }\n",
       "\n",
       "    .dataframe thead th {\n",
       "        text-align: right;\n",
       "    }\n",
       "</style>\n",
       "<table border=\"1\" class=\"dataframe\">\n",
       "  <thead>\n",
       "    <tr style=\"text-align: right;\">\n",
       "      <th></th>\n",
       "      <th>역사코드</th>\n",
       "      <th>역이름</th>\n",
       "      <th>호선</th>\n",
       "      <th>수송일자</th>\n",
       "      <th>승하차구분</th>\n",
       "      <th>05시인원</th>\n",
       "      <th>06시인원</th>\n",
       "      <th>07시인원</th>\n",
       "      <th>08시인원</th>\n",
       "      <th>09시인원</th>\n",
       "      <th>...</th>\n",
       "      <th>15배차</th>\n",
       "      <th>16배차</th>\n",
       "      <th>17배차</th>\n",
       "      <th>18배차</th>\n",
       "      <th>19배차</th>\n",
       "      <th>20배차</th>\n",
       "      <th>21배차</th>\n",
       "      <th>22배차</th>\n",
       "      <th>23배차</th>\n",
       "      <th>24배차</th>\n",
       "    </tr>\n",
       "  </thead>\n",
       "  <tbody>\n",
       "    <tr>\n",
       "      <th>3958767</th>\n",
       "      <td>2761</td>\n",
       "      <td>부평구청</td>\n",
       "      <td>8</td>\n",
       "      <td>2018-12-30</td>\n",
       "      <td>하차</td>\n",
       "      <td>8</td>\n",
       "      <td>79</td>\n",
       "      <td>95</td>\n",
       "      <td>94</td>\n",
       "      <td>131</td>\n",
       "      <td>...</td>\n",
       "      <td>5.000</td>\n",
       "      <td>5.000</td>\n",
       "      <td>5.500</td>\n",
       "      <td>8.500</td>\n",
       "      <td>7.500</td>\n",
       "      <td>8.000</td>\n",
       "      <td>5.000</td>\n",
       "      <td>5.000</td>\n",
       "      <td>5.000</td>\n",
       "      <td>1.000</td>\n",
       "    </tr>\n",
       "    <tr>\n",
       "      <th>3958768</th>\n",
       "      <td>2761</td>\n",
       "      <td>부평구청</td>\n",
       "      <td>8</td>\n",
       "      <td>2018-12-31</td>\n",
       "      <td>승차</td>\n",
       "      <td>192</td>\n",
       "      <td>650</td>\n",
       "      <td>1995</td>\n",
       "      <td>1605</td>\n",
       "      <td>768</td>\n",
       "      <td>...</td>\n",
       "      <td>5.000</td>\n",
       "      <td>5.000</td>\n",
       "      <td>5.500</td>\n",
       "      <td>8.500</td>\n",
       "      <td>7.500</td>\n",
       "      <td>8.000</td>\n",
       "      <td>5.000</td>\n",
       "      <td>5.000</td>\n",
       "      <td>5.000</td>\n",
       "      <td>1.000</td>\n",
       "    </tr>\n",
       "    <tr>\n",
       "      <th>3958769</th>\n",
       "      <td>2761</td>\n",
       "      <td>부평구청</td>\n",
       "      <td>8</td>\n",
       "      <td>2018-12-31</td>\n",
       "      <td>하차</td>\n",
       "      <td>30</td>\n",
       "      <td>168</td>\n",
       "      <td>267</td>\n",
       "      <td>457</td>\n",
       "      <td>227</td>\n",
       "      <td>...</td>\n",
       "      <td>5.000</td>\n",
       "      <td>5.000</td>\n",
       "      <td>5.500</td>\n",
       "      <td>8.500</td>\n",
       "      <td>7.500</td>\n",
       "      <td>8.000</td>\n",
       "      <td>5.000</td>\n",
       "      <td>5.000</td>\n",
       "      <td>5.000</td>\n",
       "      <td>1.000</td>\n",
       "    </tr>\n",
       "  </tbody>\n",
       "</table>\n",
       "<p>3 rows × 51 columns</p>\n",
       "</div>"
      ],
      "text/plain": [
       "         역사코드   역이름  호선        수송일자 승하차구분  05시인원  06시인원  07시인원  08시인원  09시인원  \\\n",
       "3958767  2761  부평구청   8  2018-12-30    하차      8     79     95     94    131   \n",
       "3958768  2761  부평구청   8  2018-12-31    승차    192    650   1995   1605    768   \n",
       "3958769  2761  부평구청   8  2018-12-31    하차     30    168    267    457    227   \n",
       "\n",
       "         ...  15배차  16배차  17배차  18배차  19배차  20배차  21배차  22배차  23배차  24배차  \n",
       "3958767  ... 5.000 5.000 5.500 8.500 7.500 8.000 5.000 5.000 5.000 1.000  \n",
       "3958768  ... 5.000 5.000 5.500 8.500 7.500 8.000 5.000 5.000 5.000 1.000  \n",
       "3958769  ... 5.000 5.000 5.500 8.500 7.500 8.000 5.000 5.000 5.000 1.000  \n",
       "\n",
       "[3 rows x 51 columns]"
      ]
     },
     "execution_count": 85,
     "metadata": {},
     "output_type": "execute_result"
    }
   ],
   "source": [
    "test.tail(3)"
   ]
  },
  {
   "cell_type": "code",
   "execution_count": 49,
   "metadata": {},
   "outputs": [
    {
     "name": "stdout",
     "output_type": "stream",
     "text": [
      "RMSE: 871.71\n"
     ]
    }
   ],
   "source": [
    "from sklearn.metrics import mean_squared_error\n",
    "mse = mean_squared_error(y_test,y_pred)\n",
    "rmse = np.sqrt(mse)\n",
    "print(f\"RMSE: {rmse :0.2f}\")"
   ]
  },
  {
   "cell_type": "markdown",
   "metadata": {},
   "source": [
    "---\n",
    "### RMSE 871 값은  좋은값인가?"
   ]
  },
  {
   "cell_type": "code",
   "execution_count": 84,
   "metadata": {},
   "outputs": [
    {
     "data": {
      "text/plain": [
       "count   1979385.000\n",
       "mean        843.479\n",
       "std         826.086\n",
       "min           0.000\n",
       "25%         337.000\n",
       "50%         605.000\n",
       "75%        1059.000\n",
       "max        9797.000\n",
       "Name: 09시인원, dtype: float64"
      ]
     },
     "execution_count": 84,
     "metadata": {},
     "output_type": "execute_result"
    }
   ],
   "source": [
    "pd.set_option('display.float_format', lambda x: '%.3f' % x)\n",
    "test_승차['09시인원'].describe()"
   ]
  },
  {
   "cell_type": "markdown",
   "metadata": {},
   "source": [
    "---\n",
    "### xGBoost model regression"
   ]
  },
  {
   "cell_type": "code",
   "execution_count": 87,
   "metadata": {},
   "outputs": [],
   "source": [
    "from xgboost import XGBRegressor\n",
    "xg_reg  = XGBRegressor()\n",
    "xg_reg.fit(X_train,y_train)\n",
    "y_pred  = xg_reg.predict(X_test)\n",
    "mse = mean_squared_error(y_test,y_pred)\n",
    "rmse = np.sqrt(mse)\n",
    "print(f\"RMSE: {rmse :0.2f}\")\n"
   ]
  },
  {
   "cell_type": "code",
   "execution_count": 88,
   "metadata": {},
   "outputs": [
    {
     "name": "stdout",
     "output_type": "stream",
     "text": [
      "RMSE: 181.64\n"
     ]
    }
   ],
   "source": [
    "y_pred  = xg_reg.predict(X_test)\n",
    "mse = mean_squared_error(y_test,y_pred)\n",
    "rmse = np.sqrt(mse)\n",
    "print(f\"RMSE: {rmse :0.2f}\")"
   ]
  },
  {
   "cell_type": "markdown",
   "metadata": {},
   "source": [
    "---\n",
    "### Cross Validation\n",
    "\n"
   ]
  },
  {
   "cell_type": "code",
   "execution_count": null,
   "metadata": {},
   "outputs": [],
   "source": []
  },
  {
   "cell_type": "code",
   "execution_count": null,
   "metadata": {},
   "outputs": [],
   "source": []
  },
  {
   "cell_type": "code",
   "execution_count": null,
   "metadata": {},
   "outputs": [],
   "source": []
  }
 ],
 "metadata": {
  "kernelspec": {
   "display_name": "base",
   "language": "python",
   "name": "python3"
  },
  "language_info": {
   "codemirror_mode": {
    "name": "ipython",
    "version": 3
   },
   "file_extension": ".py",
   "mimetype": "text/x-python",
   "name": "python",
   "nbconvert_exporter": "python",
   "pygments_lexer": "ipython3",
   "version": "3.11.7"
  }
 },
 "nbformat": 4,
 "nbformat_minor": 2
}
