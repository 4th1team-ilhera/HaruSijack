{
 "cells": [
  {
   "cell_type": "markdown",
   "metadata": {},
   "source": [
    "---\n",
    "## Projectr : 하루시작 지하철 혼잡도 분석 02 \n",
    "## Description : \n",
    "    - 서울 교통공 역별 일별 시간대별 승하차인원 정보\n",
    "    [source link] (https://data.seoul.go.kr/dataList/OA-12921/F/1/datasetView.do#)\n",
    "    \n",
    "## Author : Forrest Dpark (분석 담당)\n",
    "## Date : 2024.05.31 ~\n",
    "## Detail : \n",
    "## Update: \n",
    "    - 2024.06.02 pdg : 일별 데이터 정제 \n",
    "        - 기존 테스트 데이터 의 일별 데이터가 없는 부분 참고하여 일별 데이터 추출 및 데이터 칼럼 정제를 시작.\n"
   ]
  },
  {
   "cell_type": "markdown",
   "metadata": {},
   "source": []
  }
 ],
 "metadata": {
  "language_info": {
   "name": "python"
  }
 },
 "nbformat": 4,
 "nbformat_minor": 2
}
