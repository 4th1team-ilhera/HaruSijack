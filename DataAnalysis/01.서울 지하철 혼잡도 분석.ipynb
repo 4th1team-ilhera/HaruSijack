{
 "cells": [
  {
   "cell_type": "markdown",
   "metadata": {},
   "source": [
    "---\n",
    "## Projectr : 하루시작 지하철 혼잡도 분석 02 \n",
    "## Description : \n",
    "    - 서울 교통공 역별 일별 시간대별 승하차인원 정보\n",
    "    [source link] (https://data.seoul.go.kr/dataList/OA-12921/F/1/datasetView.do#)\n",
    "    \n",
    "## Author : Forrest Dpark (분석 담당)\n",
    "## Date : 2024.05.31 ~\n",
    "## Detail : \n",
    "## Update: \n",
    "    - 2024.06.02 pdg : 일별 데이터 정제 \n",
    "        - 기존 테스트 데이터 의 일별 데이터가 없는 부분 참고하여 일별 데이터 추출 및 데이터 칼럼 정제를 시작.\n"
   ]
  },
  {
   "cell_type": "code",
   "execution_count": 6,
   "metadata": {},
   "outputs": [
    {
     "name": "stdout",
     "output_type": "stream",
     "text": [
      "___## OS platform 한글 세팅완료 ## ___\n"
     ]
    }
   ],
   "source": [
    "import pandas as pd ,numpy as  np # Data manipulatioin\n",
    "import seaborn as sns,matplotlib.pyplot as plt # visiulization\n",
    "import warnings;warnings.filterwarnings('ignore') # 경고 무시 \n",
    "# 기본 세팅\n",
    "def plotSetting(pltStyle):\n",
    "    import matplotlib.pyplot as plt # visiulization\n",
    "    import platform\n",
    "    from matplotlib import font_manager, rc # rc : 폰트 변경 모듈font_manager : 폰트 관리 모듈\n",
    "    plt.style.use(pltStyle)\n",
    "    plt.rcParams['axes.unicode_minus'] = False# unicode 설정\n",
    "    if platform.system() == 'Darwin': rc('font', family='AppleGothic') # os가 macos\n",
    "    elif platform.system() == 'Windows': # os가 windows\n",
    "        path = 'c:/Windows/Fonts/malgun.ttf' \n",
    "        font_name = font_manager.FontProperties(fname=path).get_name()\n",
    "        rc('font', family=font_name)\n",
    "    else:\n",
    "        print(\"Unknown System\")\n",
    "    print(\"___## OS platform 한글 세팅완료 ## ___\")\n",
    "# graph style seaborn\n",
    "plotSetting(\"seaborn-v0_8\")\n"
   ]
  },
  {
   "cell_type": "code",
   "execution_count": 7,
   "metadata": {},
   "outputs": [
    {
     "data": {
      "text/html": [
       "<div>\n",
       "<style scoped>\n",
       "    .dataframe tbody tr th:only-of-type {\n",
       "        vertical-align: middle;\n",
       "    }\n",
       "\n",
       "    .dataframe tbody tr th {\n",
       "        vertical-align: top;\n",
       "    }\n",
       "\n",
       "    .dataframe thead th {\n",
       "        text-align: right;\n",
       "    }\n",
       "</style>\n",
       "<table border=\"1\" class=\"dataframe\">\n",
       "  <thead>\n",
       "    <tr style=\"text-align: right;\">\n",
       "      <th></th>\n",
       "      <th>연번</th>\n",
       "      <th>수송일자</th>\n",
       "      <th>호선</th>\n",
       "      <th>고유역번호(외부역코드)</th>\n",
       "      <th>역명</th>\n",
       "      <th>승하차구분</th>\n",
       "      <th>06시이전</th>\n",
       "      <th>06-07시간대</th>\n",
       "      <th>07-08시간대</th>\n",
       "      <th>08-09시간대</th>\n",
       "      <th>...</th>\n",
       "      <th>15-16시간대</th>\n",
       "      <th>16-17시간대</th>\n",
       "      <th>17-18시간대</th>\n",
       "      <th>18-19시간대</th>\n",
       "      <th>19-20시간대</th>\n",
       "      <th>20-21시간대</th>\n",
       "      <th>21-22시간대</th>\n",
       "      <th>22-23시간대</th>\n",
       "      <th>23-24시간대</th>\n",
       "      <th>24시이후</th>\n",
       "    </tr>\n",
       "  </thead>\n",
       "  <tbody>\n",
       "    <tr>\n",
       "      <th>0</th>\n",
       "      <td>1</td>\n",
       "      <td>2022-01-01</td>\n",
       "      <td>1</td>\n",
       "      <td>150</td>\n",
       "      <td>서울역</td>\n",
       "      <td>승차</td>\n",
       "      <td>120</td>\n",
       "      <td>137</td>\n",
       "      <td>211</td>\n",
       "      <td>439</td>\n",
       "      <td>...</td>\n",
       "      <td>1566</td>\n",
       "      <td>1686</td>\n",
       "      <td>1591</td>\n",
       "      <td>1358</td>\n",
       "      <td>1062</td>\n",
       "      <td>899</td>\n",
       "      <td>1327</td>\n",
       "      <td>814</td>\n",
       "      <td>234</td>\n",
       "      <td>NaN</td>\n",
       "    </tr>\n",
       "    <tr>\n",
       "      <th>1</th>\n",
       "      <td>2</td>\n",
       "      <td>2022-01-01</td>\n",
       "      <td>1</td>\n",
       "      <td>150</td>\n",
       "      <td>서울역</td>\n",
       "      <td>하차</td>\n",
       "      <td>113</td>\n",
       "      <td>560</td>\n",
       "      <td>617</td>\n",
       "      <td>910</td>\n",
       "      <td>...</td>\n",
       "      <td>1329</td>\n",
       "      <td>1251</td>\n",
       "      <td>1126</td>\n",
       "      <td>884</td>\n",
       "      <td>764</td>\n",
       "      <td>654</td>\n",
       "      <td>728</td>\n",
       "      <td>416</td>\n",
       "      <td>131</td>\n",
       "      <td>NaN</td>\n",
       "    </tr>\n",
       "    <tr>\n",
       "      <th>2</th>\n",
       "      <td>3</td>\n",
       "      <td>2022-01-01</td>\n",
       "      <td>1</td>\n",
       "      <td>151</td>\n",
       "      <td>시청</td>\n",
       "      <td>승차</td>\n",
       "      <td>38</td>\n",
       "      <td>66</td>\n",
       "      <td>101</td>\n",
       "      <td>139</td>\n",
       "      <td>...</td>\n",
       "      <td>474</td>\n",
       "      <td>550</td>\n",
       "      <td>672</td>\n",
       "      <td>528</td>\n",
       "      <td>420</td>\n",
       "      <td>434</td>\n",
       "      <td>491</td>\n",
       "      <td>232</td>\n",
       "      <td>38</td>\n",
       "      <td>NaN</td>\n",
       "    </tr>\n",
       "    <tr>\n",
       "      <th>3</th>\n",
       "      <td>4</td>\n",
       "      <td>2022-01-01</td>\n",
       "      <td>1</td>\n",
       "      <td>151</td>\n",
       "      <td>시청</td>\n",
       "      <td>하차</td>\n",
       "      <td>31</td>\n",
       "      <td>195</td>\n",
       "      <td>224</td>\n",
       "      <td>380</td>\n",
       "      <td>...</td>\n",
       "      <td>408</td>\n",
       "      <td>377</td>\n",
       "      <td>354</td>\n",
       "      <td>213</td>\n",
       "      <td>131</td>\n",
       "      <td>98</td>\n",
       "      <td>137</td>\n",
       "      <td>61</td>\n",
       "      <td>24</td>\n",
       "      <td>NaN</td>\n",
       "    </tr>\n",
       "    <tr>\n",
       "      <th>4</th>\n",
       "      <td>5</td>\n",
       "      <td>2022-01-01</td>\n",
       "      <td>1</td>\n",
       "      <td>152</td>\n",
       "      <td>종각</td>\n",
       "      <td>승차</td>\n",
       "      <td>44</td>\n",
       "      <td>71</td>\n",
       "      <td>86</td>\n",
       "      <td>158</td>\n",
       "      <td>...</td>\n",
       "      <td>889</td>\n",
       "      <td>964</td>\n",
       "      <td>1024</td>\n",
       "      <td>803</td>\n",
       "      <td>855</td>\n",
       "      <td>1099</td>\n",
       "      <td>1209</td>\n",
       "      <td>255</td>\n",
       "      <td>62</td>\n",
       "      <td>NaN</td>\n",
       "    </tr>\n",
       "  </tbody>\n",
       "</table>\n",
       "<p>5 rows × 26 columns</p>\n",
       "</div>"
      ],
      "text/plain": [
       "   연번        수송일자  호선 고유역번호(외부역코드)   역명 승하차구분  06시이전  06-07시간대  07-08시간대  \\\n",
       "0   1  2022-01-01   1          150  서울역    승차    120       137       211   \n",
       "1   2  2022-01-01   1          150  서울역    하차    113       560       617   \n",
       "2   3  2022-01-01   1          151   시청    승차     38        66       101   \n",
       "3   4  2022-01-01   1          151   시청    하차     31       195       224   \n",
       "4   5  2022-01-01   1          152   종각    승차     44        71        86   \n",
       "\n",
       "   08-09시간대  ...  15-16시간대  16-17시간대  17-18시간대  18-19시간대  19-20시간대  20-21시간대  \\\n",
       "0       439  ...      1566      1686      1591      1358      1062       899   \n",
       "1       910  ...      1329      1251      1126       884       764       654   \n",
       "2       139  ...       474       550       672       528       420       434   \n",
       "3       380  ...       408       377       354       213       131        98   \n",
       "4       158  ...       889       964      1024       803       855      1099   \n",
       "\n",
       "   21-22시간대  22-23시간대  23-24시간대  24시이후  \n",
       "0      1327       814       234    NaN  \n",
       "1       728       416       131    NaN  \n",
       "2       491       232        38    NaN  \n",
       "3       137        61        24    NaN  \n",
       "4      1209       255        62    NaN  \n",
       "\n",
       "[5 rows x 26 columns]"
      ]
     },
     "execution_count": 7,
     "metadata": {},
     "output_type": "execute_result"
    }
   ],
   "source": [
    "# Data loading \n",
    "subway = pd.read_csv(\"../Data/교통공사데이터/서울교통공사_역별 일별 시간대별 승하차인원 정보_20221231.csv\", encoding='euc-kr')\n",
    "subway.head()"
   ]
  },
  {
   "cell_type": "code",
   "execution_count": 108,
   "metadata": {},
   "outputs": [
    {
     "name": "stdout",
     "output_type": "stream",
     "text": [
      "1. Data colum numbers :  26\n",
      "2. 82346개의 null 이 있습니다!\n",
      "3. Column  Information (중복체크)\n",
      "\tidx.columName |\t\t\t\t |Colum Info(dtype)|** \n",
      "\t ----------------------------------------------------------------\n",
      "\t0.[연번(int64)]: \t\t\t199080/199080 [uniq/raw]\n",
      "\t1.[수송일자(object)]: \t\t\t365/199080 [uniq/raw]\n",
      "\t2.[호선(int64)]: \t\t\t8/199080 [uniq/raw]\n",
      "\t3.[고유역번호(외부역코드)(object)]: \t\t558/199080 [uniq/raw]\n",
      "\t4.[역명(object)]: \t\t\t244/199080 [uniq/raw]\n",
      "\t5.[승하차구분(object)]: \t\t\t2/199080 [uniq/raw]\n",
      "\t6.[06시이전(int64)]: \t\t\t1596/199080 [uniq/raw]\n",
      "\t ...etc (추가로 21개의 칼럼이 있습니다 )\n"
     ]
    }
   ],
   "source": [
    "def dataInfoProcessing(df):\n",
    "    ''' \n",
    "    # Fucntion Description :  Data frame 의 정제해야할 부분을 체크해주는 함수 \n",
    "    # Date : 2024.06.02 \n",
    "    # Author : Forrest D Park \n",
    "    # update : \n",
    "        * 2024.06.02 by pdg: \n",
    "            - \n",
    "\n",
    "\n",
    "    '''\n",
    "    \n",
    "    print(\"1. Data colum numbers : \",len(df.columns))\n",
    "    #print(subway.columns)\n",
    "    #print(subway.info())\n",
    "    null_message =f\"{df.isnull().sum().sum()}개의 null 이 있습니다!\" if df.isnull().sum().sum() else \"Null 없는 clean data!\"\n",
    "    print(\"2.\",null_message)\n",
    "    print(\"3. Column  Information (중복체크)\")\n",
    "    print( \"\\tidx.columName |\\t\\t\\t\\t |Colum Info(dtype)|** \")\n",
    "    print( \"\\t\",\"--\"*len(\"columIdx |\\t\\t\\t\\t **|Col(dtype)|** \"))\n",
    "    for idx, col in enumerate(df.dtypes.keys()):\n",
    "        if idx< 7:\n",
    "            if len(f\"\\t{idx}.[{col}({df.dtypes[col]})]:\")<20:\n",
    "                print(f\"\\t{idx}.[{col}({df.dtypes[col]})]:\",\\\n",
    "                    f\"{len(df[col].unique())}/{len(df[col])} [uniq/raw]\", sep=\" \\t\\t\\t\")\n",
    "            else:\n",
    "                    print(f\"\\t{idx}.[{col}({df.dtypes[col]})]:\",\\\n",
    "                    f\"{len(df[col].unique())}/{len(df[col])} [uniq/raw]\", sep=\" \\t\\t\")\n",
    "\n",
    "    else: \n",
    "        print(f\"\\t ...etc (추가로 {len(df.dtypes.keys())-5}개의 칼럼이 있습니다 )\")\n",
    "\n",
    "              \n",
    "dataInfoProcessing(subway)\n",
    "\n",
    "# subway.info(show_counts=False)\n",
    "# subway.value_counts('수송일자')\n",
    "\n",
    "\n",
    "\n"
   ]
  },
  {
   "cell_type": "code",
   "execution_count": 85,
   "metadata": {},
   "outputs": [
    {
     "data": {
      "text/plain": [
       "24"
      ]
     },
     "execution_count": 85,
     "metadata": {},
     "output_type": "execute_result"
    }
   ],
   "source": [
    "len(\"3.[고유역번호(외부역코드)(object)]\")"
   ]
  },
  {
   "cell_type": "code",
   "execution_count": null,
   "metadata": {},
   "outputs": [],
   "source": []
  },
  {
   "cell_type": "code",
   "execution_count": null,
   "metadata": {},
   "outputs": [],
   "source": []
  },
  {
   "cell_type": "code",
   "execution_count": null,
   "metadata": {},
   "outputs": [],
   "source": []
  },
  {
   "cell_type": "code",
   "execution_count": null,
   "metadata": {},
   "outputs": [],
   "source": []
  },
  {
   "cell_type": "code",
   "execution_count": null,
   "metadata": {},
   "outputs": [],
   "source": []
  },
  {
   "cell_type": "code",
   "execution_count": null,
   "metadata": {},
   "outputs": [],
   "source": []
  },
  {
   "cell_type": "code",
   "execution_count": null,
   "metadata": {},
   "outputs": [],
   "source": []
  },
  {
   "cell_type": "code",
   "execution_count": null,
   "metadata": {},
   "outputs": [],
   "source": []
  },
  {
   "cell_type": "code",
   "execution_count": null,
   "metadata": {},
   "outputs": [],
   "source": []
  },
  {
   "cell_type": "code",
   "execution_count": null,
   "metadata": {},
   "outputs": [],
   "source": []
  },
  {
   "cell_type": "code",
   "execution_count": null,
   "metadata": {},
   "outputs": [],
   "source": []
  },
  {
   "cell_type": "code",
   "execution_count": null,
   "metadata": {},
   "outputs": [],
   "source": []
  },
  {
   "cell_type": "code",
   "execution_count": null,
   "metadata": {},
   "outputs": [],
   "source": []
  },
  {
   "cell_type": "code",
   "execution_count": null,
   "metadata": {},
   "outputs": [],
   "source": []
  },
  {
   "cell_type": "code",
   "execution_count": null,
   "metadata": {},
   "outputs": [],
   "source": []
  },
  {
   "cell_type": "code",
   "execution_count": null,
   "metadata": {},
   "outputs": [],
   "source": []
  },
  {
   "cell_type": "code",
   "execution_count": null,
   "metadata": {},
   "outputs": [],
   "source": []
  },
  {
   "cell_type": "code",
   "execution_count": null,
   "metadata": {},
   "outputs": [],
   "source": []
  },
  {
   "cell_type": "code",
   "execution_count": null,
   "metadata": {},
   "outputs": [],
   "source": []
  },
  {
   "cell_type": "code",
   "execution_count": null,
   "metadata": {},
   "outputs": [],
   "source": []
  },
  {
   "cell_type": "code",
   "execution_count": null,
   "metadata": {},
   "outputs": [],
   "source": []
  },
  {
   "cell_type": "code",
   "execution_count": null,
   "metadata": {},
   "outputs": [],
   "source": []
  }
 ],
 "metadata": {
  "kernelspec": {
   "display_name": "base",
   "language": "python",
   "name": "python3"
  },
  "language_info": {
   "codemirror_mode": {
    "name": "ipython",
    "version": 3
   },
   "file_extension": ".py",
   "mimetype": "text/x-python",
   "name": "python",
   "nbconvert_exporter": "python",
   "pygments_lexer": "ipython3",
   "version": "3.11.7"
  }
 },
 "nbformat": 4,
 "nbformat_minor": 2
}
