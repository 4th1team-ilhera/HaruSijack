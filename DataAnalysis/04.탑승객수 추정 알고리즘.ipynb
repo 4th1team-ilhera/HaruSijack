{
 "cells": [
  {
   "cell_type": "markdown",
   "metadata": {},
   "source": [
    "---\n",
    "### Project : 하루시작 \n",
    "### Description : 모든역의 승차인원과 하차인원을 알때 현재 시간대의 특정역에서의 평균 탑승객수를 계산하는 알고리즘 \n",
    "\n",
    "    \n",
    "### Author : Forrest Dpark\n",
    "### Date : 2024.06.05 ~\n",
    "### Detail : \n",
    "### Update: \n",
    "    - 2024.06.05 by pdg : 알고리즘 테스트\n",
    "        - 기본 모듈 프로그램 만들기\n",
    "---"
   ]
  },
  {
   "cell_type": "code",
   "execution_count": 3,
   "metadata": {},
   "outputs": [
    {
     "name": "stdout",
     "output_type": "stream",
     "text": [
      "___## OS platform 한글 세팅완료 ## ___\n"
     ]
    }
   ],
   "source": [
    "import pandas as pd ,numpy as  np # Data manipulatioin\n",
    "import seaborn as sns,matplotlib.pyplot as plt # visiulization\n",
    "import warnings;warnings.filterwarnings('ignore') # 경고 무시 \n",
    "# 기본 세팅\n",
    "from Functions import Service; \n",
    "Service.plotSetting()"
   ]
  },
  {
   "cell_type": "code",
   "execution_count": null,
   "metadata": {},
   "outputs": [],
   "source": [
    "\n"
   ]
  }
 ],
 "metadata": {
  "kernelspec": {
   "display_name": "base",
   "language": "python",
   "name": "python3"
  },
  "language_info": {
   "codemirror_mode": {
    "name": "ipython",
    "version": 3
   },
   "file_extension": ".py",
   "mimetype": "text/x-python",
   "name": "python",
   "nbconvert_exporter": "python",
   "pygments_lexer": "ipython3",
   "version": "3.11.7"
  }
 },
 "nbformat": 4,
 "nbformat_minor": 2
}
