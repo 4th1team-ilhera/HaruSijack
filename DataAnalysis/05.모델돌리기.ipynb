{
 "cells": [
  {
   "cell_type": "markdown",
   "metadata": {},
   "source": [
    "---\n",
    "### Projectr : 하루시작 지하철 혼잡도 머신러닝 \n",
    "### Description : \n",
    "    \n",
    "### Author : Forrest Dpark\n",
    "### Date : 2024.06.04+ ~\n",
    "### Detail : \n",
    "### Update: \n",
    "    - 2024.06.04 by pdg : 머신러닝을 위한 데이터 셋 만들기 \n",
    "        - 함수 수정 \n",
    "        - 칼럼 순서를 재벼열하는 함수를 만듬. \n",
    "    \n",
    "---"
   ]
  },
  {
   "cell_type": "code",
   "execution_count": 1,
   "metadata": {},
   "outputs": [
    {
     "name": "stdout",
     "output_type": "stream",
     "text": [
      "___## OS platform 한글 세팅완료 ## ___\n"
     ]
    }
   ],
   "source": [
    "import pandas as pd ,numpy as  np # Data manipulatioin\n",
    "import seaborn as sns,matplotlib.pyplot as plt # visiulization\n",
    "import warnings;warnings.filterwarnings('ignore') # 경고 무시 \n",
    "# 기본 세팅\n",
    "from Functions import Service \n",
    "Service.plotSetting()\n"
   ]
  },
  {
   "cell_type": "code",
   "execution_count": 5,
   "metadata": {},
   "outputs": [
    {
     "data": {
      "text/html": [
       "<div>\n",
       "<style scoped>\n",
       "    .dataframe tbody tr th:only-of-type {\n",
       "        vertical-align: middle;\n",
       "    }\n",
       "\n",
       "    .dataframe tbody tr th {\n",
       "        vertical-align: top;\n",
       "    }\n",
       "\n",
       "    .dataframe thead th {\n",
       "        text-align: right;\n",
       "    }\n",
       "</style>\n",
       "<table border=\"1\" class=\"dataframe\">\n",
       "  <thead>\n",
       "    <tr style=\"text-align: right;\">\n",
       "      <th></th>\n",
       "      <th>월</th>\n",
       "      <th>주차</th>\n",
       "      <th>공휴일</th>\n",
       "      <th>연번</th>\n",
       "      <th>호선</th>\n",
       "      <th>요일</th>\n",
       "      <th>역명</th>\n",
       "      <th>승하차구분</th>\n",
       "      <th>역사코드</th>\n",
       "      <th>역_이름코드</th>\n",
       "      <th>...</th>\n",
       "      <th>15시인원</th>\n",
       "      <th>16시인원</th>\n",
       "      <th>17시인원</th>\n",
       "      <th>18시인원</th>\n",
       "      <th>19시인원</th>\n",
       "      <th>20시인원</th>\n",
       "      <th>21시인원</th>\n",
       "      <th>22시인원</th>\n",
       "      <th>23시인원</th>\n",
       "      <th>24시인원</th>\n",
       "    </tr>\n",
       "  </thead>\n",
       "  <tbody>\n",
       "    <tr>\n",
       "      <th>0</th>\n",
       "      <td>1</td>\n",
       "      <td>52</td>\n",
       "      <td>1</td>\n",
       "      <td>970</td>\n",
       "      <td>7</td>\n",
       "      <td>0</td>\n",
       "      <td>장암</td>\n",
       "      <td>하차</td>\n",
       "      <td>2711</td>\n",
       "      <td>장암_2711</td>\n",
       "      <td>...</td>\n",
       "      <td>41</td>\n",
       "      <td>26</td>\n",
       "      <td>28</td>\n",
       "      <td>28</td>\n",
       "      <td>26</td>\n",
       "      <td>10</td>\n",
       "      <td>10</td>\n",
       "      <td>16</td>\n",
       "      <td>5</td>\n",
       "      <td>0.0</td>\n",
       "    </tr>\n",
       "    <tr>\n",
       "      <th>1</th>\n",
       "      <td>1</td>\n",
       "      <td>1</td>\n",
       "      <td>1</td>\n",
       "      <td>1514</td>\n",
       "      <td>7</td>\n",
       "      <td>1</td>\n",
       "      <td>장암</td>\n",
       "      <td>하차</td>\n",
       "      <td>2711</td>\n",
       "      <td>장암_2711</td>\n",
       "      <td>...</td>\n",
       "      <td>24</td>\n",
       "      <td>44</td>\n",
       "      <td>47</td>\n",
       "      <td>89</td>\n",
       "      <td>117</td>\n",
       "      <td>64</td>\n",
       "      <td>41</td>\n",
       "      <td>22</td>\n",
       "      <td>14</td>\n",
       "      <td>0.0</td>\n",
       "    </tr>\n",
       "    <tr>\n",
       "      <th>2</th>\n",
       "      <td>1</td>\n",
       "      <td>1</td>\n",
       "      <td>1</td>\n",
       "      <td>2060</td>\n",
       "      <td>7</td>\n",
       "      <td>2</td>\n",
       "      <td>장암</td>\n",
       "      <td>하차</td>\n",
       "      <td>2711</td>\n",
       "      <td>장암_2711</td>\n",
       "      <td>...</td>\n",
       "      <td>32</td>\n",
       "      <td>42</td>\n",
       "      <td>45</td>\n",
       "      <td>93</td>\n",
       "      <td>114</td>\n",
       "      <td>63</td>\n",
       "      <td>46</td>\n",
       "      <td>32</td>\n",
       "      <td>15</td>\n",
       "      <td>0.0</td>\n",
       "    </tr>\n",
       "    <tr>\n",
       "      <th>3</th>\n",
       "      <td>1</td>\n",
       "      <td>1</td>\n",
       "      <td>1</td>\n",
       "      <td>2608</td>\n",
       "      <td>7</td>\n",
       "      <td>3</td>\n",
       "      <td>장암</td>\n",
       "      <td>하차</td>\n",
       "      <td>2711</td>\n",
       "      <td>장암_2711</td>\n",
       "      <td>...</td>\n",
       "      <td>35</td>\n",
       "      <td>29</td>\n",
       "      <td>54</td>\n",
       "      <td>113</td>\n",
       "      <td>107</td>\n",
       "      <td>70</td>\n",
       "      <td>44</td>\n",
       "      <td>21</td>\n",
       "      <td>14</td>\n",
       "      <td>0.0</td>\n",
       "    </tr>\n",
       "    <tr>\n",
       "      <th>4</th>\n",
       "      <td>1</td>\n",
       "      <td>1</td>\n",
       "      <td>1</td>\n",
       "      <td>3152</td>\n",
       "      <td>7</td>\n",
       "      <td>4</td>\n",
       "      <td>장암</td>\n",
       "      <td>하차</td>\n",
       "      <td>2711</td>\n",
       "      <td>장암_2711</td>\n",
       "      <td>...</td>\n",
       "      <td>29</td>\n",
       "      <td>51</td>\n",
       "      <td>44</td>\n",
       "      <td>94</td>\n",
       "      <td>107</td>\n",
       "      <td>57</td>\n",
       "      <td>42</td>\n",
       "      <td>21</td>\n",
       "      <td>7</td>\n",
       "      <td>0.0</td>\n",
       "    </tr>\n",
       "  </tbody>\n",
       "</table>\n",
       "<p>5 rows × 54 columns</p>\n",
       "</div>"
      ],
      "text/plain": [
       "   월  주차  공휴일    연번  호선  요일  역명 승하차구분  역사코드   역_이름코드  ...  15시인원  16시인원  \\\n",
       "0  1  52    1   970   7   0  장암    하차  2711  장암_2711  ...     41     26   \n",
       "1  1   1    1  1514   7   1  장암    하차  2711  장암_2711  ...     24     44   \n",
       "2  1   1    1  2060   7   2  장암    하차  2711  장암_2711  ...     32     42   \n",
       "3  1   1    1  2608   7   3  장암    하차  2711  장암_2711  ...     35     29   \n",
       "4  1   1    1  3152   7   4  장암    하차  2711  장암_2711  ...     29     51   \n",
       "\n",
       "   17시인원  18시인원  19시인원  20시인원  21시인원  22시인원  23시인원  24시인원  \n",
       "0     28     28     26     10     10     16      5    0.0  \n",
       "1     47     89    117     64     41     22     14    0.0  \n",
       "2     45     93    114     63     46     32     15    0.0  \n",
       "3     54    113    107     70     44     21     14    0.0  \n",
       "4     44     94    107     57     42     21      7    0.0  \n",
       "\n",
       "[5 rows x 54 columns]"
      ]
     },
     "execution_count": 5,
     "metadata": {},
     "output_type": "execute_result"
    }
   ],
   "source": [
    "mlTable_승차 = pd.read_csv(\"../Data/FinalDataset/mlTable_승차.csv\")\n",
    "mlTable_하차 = pd.read_csv(\"../Data/FinalDataset/mlTable_하차.csv\")\n",
    "mlTable_하차.head()"
   ]
  },
  {
   "cell_type": "code",
   "execution_count": 6,
   "metadata": {},
   "outputs": [],
   "source": [
    "input_column=['월', '주차', '공휴일', '요일', '역사코드', '주중', '주말',\n",
    "    'latitude', 'longitude', '05배차', '06배차', '07배차', '08배차', '09배차', '10배차',\n",
    "    '11배차', '12배차', '13배차', '14배차', '15배차', '16배차', '17배차', '18배차', '19배차',\n",
    "    '20배차', '21배차', '22배차', '23배차', '24배차']\n",
    "target_column=['05시인원', '06시인원', '07시인원',\n",
    "    '08시인원', '09시인원', '10시인원', '11시인원', '12시인원', '13시인원', '14시인원', '15시인원',\n",
    "    '16시인원', '17시인원', '18시인원', '19시인원', '20시인원', '21시인원', '22시인원', '23시인원',\n",
    "    '24시인원']\n",
    "\n",
    "\n",
    "training_table_승차 = mlTable_승차[input_column]\n",
    "target_table_승차 = mlTable_승차[target_column]\n",
    "training_table_하차 = mlTable_하차[input_column]\n",
    "target_table_하차 = mlTable_하차[target_column]"
   ]
  },
  {
   "cell_type": "code",
   "execution_count": 7,
   "metadata": {},
   "outputs": [
    {
     "name": "stdout",
     "output_type": "stream",
     "text": [
      "Model score: 0.7934133162381896\n",
      "[[ 332.   745.6 1668.  1543.8  875.6  575.8  524.2  535.   520.4  539.\n",
      "   522.8  537.4  543.4  603.6  350.2  228.4  185.8  123.2   52.8    8.4]\n",
      " [ 161.2  267.6  723.2 1071.2  587.4  322.2  332.6  330.6  301.6  300.4\n",
      "   339.4  464.8  491.   847.4  336.6  272.6  233.4  190.8   78.8   13.6]\n",
      " [ 138.2  523.  1439.4 1139.8  575.4  392.6  376.4  391.8  390.4  430.8\n",
      "   494.8  549.   482.4  427.   202.   111.6   93.6   74.6   22.8    0. ]\n",
      " [ 245.6  451.4  987.6 1333.2  872.2  638.2  577.6  616.8  599.2  557.6\n",
      "   570.4  620.6  625.6  567.4  391.4  278.4  261.   231.2  119.    20.6]\n",
      " [  55.8  238.4  677.6  441.6  119.8   59.2   53.4   60.4   53.4   52.4\n",
      "    59.2   92.8   93.8   80.2   33.4   27.    24.2    9.6    3.2    0. ]]\n"
     ]
    }
   ],
   "source": [
    "Service.MultiOutputRegressorFunc(training_table_승차, target_table_승차)"
   ]
  },
  {
   "cell_type": "code",
   "execution_count": 8,
   "metadata": {},
   "outputs": [
    {
     "name": "stdout",
     "output_type": "stream",
     "text": [
      "Model score: 0.8099246587986736\n",
      "[[  27.6  170.2  273.4  549.6  479.   435.6  479.2  494.2  416.6  414.2\n",
      "   528.8  673.8  899.4 1425.2 1562.6  781.4  597.6  518.6  322.8  116. ]\n",
      " [  30.2  134.2  450.4 1154.6  394.   285.4  248.8  266.8  283.2  276.\n",
      "   314.2  358.2  545.4  956.2  714.6  418.4  347.4  301.6  178.6   77.6]\n",
      " [  23.4  169.   247.8  451.4  676.8  695.   523.   485.   458.4  409.\n",
      "   428.8  511.4  650.4  907.6 1235.6  670.8  556.4  479.4  385.2    0. ]\n",
      " [  33.   150.   225.6  488.8  349.6  333.6  393.   433.6  501.6  567.8\n",
      "   674.6  851.2  956.8 1271.   932.2  621.4  621.   570.2  369.6  127.6]\n",
      " [   5.6   35.    46.    46.6   38.6   34.8   50.2   43.2   31.8   36.2\n",
      "    30.8   35.6   44.2   95.   106.4   55.2   41.6   28.8    9.4    0. ]]\n"
     ]
    }
   ],
   "source": [
    "Service.MultiOutputRegressorFunc(training_table_하차, target_table_하차)"
   ]
  },
  {
   "cell_type": "code",
   "execution_count": 9,
   "metadata": {},
   "outputs": [
    {
     "data": {
      "text/plain": [
       "array(['장암', '도봉산', '수락산', '마들', '노원', '중계', '하계', '공릉(서울과학기술대)', '태릉입구',\n",
       "       '먹골', '중화', '상봉(시외버스터미널)', '면목', '사가정', '용마산(용마폭포공원)', '중곡',\n",
       "       '군자(능동)', '어린이대공원(세종대)', '건대입구', '뚝섬유원지', '청담', '강남구청', '학동', '논현',\n",
       "       '반포', '고속터미널', '내방', '이수', '남성', '숭실대입구(살피재)', '상도', '장승배기',\n",
       "       '신대방삼거리', '보라매', '신풍', '대림(구로구청)', '남구로', '가산디지털단지', '철산', '광명사거리',\n",
       "       '천왕', '온수(성공회대입구)'], dtype=object)"
      ]
     },
     "execution_count": 9,
     "metadata": {},
     "output_type": "execute_result"
    }
   ],
   "source": [
    "mlTable_승차['역명'].unique()"
   ]
  },
  {
   "cell_type": "code",
   "execution_count": null,
   "metadata": {},
   "outputs": [],
   "source": []
  }
 ],
 "metadata": {
  "kernelspec": {
   "display_name": "base",
   "language": "python",
   "name": "python3"
  },
  "language_info": {
   "codemirror_mode": {
    "name": "ipython",
    "version": 3
   },
   "file_extension": ".py",
   "mimetype": "text/x-python",
   "name": "python",
   "nbconvert_exporter": "python",
   "pygments_lexer": "ipython3",
   "version": "3.11.7"
  }
 },
 "nbformat": 4,
 "nbformat_minor": 2
}
