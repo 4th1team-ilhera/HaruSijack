{
 "cells": [
  {
   "cell_type": "markdown",
   "metadata": {},
   "source": [
    "---\n",
    "## Projectr : 하루시작 지하철 혼잡도 분석 02 \n",
    "## Description : \n",
    "    - 서울 교통공사 역별 일별 시간대별 승하차인원 정보\n",
    "    [source link] (https://data.seoul.go.kr/dataList/OA-12921/F/1/datasetView.do#)\n",
    "    \n",
    "## Author : Forrest Dpark (분석 담당)\n",
    "## Date : 2024.05.31 ~\n",
    "## Detail : \n",
    "## Update: \n",
    "    - 2024.06.02 pdg : 일별 데이터 정제 \n",
    "        - 기존 테스트 데이터 의 일별 데이터가 없는 부분 참고하여 일별 데이터 추출 및 데이터 칼럼 정제를 시작.\n"
   ]
  },
  {
   "cell_type": "code",
   "execution_count": 279,
   "metadata": {},
   "outputs": [
    {
     "name": "stdout",
     "output_type": "stream",
     "text": [
      "___## OS platform 한글 세팅완료 ## ___\n"
     ]
    }
   ],
   "source": [
    "import pandas as pd ,numpy as  np # Data manipulatioin\n",
    "import seaborn as sns,matplotlib.pyplot as plt # visiulization\n",
    "import warnings;warnings.filterwarnings('ignore') # 경고 무시 \n",
    "# 기본 세팅\n",
    "def plotSetting(pltStyle):\n",
    "    import matplotlib.pyplot as plt # visiulization\n",
    "    import platform\n",
    "    from matplotlib import font_manager, rc # rc : 폰트 변경 모듈font_manager : 폰트 관리 모듈\n",
    "    plt.style.use(pltStyle)\n",
    "    plt.rcParams['axes.unicode_minus'] = False# unicode 설정\n",
    "    if platform.system() == 'Darwin': rc('font', family='AppleGothic') # os가 macos\n",
    "    elif platform.system() == 'Windows': # os가 windows\n",
    "        path = 'c:/Windows/Fonts/malgun.ttf' \n",
    "        font_name = font_manager.FontProperties(fname=path).get_name()\n",
    "        rc('font', family=font_name)\n",
    "    else:\n",
    "        print(\"Unknown System\")\n",
    "    print(\"___## OS platform 한글 세팅완료 ## ___\")\n",
    "# graph style seaborn\n",
    "plotSetting(\"seaborn-v0_8\")\n"
   ]
  },
  {
   "cell_type": "code",
   "execution_count": 280,
   "metadata": {},
   "outputs": [
    {
     "data": {
      "text/html": [
       "<div>\n",
       "<style scoped>\n",
       "    .dataframe tbody tr th:only-of-type {\n",
       "        vertical-align: middle;\n",
       "    }\n",
       "\n",
       "    .dataframe tbody tr th {\n",
       "        vertical-align: top;\n",
       "    }\n",
       "\n",
       "    .dataframe thead th {\n",
       "        text-align: right;\n",
       "    }\n",
       "</style>\n",
       "<table border=\"1\" class=\"dataframe\">\n",
       "  <thead>\n",
       "    <tr style=\"text-align: right;\">\n",
       "      <th></th>\n",
       "      <th>연번</th>\n",
       "      <th>수송일자</th>\n",
       "      <th>호선</th>\n",
       "      <th>고유역번호(외부역코드)</th>\n",
       "      <th>역명</th>\n",
       "      <th>승하차구분</th>\n",
       "      <th>06시이전</th>\n",
       "      <th>06-07시간대</th>\n",
       "      <th>07-08시간대</th>\n",
       "      <th>08-09시간대</th>\n",
       "      <th>...</th>\n",
       "      <th>15-16시간대</th>\n",
       "      <th>16-17시간대</th>\n",
       "      <th>17-18시간대</th>\n",
       "      <th>18-19시간대</th>\n",
       "      <th>19-20시간대</th>\n",
       "      <th>20-21시간대</th>\n",
       "      <th>21-22시간대</th>\n",
       "      <th>22-23시간대</th>\n",
       "      <th>23-24시간대</th>\n",
       "      <th>24시이후</th>\n",
       "    </tr>\n",
       "  </thead>\n",
       "  <tbody>\n",
       "    <tr>\n",
       "      <th>0</th>\n",
       "      <td>1</td>\n",
       "      <td>2022-01-01</td>\n",
       "      <td>1</td>\n",
       "      <td>150</td>\n",
       "      <td>서울역</td>\n",
       "      <td>승차</td>\n",
       "      <td>120</td>\n",
       "      <td>137</td>\n",
       "      <td>211</td>\n",
       "      <td>439</td>\n",
       "      <td>...</td>\n",
       "      <td>1566</td>\n",
       "      <td>1686</td>\n",
       "      <td>1591</td>\n",
       "      <td>1358</td>\n",
       "      <td>1062</td>\n",
       "      <td>899</td>\n",
       "      <td>1327</td>\n",
       "      <td>814</td>\n",
       "      <td>234</td>\n",
       "      <td>NaN</td>\n",
       "    </tr>\n",
       "    <tr>\n",
       "      <th>1</th>\n",
       "      <td>2</td>\n",
       "      <td>2022-01-01</td>\n",
       "      <td>1</td>\n",
       "      <td>150</td>\n",
       "      <td>서울역</td>\n",
       "      <td>하차</td>\n",
       "      <td>113</td>\n",
       "      <td>560</td>\n",
       "      <td>617</td>\n",
       "      <td>910</td>\n",
       "      <td>...</td>\n",
       "      <td>1329</td>\n",
       "      <td>1251</td>\n",
       "      <td>1126</td>\n",
       "      <td>884</td>\n",
       "      <td>764</td>\n",
       "      <td>654</td>\n",
       "      <td>728</td>\n",
       "      <td>416</td>\n",
       "      <td>131</td>\n",
       "      <td>NaN</td>\n",
       "    </tr>\n",
       "    <tr>\n",
       "      <th>2</th>\n",
       "      <td>3</td>\n",
       "      <td>2022-01-01</td>\n",
       "      <td>1</td>\n",
       "      <td>151</td>\n",
       "      <td>시청</td>\n",
       "      <td>승차</td>\n",
       "      <td>38</td>\n",
       "      <td>66</td>\n",
       "      <td>101</td>\n",
       "      <td>139</td>\n",
       "      <td>...</td>\n",
       "      <td>474</td>\n",
       "      <td>550</td>\n",
       "      <td>672</td>\n",
       "      <td>528</td>\n",
       "      <td>420</td>\n",
       "      <td>434</td>\n",
       "      <td>491</td>\n",
       "      <td>232</td>\n",
       "      <td>38</td>\n",
       "      <td>NaN</td>\n",
       "    </tr>\n",
       "    <tr>\n",
       "      <th>3</th>\n",
       "      <td>4</td>\n",
       "      <td>2022-01-01</td>\n",
       "      <td>1</td>\n",
       "      <td>151</td>\n",
       "      <td>시청</td>\n",
       "      <td>하차</td>\n",
       "      <td>31</td>\n",
       "      <td>195</td>\n",
       "      <td>224</td>\n",
       "      <td>380</td>\n",
       "      <td>...</td>\n",
       "      <td>408</td>\n",
       "      <td>377</td>\n",
       "      <td>354</td>\n",
       "      <td>213</td>\n",
       "      <td>131</td>\n",
       "      <td>98</td>\n",
       "      <td>137</td>\n",
       "      <td>61</td>\n",
       "      <td>24</td>\n",
       "      <td>NaN</td>\n",
       "    </tr>\n",
       "    <tr>\n",
       "      <th>4</th>\n",
       "      <td>5</td>\n",
       "      <td>2022-01-01</td>\n",
       "      <td>1</td>\n",
       "      <td>152</td>\n",
       "      <td>종각</td>\n",
       "      <td>승차</td>\n",
       "      <td>44</td>\n",
       "      <td>71</td>\n",
       "      <td>86</td>\n",
       "      <td>158</td>\n",
       "      <td>...</td>\n",
       "      <td>889</td>\n",
       "      <td>964</td>\n",
       "      <td>1024</td>\n",
       "      <td>803</td>\n",
       "      <td>855</td>\n",
       "      <td>1099</td>\n",
       "      <td>1209</td>\n",
       "      <td>255</td>\n",
       "      <td>62</td>\n",
       "      <td>NaN</td>\n",
       "    </tr>\n",
       "  </tbody>\n",
       "</table>\n",
       "<p>5 rows × 26 columns</p>\n",
       "</div>"
      ],
      "text/plain": [
       "   연번        수송일자  호선 고유역번호(외부역코드)   역명 승하차구분  06시이전  06-07시간대  07-08시간대  \\\n",
       "0   1  2022-01-01   1          150  서울역    승차    120       137       211   \n",
       "1   2  2022-01-01   1          150  서울역    하차    113       560       617   \n",
       "2   3  2022-01-01   1          151   시청    승차     38        66       101   \n",
       "3   4  2022-01-01   1          151   시청    하차     31       195       224   \n",
       "4   5  2022-01-01   1          152   종각    승차     44        71        86   \n",
       "\n",
       "   08-09시간대  ...  15-16시간대  16-17시간대  17-18시간대  18-19시간대  19-20시간대  20-21시간대  \\\n",
       "0       439  ...      1566      1686      1591      1358      1062       899   \n",
       "1       910  ...      1329      1251      1126       884       764       654   \n",
       "2       139  ...       474       550       672       528       420       434   \n",
       "3       380  ...       408       377       354       213       131        98   \n",
       "4       158  ...       889       964      1024       803       855      1099   \n",
       "\n",
       "   21-22시간대  22-23시간대  23-24시간대  24시이후  \n",
       "0      1327       814       234    NaN  \n",
       "1       728       416       131    NaN  \n",
       "2       491       232        38    NaN  \n",
       "3       137        61        24    NaN  \n",
       "4      1209       255        62    NaN  \n",
       "\n",
       "[5 rows x 26 columns]"
      ]
     },
     "execution_count": 280,
     "metadata": {},
     "output_type": "execute_result"
    }
   ],
   "source": [
    "# Data loading \n",
    "subway = pd.read_csv(\"../Data/교통공사데이터/서울교통공사_역별 일별 시간대별 승하차인원 정보_20221231.csv\", encoding='euc-kr')\n",
    "subway.head()"
   ]
  },
  {
   "cell_type": "code",
   "execution_count": 281,
   "metadata": {},
   "outputs": [
    {
     "name": "stdout",
     "output_type": "stream",
     "text": [
      "\n",
      "1. Data colum numbers :  26\n",
      "\n",
      "2. null ceck 결과 총 82346개의 null 이 있습니다!\n",
      "   => 25번째.[24시이후]컬럼 :  null 82346 개,\t not null 116734 개\n",
      "\n",
      "3. Column  Information (중복체크)\n",
      "\tidx.columName |\t\t\t\t |Colum Info(dtype)|** \n",
      "\t ----------------------------------------------------------------\n",
      "\t0.[연번(int64)]: \t\t\t199080/199080 [uniq/raw]\n",
      "\t1.[수송일자(object)]: \t\t\t365/199080 [uniq/raw]\n",
      "\t2.[호선(int64)]: \t\t\t8/199080 [uniq/raw]\n",
      "\t3.[고유역번호(외부역코드)(object)]: \t\t558/199080 [uniq/raw]\n",
      "\t4.[역명(object)]: \t\t\t244/199080 [uniq/raw]\n",
      "\t5.[승하차구분(object)]: \t\t\t2/199080 [uniq/raw]\n",
      "\t6.[06시이전(int64)]: \t\t\t1596/199080 [uniq/raw]\n",
      "\t ...etc (추가로 21개의 칼럼이 있습니다 )\n"
     ]
    }
   ],
   "source": [
    "def dataInfoProcessing(df, replace_Nan=False):\n",
    "    ''' \n",
    "    # Fucntion Description :  Data frame 의 정제해야할 부분을 체크해주는 함수 \n",
    "    # Date : 2024.06.02 \n",
    "    # Author : Forrest D Park \n",
    "    # update : \n",
    "        * 2024.06.02 by pdg: 일별 데이터 정제 \n",
    "            - 데이터에 null 이 있음을 발견, data 정제 함수 update \n",
    "            - 함수에서 replace_Nan 아규 멘트 받아서 true 일경우 nan 을 0 으로 대체 하게 만듬. \n",
    "    '''\n",
    "    print(\"\\n1. Data colum numbers : \",len(df.columns))\n",
    "    #print(subway.columns)\n",
    "    #print(subway.info())\n",
    "    null_message =f\"총 {df.isnull().sum().sum()}개의 null 이 있습니다!\" if df.isnull().sum().sum() else \"Null 없는 clean data!\"\n",
    "    print(\"\\n2. null ceck 결과\",null_message)\n",
    "    ### Null 이 있는 칼럼 추출\n",
    "    haveNullColumn =[]\n",
    "    for idx, col in enumerate(df.columns):\n",
    "        if df[f\"{col}\"].isnull().sum():\n",
    "            print(f\"   => {idx}번째.[{col}]컬럼 : \",f\"null {df[f'{col}'].isnull().sum()} 개,\\t not null {df[f'{col}'].notnull().sum()} 개\")\n",
    "            ## Null data fill\n",
    "    if replace_Nan : ## nan 을 0 으로 대체 \n",
    "        df[col].fillna(value=0, inplace=True)  \n",
    "    \n",
    "    print(\"\\n3. Column  Information (중복체크)\")\n",
    "    print( \"\\tidx.columName |\\t\\t\\t\\t |Colum Info(dtype)|** \")\n",
    "    print( \"\\t\",\"--\"*len(\"columIdx |\\t\\t\\t\\t **|Col(dtype)|** \"))\n",
    "    for idx, col in enumerate(df.dtypes.keys()):\n",
    "        if idx< 7:\n",
    "            if len(f\"\\t{idx}.[{col}({df.dtypes[col]})]:\")<20:\n",
    "                print(f\"\\t{idx}.[{col}({df.dtypes[col]})]:\",\\\n",
    "                    f\"{len(df[col].unique())}/{len(df[col])} [uniq/raw]\", sep=\" \\t\\t\\t\")\n",
    "            else:\n",
    "                    print(f\"\\t{idx}.[{col}({df.dtypes[col]})]:\",\\\n",
    "                    f\"{len(df[col].unique())}/{len(df[col])} [uniq/raw]\", sep=\" \\t\\t\")\n",
    "\n",
    "    else: \n",
    "        print(f\"\\t ...etc (추가로 {len(df.dtypes.keys())-5}개의 칼럼이 있습니다 )\")\n",
    "   \n",
    "              \n",
    "dataInfoProcessing(subway)\n",
    "\n",
    "# subway.info(show_counts=False)\n",
    "# subway.value_counts('수송일자')\n",
    "\n",
    "\n",
    "\n"
   ]
  },
  {
   "cell_type": "markdown",
   "metadata": {},
   "source": [
    "> 25번째 칼럼인 24시 이후 데이터의 null 은 운행을 하지 않아서 null 인가?"
   ]
  },
  {
   "cell_type": "code",
   "execution_count": 282,
   "metadata": {},
   "outputs": [
    {
     "name": "stdout",
     "output_type": "stream",
     "text": [
      "[1, 2, 3, 4, 5, 6, -2, -1]\n"
     ]
    },
    {
     "data": {
      "text/html": [
       "<div>\n",
       "<style scoped>\n",
       "    .dataframe tbody tr th:only-of-type {\n",
       "        vertical-align: middle;\n",
       "    }\n",
       "\n",
       "    .dataframe tbody tr th {\n",
       "        vertical-align: top;\n",
       "    }\n",
       "\n",
       "    .dataframe thead th {\n",
       "        text-align: right;\n",
       "    }\n",
       "</style>\n",
       "<table border=\"1\" class=\"dataframe\">\n",
       "  <thead>\n",
       "    <tr style=\"text-align: right;\">\n",
       "      <th></th>\n",
       "      <th>수송일자</th>\n",
       "      <th>호선</th>\n",
       "      <th>고유역번호(외부역코드)</th>\n",
       "      <th>역명</th>\n",
       "      <th>승하차구분</th>\n",
       "      <th>06시이전</th>\n",
       "      <th>23-24시간대</th>\n",
       "      <th>24시이후</th>\n",
       "    </tr>\n",
       "  </thead>\n",
       "  <tbody>\n",
       "    <tr>\n",
       "      <th>0</th>\n",
       "      <td>2022-01-01</td>\n",
       "      <td>1</td>\n",
       "      <td>150</td>\n",
       "      <td>서울역</td>\n",
       "      <td>승차</td>\n",
       "      <td>120</td>\n",
       "      <td>234</td>\n",
       "      <td>NaN</td>\n",
       "    </tr>\n",
       "    <tr>\n",
       "      <th>1</th>\n",
       "      <td>2022-01-01</td>\n",
       "      <td>1</td>\n",
       "      <td>150</td>\n",
       "      <td>서울역</td>\n",
       "      <td>하차</td>\n",
       "      <td>113</td>\n",
       "      <td>131</td>\n",
       "      <td>NaN</td>\n",
       "    </tr>\n",
       "    <tr>\n",
       "      <th>2</th>\n",
       "      <td>2022-01-01</td>\n",
       "      <td>1</td>\n",
       "      <td>151</td>\n",
       "      <td>시청</td>\n",
       "      <td>승차</td>\n",
       "      <td>38</td>\n",
       "      <td>38</td>\n",
       "      <td>NaN</td>\n",
       "    </tr>\n",
       "    <tr>\n",
       "      <th>3</th>\n",
       "      <td>2022-01-01</td>\n",
       "      <td>1</td>\n",
       "      <td>151</td>\n",
       "      <td>시청</td>\n",
       "      <td>하차</td>\n",
       "      <td>31</td>\n",
       "      <td>24</td>\n",
       "      <td>NaN</td>\n",
       "    </tr>\n",
       "    <tr>\n",
       "      <th>4</th>\n",
       "      <td>2022-01-01</td>\n",
       "      <td>1</td>\n",
       "      <td>152</td>\n",
       "      <td>종각</td>\n",
       "      <td>승차</td>\n",
       "      <td>44</td>\n",
       "      <td>62</td>\n",
       "      <td>NaN</td>\n",
       "    </tr>\n",
       "  </tbody>\n",
       "</table>\n",
       "</div>"
      ],
      "text/plain": [
       "         수송일자  호선 고유역번호(외부역코드)   역명 승하차구분  06시이전  23-24시간대  24시이후\n",
       "0  2022-01-01   1          150  서울역    승차    120       234    NaN\n",
       "1  2022-01-01   1          150  서울역    하차    113       131    NaN\n",
       "2  2022-01-01   1          151   시청    승차     38        38    NaN\n",
       "3  2022-01-01   1          151   시청    하차     31        24    NaN\n",
       "4  2022-01-01   1          152   종각    승차     44        62    NaN"
      ]
     },
     "execution_count": 282,
     "metadata": {},
     "output_type": "execute_result"
    }
   ],
   "source": [
    "interesting_colnumbers = [i for i in range(1,7)] + [-2,-1]\n",
    "print(interesting_colnumbers)\n",
    "subway[subway['24시이후'].isnull()].iloc[:,interesting_colnumbers].head()"
   ]
  },
  {
   "cell_type": "code",
   "execution_count": 283,
   "metadata": {},
   "outputs": [
    {
     "data": {
      "text/plain": [
       "array(['2022-01-02', '2022-01-03', '2022-05-30', '2022-05-31'],\n",
       "      dtype=object)"
      ]
     },
     "execution_count": 283,
     "metadata": {},
     "output_type": "execute_result"
    }
   ],
   "source": [
    "havenulldate = subway[subway['24시이후'].isnull()].iloc[:,a]\n",
    "havenulldate['수송일자'].unique()[[1,2,-2,-1]]\n",
    "# 2022 년 1 월 1일부터  5월 31 일까지 는 12시 이후 영업을 안한 모양.. -> 코로나 단축운행!! \n"
   ]
  },
  {
   "cell_type": "markdown",
   "metadata": {},
   "source": [
    "> Nan 을 0 으로 대체 "
   ]
  },
  {
   "cell_type": "code",
   "execution_count": 284,
   "metadata": {},
   "outputs": [
    {
     "name": "stdout",
     "output_type": "stream",
     "text": [
      "\n",
      "1. Data colum numbers :  26\n",
      "\n",
      "2. null ceck 결과 총 82346개의 null 이 있습니다!\n",
      "   => 25번째.[24시이후]컬럼 :  null 82346 개,\t not null 116734 개\n",
      "\n",
      "3. Column  Information (중복체크)\n",
      "\tidx.columName |\t\t\t\t |Colum Info(dtype)|** \n",
      "\t ----------------------------------------------------------------\n",
      "\t0.[연번(int64)]: \t\t\t199080/199080 [uniq/raw]\n",
      "\t1.[수송일자(object)]: \t\t\t365/199080 [uniq/raw]\n",
      "\t2.[호선(int64)]: \t\t\t8/199080 [uniq/raw]\n",
      "\t3.[고유역번호(외부역코드)(object)]: \t\t558/199080 [uniq/raw]\n",
      "\t4.[역명(object)]: \t\t\t244/199080 [uniq/raw]\n",
      "\t5.[승하차구분(object)]: \t\t\t2/199080 [uniq/raw]\n",
      "\t6.[06시이전(int64)]: \t\t\t1596/199080 [uniq/raw]\n",
      "\t ...etc (추가로 21개의 칼럼이 있습니다 )\n"
     ]
    }
   ],
   "source": [
    "\n",
    "dataInfoProcessing(subway,replace_Nan=True)"
   ]
  },
  {
   "cell_type": "markdown",
   "metadata": {},
   "source": [
    ">  해당 데이터는 8개의 호선이 있고 역번호는 558개, 역명은 244 개가 있다.. 왜?  역번호와 역 명은 1:1 이어야 하는게 아닌가?"
   ]
  },
  {
   "cell_type": "code",
   "execution_count": 285,
   "metadata": {},
   "outputs": [],
   "source": [
    "## 역명 조회\n",
    "# 지하철 역 테이블 과 역번호 를 따로 만들어서 관리하도록 하자. csv 저장 필요 \n",
    "역이름 = []\n",
    "호선 = []\n",
    "역코드 =[]\n",
    "\n",
    "\n",
    "for i in subway['역명'].unique():\n",
    "    for 순서, 역명 in enumerate(subway['역명']):\n",
    "        if 역명==i :\n",
    "            # print(f\"{subway['호선'][순서]}호선 {i}, {subway['고유역번호(외부역코드)'][순서]}\")\n",
    "            # seoulSubwayInfo[f'{i}']= [f\"{subway['호선'][순서]}호선\", f\"{subway['고유역번호(외부역코드)'][순서]}\"]\n",
    "            역이름.append(i)\n",
    "            호선.append(f\"{subway['호선'][순서]}호선\")\n",
    "            역코드.append(int(f\"{subway['고유역번호(외부역코드)'][순서]}\"))\n",
    "            break"
   ]
  },
  {
   "cell_type": "code",
   "execution_count": 286,
   "metadata": {},
   "outputs": [
    {
     "data": {
      "text/html": [
       "<div>\n",
       "<style scoped>\n",
       "    .dataframe tbody tr th:only-of-type {\n",
       "        vertical-align: middle;\n",
       "    }\n",
       "\n",
       "    .dataframe tbody tr th {\n",
       "        vertical-align: top;\n",
       "    }\n",
       "\n",
       "    .dataframe thead th {\n",
       "        text-align: right;\n",
       "    }\n",
       "</style>\n",
       "<table border=\"1\" class=\"dataframe\">\n",
       "  <thead>\n",
       "    <tr style=\"text-align: right;\">\n",
       "      <th></th>\n",
       "      <th>역이름</th>\n",
       "      <th>역코드</th>\n",
       "    </tr>\n",
       "    <tr>\n",
       "      <th>호선</th>\n",
       "      <th></th>\n",
       "      <th></th>\n",
       "    </tr>\n",
       "  </thead>\n",
       "  <tbody>\n",
       "    <tr>\n",
       "      <th>1호선</th>\n",
       "      <td>10</td>\n",
       "      <td>10</td>\n",
       "    </tr>\n",
       "    <tr>\n",
       "      <th>2호선</th>\n",
       "      <td>48</td>\n",
       "      <td>48</td>\n",
       "    </tr>\n",
       "    <tr>\n",
       "      <th>3호선</th>\n",
       "      <td>30</td>\n",
       "      <td>30</td>\n",
       "    </tr>\n",
       "    <tr>\n",
       "      <th>4호선</th>\n",
       "      <td>22</td>\n",
       "      <td>22</td>\n",
       "    </tr>\n",
       "    <tr>\n",
       "      <th>5호선</th>\n",
       "      <td>49</td>\n",
       "      <td>49</td>\n",
       "    </tr>\n",
       "    <tr>\n",
       "      <th>6호선</th>\n",
       "      <td>30</td>\n",
       "      <td>30</td>\n",
       "    </tr>\n",
       "    <tr>\n",
       "      <th>7호선</th>\n",
       "      <td>40</td>\n",
       "      <td>40</td>\n",
       "    </tr>\n",
       "    <tr>\n",
       "      <th>8호선</th>\n",
       "      <td>15</td>\n",
       "      <td>15</td>\n",
       "    </tr>\n",
       "  </tbody>\n",
       "</table>\n",
       "</div>"
      ],
      "text/plain": [
       "     역이름  역코드\n",
       "호선           \n",
       "1호선   10   10\n",
       "2호선   48   48\n",
       "3호선   30   30\n",
       "4호선   22   22\n",
       "5호선   49   49\n",
       "6호선   30   30\n",
       "7호선   40   40\n",
       "8호선   15   15"
      ]
     },
     "execution_count": 286,
     "metadata": {},
     "output_type": "execute_result"
    }
   ],
   "source": [
    "## subway column  csv 로 저장 \n",
    "df= pd.DataFrame(\n",
    "    {   \n",
    "    \"역코드\" : 역코드,\n",
    "    \"호선\" : 호선,\n",
    "    \"역이름\" : 역이름,\n",
    "    }, \n",
    ")\n",
    "df.to_csv(\"../Data/SubwayInfo.csv\", index=None)\n",
    "df.pivot_table(\n",
    "    # columns='호선'\n",
    "    index='호선',\n",
    "    aggfunc=np.size\n",
    ")"
   ]
  },
  {
   "cell_type": "markdown",
   "metadata": {},
   "source": [
    "--- \n",
    "> 역코드 unique 는 왜 500 개가 넘을까?\n",
    "> 승차에는 없는 띄어쓰기가 하차에는 있음! 그리고 132480번째 데이터   에는 띄어쓰기가 들어가있음. "
   ]
  },
  {
   "cell_type": "markdown",
   "metadata": {},
   "source": [
    "---\n",
    "###  마지막 수송 일자를 기준으로 역 이름과 역 코드를 판별한다. \n",
    "\n"
   ]
  },
  {
   "cell_type": "code",
   "execution_count": 403,
   "metadata": {},
   "outputs": [
    {
     "name": "stdout",
     "output_type": "stream",
     "text": [
      "첫 수송일자 : 2022-01-01\n",
      "마지막 수송일자 : 2022-12-31\n"
     ]
    }
   ],
   "source": [
    "\n",
    "\n",
    "print(\"첫 수송일자 :\",list(subway['수송일자'])[0])\n",
    "print(\"마지막 수송일자 :\",list(subway['수송일자'])[-1])"
   ]
  },
  {
   "cell_type": "code",
   "execution_count": 315,
   "metadata": {},
   "outputs": [
    {
     "name": "stdout",
     "output_type": "stream",
     "text": [
      "대체됨\n"
     ]
    }
   ],
   "source": [
    "### 역코드 obj -> int 로 변환  ** 아무것도 없는 데이터는 000 으로 변환 \n",
    "new_stationCode = []\n",
    "for i, code in enumerate(subway['고유역번호(외부역코드)']):\n",
    "    # print(str(i).replace(\" \",\"\"))\n",
    "    try : \n",
    "        new_stationCode.append(int(str(code)))\n",
    "    except ValueError : \n",
    "        print(f\"{i}번째 데이터 {code}\" ,\"<-value errer: \")\n",
    "        new_stationCode.append(000)\n",
    "        continue\n",
    "print(\"대체됨\" if len(new_stationCode)== len(subway)else \"대체 안됨\")\n",
    "\n",
    "subway['고유역번호(외부역코드)'] = new_stationCode\n",
    "len(subway['고유역번호(외부역코드)'].unique())\n",
    "# subway.info()\n",
    "## 승차데이터만, 그리고 마지막 수송일자를 기준으로 칼럼정제\n",
    "test = subway[['역명','고유역번호(외부역코드)','승하차구분']]\\\n",
    "    [subway['승하차구분']=='승차']\\\n",
    "    [subway['수송일자']==list(subway['수송일자'])[-1]]\n",
    "\n",
    "\n",
    "# list(test.index)\n",
    "test=test.reset_index()\n",
    "test.drop(columns='index',inplace=True)\n",
    "test\n",
    "# test.to_csv(f\"../Data/CurrentSubwayStation_{list(subway['수송일자'])[-1]}.csv\",)\n"
   ]
  },
  {
   "cell_type": "code",
   "execution_count": 340,
   "metadata": {},
   "outputs": [
    {
     "name": "stdout",
     "output_type": "stream",
     "text": [
      "역명개수: 239 고유역번호개수 272\n"
     ]
    },
    {
     "data": {
      "text/html": [
       "<div>\n",
       "<style scoped>\n",
       "    .dataframe tbody tr th:only-of-type {\n",
       "        vertical-align: middle;\n",
       "    }\n",
       "\n",
       "    .dataframe tbody tr th {\n",
       "        vertical-align: top;\n",
       "    }\n",
       "\n",
       "    .dataframe thead th {\n",
       "        text-align: right;\n",
       "    }\n",
       "</style>\n",
       "<table border=\"1\" class=\"dataframe\">\n",
       "  <thead>\n",
       "    <tr style=\"text-align: right;\">\n",
       "      <th></th>\n",
       "      <th>역명</th>\n",
       "      <th>고유역번호(외부역코드)</th>\n",
       "      <th>승하차구분</th>\n",
       "    </tr>\n",
       "  </thead>\n",
       "  <tbody>\n",
       "    <tr>\n",
       "      <th>3</th>\n",
       "      <td>종로3가</td>\n",
       "      <td>153</td>\n",
       "      <td>승차</td>\n",
       "    </tr>\n",
       "    <tr>\n",
       "      <th>70</th>\n",
       "      <td>종로3가</td>\n",
       "      <td>319</td>\n",
       "      <td>승차</td>\n",
       "    </tr>\n",
       "    <tr>\n",
       "      <th>143</th>\n",
       "      <td>종로3가</td>\n",
       "      <td>2535</td>\n",
       "      <td>승차</td>\n",
       "    </tr>\n",
       "  </tbody>\n",
       "</table>\n",
       "</div>"
      ],
      "text/plain": [
       "       역명  고유역번호(외부역코드) 승하차구분\n",
       "3    종로3가           153    승차\n",
       "70   종로3가           319    승차\n",
       "143  종로3가          2535    승차"
      ]
     },
     "execution_count": 340,
     "metadata": {},
     "output_type": "execute_result"
    }
   ],
   "source": [
    "## 역명과 고유역번호가 일치하는가?\n",
    "print(\"역명개수:\",len(test['역명'].unique()),\"고유역번호개수\",len(test['고유역번호(외부역코드)'].unique()))\n",
    "test['역명'].value_counts()\n",
    "# type(a)\n",
    "test[test['역명']=='종로3가']"
   ]
  },
  {
   "cell_type": "markdown",
   "metadata": {},
   "source": [
    "> 종로 3가 는 1호선, 3호선, 5호선 세 종류의 호선마다 역이 있다.     \n",
    "> 중복문제를 피하기 위해서 역_이름코드 라는 칼럼을 하나 만들어서 primary key 로 만들자"
   ]
  },
  {
   "cell_type": "code",
   "execution_count": 402,
   "metadata": {},
   "outputs": [],
   "source": [
    "\n",
    "\n",
    "\n",
    "# 역이름_코드 칼럼 생성하여 csv 저장 \n",
    "station_code= test['고유역번호(외부역코드)'].to_numpy()\n",
    "station_name = test['역명'].to_numpy()\n",
    "test['역_이름코드'] = station_name_code = [f\"{name}_{code}\" for name,code in zip(station_name,station_code)]\n",
    "test.to_csv(f\"../Data/StationInfo_{list(subway['수송일자'])[-1]}.csv\",)\n",
    "    \n",
    "\n",
    "# test"
   ]
  },
  {
   "cell_type": "code",
   "execution_count": null,
   "metadata": {},
   "outputs": [],
   "source": []
  },
  {
   "cell_type": "code",
   "execution_count": null,
   "metadata": {},
   "outputs": [],
   "source": []
  },
  {
   "cell_type": "code",
   "execution_count": null,
   "metadata": {},
   "outputs": [],
   "source": []
  },
  {
   "cell_type": "code",
   "execution_count": null,
   "metadata": {},
   "outputs": [],
   "source": []
  },
  {
   "cell_type": "code",
   "execution_count": null,
   "metadata": {},
   "outputs": [],
   "source": []
  },
  {
   "cell_type": "code",
   "execution_count": null,
   "metadata": {},
   "outputs": [],
   "source": []
  },
  {
   "cell_type": "code",
   "execution_count": null,
   "metadata": {},
   "outputs": [],
   "source": []
  },
  {
   "cell_type": "code",
   "execution_count": null,
   "metadata": {},
   "outputs": [],
   "source": []
  },
  {
   "cell_type": "code",
   "execution_count": null,
   "metadata": {},
   "outputs": [],
   "source": []
  }
 ],
 "metadata": {
  "kernelspec": {
   "display_name": "base",
   "language": "python",
   "name": "python3"
  },
  "language_info": {
   "codemirror_mode": {
    "name": "ipython",
    "version": 3
   },
   "file_extension": ".py",
   "mimetype": "text/x-python",
   "name": "python",
   "nbconvert_exporter": "python",
   "pygments_lexer": "ipython3",
   "version": "3.11.7"
  }
 },
 "nbformat": 4,
 "nbformat_minor": 2
}
