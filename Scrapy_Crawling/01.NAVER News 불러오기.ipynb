{
 "cells": [
  {
   "cell_type": "code",
   "execution_count": 2,
   "metadata": {},
   "outputs": [],
   "source": [
    "import pandas as pd, warnings; warnings.filterwarnings('ignore')"
   ]
  },
  {
   "cell_type": "code",
   "execution_count": 3,
   "metadata": {},
   "outputs": [
    {
     "data": {
      "text/html": [
       "<div>\n",
       "<style scoped>\n",
       "    .dataframe tbody tr th:only-of-type {\n",
       "        vertical-align: middle;\n",
       "    }\n",
       "\n",
       "    .dataframe tbody tr th {\n",
       "        vertical-align: top;\n",
       "    }\n",
       "\n",
       "    .dataframe thead th {\n",
       "        text-align: right;\n",
       "    }\n",
       "</style>\n",
       "<table border=\"1\" class=\"dataframe\">\n",
       "  <thead>\n",
       "    <tr style=\"text-align: right;\">\n",
       "      <th></th>\n",
       "      <th>date</th>\n",
       "      <th>title</th>\n",
       "      <th>link</th>\n",
       "      <th>content</th>\n",
       "    </tr>\n",
       "  </thead>\n",
       "  <tbody>\n",
       "    <tr>\n",
       "      <th>0</th>\n",
       "      <td>2023-11-02 12:01:07</td>\n",
       "      <td>지하철역 승강장 혼잡도 실시간 예측한다</td>\n",
       "      <td>https://n.news.naver.com/mnews/article/018/000...</td>\n",
       "      <td>[\\n행안부, 'AI 기반 지하철 승강장 혼잡도 예측 모델' 개발서울지하철 2개 역...</td>\n",
       "    </tr>\n",
       "    <tr>\n",
       "      <th>1</th>\n",
       "      <td>2023-11-02 13:44:29</td>\n",
       "      <td>‘혼잡률 200% 육박’ 서울지하철…AI가 ‘심각’ 판단하면 진입 통제</td>\n",
       "      <td>https://n.news.naver.com/mnews/article/056/001...</td>\n",
       "      <td>[\\n\\n\\n\\n\\n김포시민들이 서울로 출퇴근할 때 주로 이용하는 교통수단, 김포 ...</td>\n",
       "    </tr>\n",
       "    <tr>\n",
       "      <th>2</th>\n",
       "      <td>2023-11-03 05:34:00</td>\n",
       "      <td>의자 없애고 혼잡도 실시간 분석…서울 '지옥철' 오명 벗나</td>\n",
       "      <td>https://n.news.naver.com/mnews/article/421/000...</td>\n",
       "      <td>[\\n승강장 혼잡도 AI 분석모델 장한평·군자역 시범적용'혼잡도 심각' 4·7호선 ...</td>\n",
       "    </tr>\n",
       "    <tr>\n",
       "      <th>3</th>\n",
       "      <td>2023-06-23 14:40:01</td>\n",
       "      <td>김혜지 서울시의원, 지하철역 혼잡도…다양한 개선대책 추진</td>\n",
       "      <td>https://n.news.naver.com/mnews/article/081/000...</td>\n",
       "      <td>[\\n김 의원, 서울교통공사가 개발 중인 혼잡도 평가시스템 점검천호역을 비롯한 혼잡...</td>\n",
       "    </tr>\n",
       "    <tr>\n",
       "      <th>4</th>\n",
       "      <td>2020-09-14 11:44:43</td>\n",
       "      <td>SKT \"서울 지하철 1~8호선 혼잡도 미리 확인한다\"</td>\n",
       "      <td>https://n.news.naver.com/mnews/article/629/000...</td>\n",
       "      <td>[\\n\\n\\n\\n\\nSK텔레콤이 지하철의 칸별 혼잡도 예측 정보를 'T맵 대중교통'...</td>\n",
       "    </tr>\n",
       "  </tbody>\n",
       "</table>\n",
       "</div>"
      ],
      "text/plain": [
       "                  date                                    title  \\\n",
       "0  2023-11-02 12:01:07                    지하철역 승강장 혼잡도 실시간 예측한다   \n",
       "1  2023-11-02 13:44:29  ‘혼잡률 200% 육박’ 서울지하철…AI가 ‘심각’ 판단하면 진입 통제   \n",
       "2  2023-11-03 05:34:00         의자 없애고 혼잡도 실시간 분석…서울 '지옥철' 오명 벗나   \n",
       "3  2023-06-23 14:40:01          김혜지 서울시의원, 지하철역 혼잡도…다양한 개선대책 추진   \n",
       "4  2020-09-14 11:44:43           SKT \"서울 지하철 1~8호선 혼잡도 미리 확인한다\"   \n",
       "\n",
       "                                                link  \\\n",
       "0  https://n.news.naver.com/mnews/article/018/000...   \n",
       "1  https://n.news.naver.com/mnews/article/056/001...   \n",
       "2  https://n.news.naver.com/mnews/article/421/000...   \n",
       "3  https://n.news.naver.com/mnews/article/081/000...   \n",
       "4  https://n.news.naver.com/mnews/article/629/000...   \n",
       "\n",
       "                                             content  \n",
       "0  [\\n행안부, 'AI 기반 지하철 승강장 혼잡도 예측 모델' 개발서울지하철 2개 역...  \n",
       "1  [\\n\\n\\n\\n\\n김포시민들이 서울로 출퇴근할 때 주로 이용하는 교통수단, 김포 ...  \n",
       "2  [\\n승강장 혼잡도 AI 분석모델 장한평·군자역 시범적용'혼잡도 심각' 4·7호선 ...  \n",
       "3  [\\n김 의원, 서울교통공사가 개발 중인 혼잡도 평가시스템 점검천호역을 비롯한 혼잡...  \n",
       "4  [\\n\\n\\n\\n\\nSK텔레콤이 지하철의 칸별 혼잡도 예측 정보를 'T맵 대중교통'...  "
      ]
     },
     "execution_count": 3,
     "metadata": {},
     "output_type": "execute_result"
    }
   ],
   "source": [
    "news = pd.read_csv(\"../Data/Crawling_Data/서울지하철혼잡AI예측_20240604_15시10분47초.csv\")\n",
    "\n",
    "news.head()"
   ]
  }
 ],
 "metadata": {
  "kernelspec": {
   "display_name": "base",
   "language": "python",
   "name": "python3"
  },
  "language_info": {
   "codemirror_mode": {
    "name": "ipython",
    "version": 3
   },
   "file_extension": ".py",
   "mimetype": "text/x-python",
   "name": "python",
   "nbconvert_exporter": "python",
   "pygments_lexer": "ipython3",
   "version": "3.11.7"
  }
 },
 "nbformat": 4,
 "nbformat_minor": 2
}
