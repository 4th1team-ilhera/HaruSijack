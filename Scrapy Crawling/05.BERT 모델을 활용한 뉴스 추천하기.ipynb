{
 "cells": [
  {
   "cell_type": "markdown",
   "metadata": {},
   "source": [
    "---\n",
    "# Projectr : 하루시작 지하철 혼잡도 분석\n",
    "\n",
    "### Description : \n",
    "- <a><span style = \"color: #FFBE98\">\n",
    "    <b>BERT Model을 활용한 오늘의 주요 키워드 및 뉴스 추천하기</b>\n",
    "  </a>\n",
    "\n",
    "### Author : Zen Den\n",
    "\n",
    "### Date : 2024. 06. 13. (Thu) ~\n",
    "\n",
    "### Detail :\n",
    "  - Crawling 평균 소요시간 <br><br>\n",
    "    - 언론사별 랭킹뉴스의 언론사명, Title, Link: 1분 50초 <br><br>\n",
    "    - 뉴스 기사의 본문: 15분 30초 <br><br>\n",
    "\n",
    "  > (1) 환경 설정 및 라이브러리 설치\n",
    "  - 웹 크롤링을 위한 requests와 BeautifulSoup, Selenium <br>\n",
    "  - 데이터 처리를 위한 pandas <br>\n",
    "  - 텍스트 처리를 위한 nltk <br>\n",
    "  - 딥러닝 모델인 BERT를 활용하기 위한 transformers와 torch <br>\n",
    "  - 자연어 처리 위한 sklearn\n",
    "\n",
    "  > (2) Web Crawling\n",
    "  - 네이버 뉴스 페이지를 요청하고, BeautifulSoup으로 HTML 파싱 <br>\n",
    "  - 각 언론사별로 상위 5개 뉴스 기사 제목 및 Link 추출\n",
    "\n",
    "  > (3) Keyword 추출\n",
    "  - 각 뉴스 기사 본문을 가져와서 빈도수 높은 단어 추출 <br>\n",
    "  - 불용어 제거 및 형태소 분석을 통해 주요 Keyword 도출\n",
    "\n",
    "  > (4) 뉴스 추천 시스템 구축\n",
    "  - BERT Model을 활용하여 각 뉴스 기사 Embedding 생성 <br>\n",
    "  - 코사인 유사도를 사용하여 주요 Keyword와 유사한 뉴스 기사 추천\n",
    "\n",
    "### Update: \n",
    "- 2024.06.13. (Thu) K.Zen : <br><br>\n",
    "  - <span style = \"color: cyan\">\n",
    "      <b>Deep Learning(BERT Model)</b>\n",
    "      을 활용한 뉴스 추천하기\n",
    "    </span>"
   ]
  },
  {
   "cell_type": "markdown",
   "metadata": {},
   "source": [
    "---\n",
    "# Environment Setting and Import Library Package"
   ]
  },
  {
   "cell_type": "markdown",
   "metadata": {},
   "source": [
    "## Basic"
   ]
  },
  {
   "cell_type": "code",
   "execution_count": 3,
   "metadata": {},
   "outputs": [],
   "source": [
    "import pandas as pd, numpy as np"
   ]
  },
  {
   "cell_type": "markdown",
   "metadata": {},
   "source": [
    "## File System"
   ]
  },
  {
   "cell_type": "code",
   "execution_count": 4,
   "metadata": {},
   "outputs": [],
   "source": [
    "import os; from datetime import datetime"
   ]
  },
  {
   "cell_type": "markdown",
   "metadata": {},
   "source": [
    "## Crawling"
   ]
  },
  {
   "cell_type": "code",
   "execution_count": 5,
   "metadata": {},
   "outputs": [],
   "source": [
    "import requests # 인터넷에서 Data를 가져오기 위한 Library (웹페이지에 접속하고 HTML 코드를 가져오기 위해 사용)\n",
    "from bs4 import BeautifulSoup # 웹 페이지 내용을 분석하기 위한 Library (가져온 HTML 코드에서 우리가 필요한 정보를 추출하기 위해 사용)\n",
    "\n",
    "import time # 대기 시간을 추가하기 위한 Library (요청 사이에 랜덤한 시간을 기다리기 위해 사용)\n",
    "import random # Random한 대기 시간을 만들기 위한 Library\n",
    "from tqdm import tqdm # Crawling 진행 상황을 체크하기 위한 Module (진행 상황을 시각적으로 보여주기 위해 사용)\n",
    "\n",
    "from selenium import webdriver\n",
    "from selenium.webdriver.chrome.service import Service\n",
    "from webdriver_manager.chrome import ChromeDriverManager"
   ]
  },
  {
   "cell_type": "markdown",
   "metadata": {},
   "source": [
    "## Bag of Words (BoW)"
   ]
  },
  {
   "cell_type": "code",
   "execution_count": 20,
   "metadata": {},
   "outputs": [
    {
     "name": "stderr",
     "output_type": "stream",
     "text": [
      "[nltk_data] Downloading package punkt to\n",
      "[nltk_data]     /Users/gwangyeong/nltk_data...\n",
      "[nltk_data]   Package punkt is already up-to-date!\n"
     ]
    }
   ],
   "source": [
    "import nltk # Natural Language Toolkit (자연어 처리를 위해 사용)\n",
    "from konlpy.tag import Okt\n",
    "from collections import Counter # 단어의 빈도를 계산하기 위해 사용\n",
    "\n",
    "# 1. nltk Data Download\n",
    "nltk.download('punkt')\n",
    "\n",
    "# 2. 한국어 불용어 사전\n",
    "# ****************************************************************\n",
    "## 한국어 불용어 모음집 불러오기\n",
    "stopword_list = pd.read_csv(\"Data/updated_stopword.txt\", header = None)\n",
    "# ****************************************************************\n",
    "stopword_list[0] = stopword_list[0].apply(lambda x: x.strip())\n",
    "stopwords = stopword_list[0].to_numpy()"
   ]
  },
  {
   "cell_type": "markdown",
   "metadata": {},
   "source": [
    "## Deep Learning - BERT"
   ]
  },
  {
   "cell_type": "code",
   "execution_count": 8,
   "metadata": {},
   "outputs": [],
   "source": [
    "from sklearn.metrics.pairwise import cosine_similarity\n",
    "from transformers import BertModel, BertTokenizer\n",
    "import torch"
   ]
  },
  {
   "cell_type": "markdown",
   "metadata": {},
   "source": [
    "# Web Crawling"
   ]
  },
  {
   "cell_type": "code",
   "execution_count": 9,
   "metadata": {},
   "outputs": [],
   "source": [
    "# 1. 뉴스 Crawling\n",
    "def get_news_links_by_press (url) :\n",
    "  \"\"\"\n",
    "    headers:\n",
    "    - 나는 bot이 아니고 사람임을 증명하는 부분이다.\n",
    "      - 사용하지 않을 시 언론사에서 웹크롤링을 막을 수 있으니 주의할 것!\n",
    "  \"\"\"\n",
    "  headers = {\n",
    "    \"User-Agent\": \"Mozilla/5.0 (Macintosh; Intel Mac OS X 10_15_7) AppleWebKit/537.36 (KHTML, like Gecko) Chrome/125.0.0.0 Safari/537.36\"\n",
    "  }\n",
    "  response = requests.get(url, headers = headers) # url(페이지)에 접속\n",
    "  soup = BeautifulSoup(response.content, 'html.parser') # HTML 코드를 파싱(분석)하여 soup 객체에 저장\n",
    "  \n",
    "  press_data = {}\n",
    "  press_sections = soup.select('.rankingnews_box')\n",
    "  \n",
    "  for press_section in tqdm(press_sections, desc = \"언론사별 뉴스 Crawling\") :\n",
    "    press_name = press_section.select_one('.rankingnews_name').get_text(strip = True)\n",
    "    news_links = set()  # 중복 제거를 위한 set 사용\n",
    "    for item in press_section.select('li a') :\n",
    "      title = item.get_text(strip = True)\n",
    "      link = item['href']\n",
    "      if title and link and \"동영상\" not in title :  # Title이 존재하고 \"동영상\"이 포함되지 않은 경우에만 추가\n",
    "        news_links.add((title, link))\n",
    "    press_data[press_name] = list(news_links)[:5]  # 다시 list로 변환 후 상위 5개만 저장\n",
    "    \n",
    "    # *********************************************\n",
    "    # 각 언론사별 뉴스 Crawling 후 대기 시간 추가\n",
    "    time.sleep(random.uniform(0.5, 2.0))\n",
    "    # *********************************************\n",
    "  \n",
    "  return press_data"
   ]
  },
  {
   "cell_type": "code",
   "execution_count": 10,
   "metadata": {},
   "outputs": [
    {
     "name": "stderr",
     "output_type": "stream",
     "text": [
      "언론사별 뉴스 Crawling: 100%|██████████| 83/83 [01:46<00:00,  1.28s/it]\n"
     ]
    },
    {
     "data": {
      "text/html": [
       "<div>\n",
       "<style scoped>\n",
       "    .dataframe tbody tr th:only-of-type {\n",
       "        vertical-align: middle;\n",
       "    }\n",
       "\n",
       "    .dataframe tbody tr th {\n",
       "        vertical-align: top;\n",
       "    }\n",
       "\n",
       "    .dataframe thead th {\n",
       "        text-align: right;\n",
       "    }\n",
       "</style>\n",
       "<table border=\"1\" class=\"dataframe\">\n",
       "  <thead>\n",
       "    <tr style=\"text-align: right;\">\n",
       "      <th></th>\n",
       "      <th>Press</th>\n",
       "      <th>Title</th>\n",
       "      <th>Link</th>\n",
       "    </tr>\n",
       "  </thead>\n",
       "  <tbody>\n",
       "    <tr>\n",
       "      <th>0</th>\n",
       "      <td>경향신문</td>\n",
       "      <td>아내에 성인방송 출연 ‘협박·감금’ 전직 군인 징역 7년 구형</td>\n",
       "      <td>https://n.news.naver.com/article/032/000330235...</td>\n",
       "    </tr>\n",
       "    <tr>\n",
       "      <th>1</th>\n",
       "      <td>경향신문</td>\n",
       "      <td>이성윤 “특활비로 술먹고 민원실에 대변 본 검사들...공수처 조사해야”</td>\n",
       "      <td>https://n.news.naver.com/article/032/000330235...</td>\n",
       "    </tr>\n",
       "    <tr>\n",
       "      <th>2</th>\n",
       "      <td>경향신문</td>\n",
       "      <td>‘김건희 명품백’ 폭로한 기자 “내 돈으로 샀다, 이제 돌려달라”</td>\n",
       "      <td>https://n.news.naver.com/article/032/000330236...</td>\n",
       "    </tr>\n",
       "    <tr>\n",
       "      <th>3</th>\n",
       "      <td>경향신문</td>\n",
       "      <td>팝스타 아리아나 그란데, 하이브와 재계약···팬덤 플랫폼 위버스도 입점</td>\n",
       "      <td>https://n.news.naver.com/article/032/000330232...</td>\n",
       "    </tr>\n",
       "    <tr>\n",
       "      <th>4</th>\n",
       "      <td>경향신문</td>\n",
       "      <td>독자 일정 일절 비공개…김건희 여사의 ‘조용한 순방’, 왜?</td>\n",
       "      <td>https://n.news.naver.com/article/032/000330235...</td>\n",
       "    </tr>\n",
       "  </tbody>\n",
       "</table>\n",
       "</div>"
      ],
      "text/plain": [
       "  Press                                    Title  \\\n",
       "0  경향신문       아내에 성인방송 출연 ‘협박·감금’ 전직 군인 징역 7년 구형   \n",
       "1  경향신문  이성윤 “특활비로 술먹고 민원실에 대변 본 검사들...공수처 조사해야”   \n",
       "2  경향신문     ‘김건희 명품백’ 폭로한 기자 “내 돈으로 샀다, 이제 돌려달라”   \n",
       "3  경향신문  팝스타 아리아나 그란데, 하이브와 재계약···팬덤 플랫폼 위버스도 입점   \n",
       "4  경향신문        독자 일정 일절 비공개…김건희 여사의 ‘조용한 순방’, 왜?   \n",
       "\n",
       "                                                Link  \n",
       "0  https://n.news.naver.com/article/032/000330235...  \n",
       "1  https://n.news.naver.com/article/032/000330235...  \n",
       "2  https://n.news.naver.com/article/032/000330236...  \n",
       "3  https://n.news.naver.com/article/032/000330232...  \n",
       "4  https://n.news.naver.com/article/032/000330235...  "
      ]
     },
     "execution_count": 10,
     "metadata": {},
     "output_type": "execute_result"
    }
   ],
   "source": [
    "base_url = 'https://news.naver.com/main/ranking/popularDay.naver'\n",
    "press_news_data = get_news_links_by_press(base_url)\n",
    "\n",
    "# 1. 뉴스 DataFrame 생성\n",
    "news_list = []\n",
    "for press_name, news_data in press_news_data.items() :\n",
    "    for title, link in news_data :\n",
    "        news_list.append([press_name, title, link])\n",
    "news_df = pd.DataFrame(news_list, columns = ['Press', 'Title', 'Link'])\n",
    "\n",
    "news_df.head()"
   ]
  },
  {
   "cell_type": "markdown",
   "metadata": {},
   "source": [
    "# Keyword 추출"
   ]
  },
  {
   "cell_type": "code",
   "execution_count": 21,
   "metadata": {},
   "outputs": [
    {
     "name": "stderr",
     "output_type": "stream",
     "text": [
      "뉴스 기사 본문 Crawling 진행 중: 100%|██████████| 408/408 [11:29<00:00,  1.69s/Link]\n",
      "Text 처리 중: 100%|██████████| 408/408 [02:04<00:00,  3.27기사/s]"
     ]
    },
    {
     "name": "stdout",
     "output_type": "stream",
     "text": [
      "['성인방송출연을요구하며아내를협박·감금한혐의로전직군인이인천지법에들어가고있다.연합뉴스제공아내가숨지기전성인방송출연을요구하며협박·감금한혐의로구속기소된30대전직군인에게검찰이징역7년을구형했다.검찰은인천지법형사5단독홍준서판사심리로14일열린결심공판에서감금과협박혐의로구속기소된A씨(37)에게징역7년을구형했다고밝혔다.A씨의선고공판은다음달12일열린다.검찰은“A씨는아내를지속해서감금·협박하고,사회관계망서비스(SNS)에음란사진을게시했다”며“피해자가정신적고통을호소하며유서를쓰고자살까지이르게해죄질이좋지않다”고구형아유를밝혔다.A씨측변호인은“A씨는피해자에게해를끼칠마음이없었고대화를시도하기위해집으로부른것”이라며“A씨는공소사실대부분을인정하고,진지하게반성하는점을참작해달라”고재판부에요청했다.검찰의구형전피해자의유족들은재판부에엄벌을요청했다.피해자의아버지는“A씨는딸에게성인방송을강요했고거부하니‘아버지에게나체사진을보내겠다’며협박했다”며“A씨는성인방송수입금으로고급차와명품옷·운동화로자신을과시하고다녔다”고말했다.이어“하나밖에없는딸을죽음으로내몬피고인에게엄벌을내려달라”고덧붙였다.A씨는2021년부터지난해까지30대아내B씨를자택에감금하고,성관계영상촬영과성인방송출연을강요한혐의로구속기소됐다.또성인방송촬영을거부하는B씨에게“나체사진을장인어른에게보내겠다”며협박한혐의도받는다.B씨는지난해12월피해를호소하는내용의유서를남기고숨졌다.A씨는2011년여성나체사진등을98차례인터넷에올린혐의(정보통신망이용촉진및정보보호등에관한법률상음란물유포)도받았다.직업군인이던A씨는2021년온라인에서불법영상물을공유했다가강제전역한것으로알려졌다.박준철기자terryus@kyunghyang.com기자프로필박준철기자구독구독중구독자0응원수0경향신문인천담당박준철기자입니다.“정부,인천공항적자땐한푼도안줘놓고···흑자땐절반가까이꿀꺽”윤대통령장모최은순씨,성남땅27억과징금항소심도패소경향신문의구독많은기자를구독해보세요!닫기Copyrightⓒ경향신문.Allrightsreserved.무단전재및재배포금지.이기사는언론사에서경제,사회,생활섹션으로분류했습니다.기사섹션분류안내기사의섹션정보는해당언론사의분류를따르고있습니다.언론사는개별기사를2개이상섹션으로중복분류할수있습니다.닫기구독메인에서바로보는언론사편집뉴스지금바로구독해보세요!구독중메인에서바로보는언론사편집뉴스지금바로확인해보세요!매일라이브경향티비,재밌고효과빠른시사소화제!’5·18성폭력아카이브’16명의증언을모두확인하세요주요뉴스해당언론사에서선정하며언론사페이지(아웃링크)로이동해볼수있습니다.세금내는600살\\'땅부자\\'소나무가있다…이달까지품에안아볼수도있어동해석유·가스매장윤대통령발표\\'신뢰안해\\'60%\\'신뢰한다\\'28%[한국갤럽]\"성접대아니라니까요\"6년째고통받는고준희…버닝썬은ing민주\"김건희여사성형보도한카자흐언론…대통령부부무시\"하천에따릉이27대집어던진남성···경찰이잡았는데\"난아냐\"이기사를추천합니다기사추천은24시간내50회까지참여할수있습니다.닫기쏠쏠정보0흥미진진0공감백배0분석탁월0후속강추0모두에게보여주고싶은기사라면?beta이기사를추천합니다버튼을눌러주세요.집계기간동안추천을많이받은기사는네이버자동기사배열영역에추천요소로활용됩니다.레이어닫기경향신문언론사홈바로가기기자구독후기사보기구독없이계속보기'\n",
      " '이성윤더불어민주당의원이14일국회법사위전체회의에서오동훈공수처장을상대로질의를하고있다.2024.06.14박민규선임기자이성윤더불어민주당의원이14일국회법제사법위원회전체회의에서울산지검검사들이과거특별활동비로술판을벌이고민원인대기실에대변을보는등추태를부렸다며조사등대응을주문했다.이의원은이날회의에서오동운고위공직자범죄수사처장을향해2019년1월8일울산지검에서발생한검사들의만취사건을거론했다.이의원은“오후6시경검찰의한모임에소속된30명이모여지검2층간부식당에서회식을했다”며“당시특활비로소주와맥주,안주등을주문했고늦은시간까지술을마셔대부분만취했다고한다”고밝혔다.이의원은“당시한부장검사가테이블을발로차술잔을깨뜨리고한검사를때리는가하면.부장검사가복도바닥에누워자기도했다”며“다음날아침민원인대기실바닥에대변이대량발견됐다”고설명했다.그는또“(대변등은)환경미화원에게현금을줘수습한것으로전해졌다”며검찰의기강문란을지적했다.오공수처장이이와관련해“처음듣는얘기”라고밝히자이의원은“이사건을지금이라도확인해야한다고생각한다”고말했다.오공수처장은“사실이라면관심을갖고다룰수밖에없지만,이사안이공수처의수사대상인지그런부분은따져보야할것”이라고말했다.이의원은“하다하다검찰이이지경까지망가졌다”라며“특활비사용내역이나폭탄주를마시고서로폭행하고대변을본일,현금으로수습한의혹등을감찰조사를거쳐우리위원회에보고토록해야한다”고했다.박용하기자yong14h@kyunghyang.com박하얀기자white@kyunghyang.com기자프로필박용하기자구독구독중구독자0응원수0경향신문국제부[단독]‘동해원유’검증단교수가액트지오대표논문공동저자…검증객관성문제없나민주서영교“김건희여사성형보도한카자흐언론…속상해”박하얀기자구독구독중구독자0응원수0민주서영교“김건희여사성형보도한카자흐언론…속상해”이재명은반대했다는데···민주당‘대표사퇴예외’허용하기로,왜?경향신문의구독많은기자를구독해보세요!닫기Copyrightⓒ경향신문.Allrightsreserved.무단전재및재배포금지.이기사는언론사에서정치섹션으로분류했습니다.기사섹션분류안내기사의섹션정보는해당언론사의분류를따르고있습니다.언론사는개별기사를2개이상섹션으로중복분류할수있습니다.닫기구독메인에서바로보는언론사편집뉴스지금바로구독해보세요!구독중메인에서바로보는언론사편집뉴스지금바로확인해보세요!매일라이브경향티비,재밌고효과빠른시사소화제!’5·18성폭력아카이브’16명의증언을모두확인하세요주요뉴스해당언론사에서선정하며언론사페이지(아웃링크)로이동해볼수있습니다.세금내는600살\\'땅부자\\'소나무가있다…이달까지품에안아볼수도있어동해석유·가스매장윤대통령발표\\'신뢰안해\\'60%\\'신뢰한다\\'28%[한국갤럽]\"성접대아니라니까요\"6년째고통받는고준희…버닝썬은ing민주\"김건희여사성형보도한카자흐언론…대통령부부무시\"하천에따릉이27대집어던진남성···경찰이잡았는데\"난아냐\"이기사를추천합니다기사추천은24시간내50회까지참여할수있습니다.닫기쏠쏠정보0흥미진진0공감백배0분석탁월0후속강추0모두에게보여주고싶은기사라면?beta이기사를추천합니다버튼을눌러주세요.집계기간동안추천을많이받은기사는네이버자동기사배열영역에추천요소로활용됩니다.레이어닫기경향신문언론사홈바로가기기자구독후기사보기구독없이계속보기'\n",
      " '경찰출석···‘김여사입장표명’요구“대통령기록물보존?내가부끄러워”윤석열대통령의부인김건희여사에게최재영목사가명품가방을건넨사건과관련해가방을준비하고몰래촬영한전달장면을보도한이명수서울의소리기자가14일오전피고발인조사를받기위해서울영등포경찰서로출석하기앞서입장을밝히고있다.연합뉴스김건희여사의명품가방수수의혹을제기한서울의소리이명수기자가경찰조사에출석해“명품가방을이제돌려달라”며“김여사가직접입장을밝혀달라”고요구했다.이기자는14일오전10시쯤서울영등포경찰서에출석해“제돈으로산명품가방을대통령기록물로보존한다고한다는데제가다부끄럽다”며“전싫으니이제돌려달라”고밝혔다.그는“김여사는침묵하지말고입장을밝히고처벌받겠다고말해달라”고했다.이날오후3시40분쯤조사를마치고나온이기자는“최목사와언더커버(위장수사)취재한것을인정하는지를많이질문했다”며“김여사명예훼손혐의에대해서는공익적목적으로취재·보도한것이라해명했다”고밝혔다.서울의소리는지난해11월김건희여사의명품가방수수의혹을폭로했다.당시서울의소리는2022년9월최재영목사가김여사에게명품가방을전하며이를손목시계에달린카메라로몰래촬영한영상을공개했다.이기자는당시최목사가전한명품가방과김여사를몰래촬영한카메라를직접준비한인물이다.이번경찰조사는지난2월한시민단체가최목사와서울의소리관계자등을주거침입·명예훼손혐의등으로고발한데따른것이다.전날에는이기자와같은혐의로고발된최재영목사가6시간30분간경찰조사를받았다.최목사는경찰조사에출석해“국민권익위는제가외국인이라제가건넨선물은국가기록물에해당하고신고의무가없다고하는데,법이의미하는외국인은외국장관·대통령이지일반인이아니다”라며“조항의해석이잘못됐다”고주장했다.최재영“대통령실과장과김건희비서핸드폰·컴퓨터압수하면다드러나”윤석열대통령의부인김건희여사에게명품가방을건네고이를몰래촬영한최재영목사가13일경찰조사에출석했다.최목사는“김여사측근을압수수색하면모든진실이...https://www.khan.co.kr/national/national-general/article/202406131140001이예슬기자brightpearl@kyunghyang.com기자프로필이예슬기자구독구독중구독자0응원수0“다음엔너야”···아파트엘리베이터에붙은경고문가해자신상폭로‘유튜버식정의구현’…“언론이기름부었다”경향신문의구독많은기자를구독해보세요!닫기Copyrightⓒ경향신문.Allrightsreserved.무단전재및재배포금지.이기사는언론사에서사회섹션으로분류했습니다.기사섹션분류안내기사의섹션정보는해당언론사의분류를따르고있습니다.언론사는개별기사를2개이상섹션으로중복분류할수있습니다.닫기구독메인에서바로보는언론사편집뉴스지금바로구독해보세요!구독중메인에서바로보는언론사편집뉴스지금바로확인해보세요!매일라이브경향티비,재밌고효과빠른시사소화제!’5·18성폭력아카이브’16명의증언을모두확인하세요주요뉴스해당언론사에서선정하며언론사페이지(아웃링크)로이동해볼수있습니다.민주\"김건희여사성형보도한카자흐언론…대통령부부무시\"이성윤\"특활비로술먹고민원실에대변본검사들...공수처조사해야\"\"성접대아니라니까요\"6년째고통받는고준희…버닝썬은ing세금내는600살\\'땅부자\\'소나무가있다…이달까지품에안아볼수도있어아내성인방송출연강요\\'협박·감금\\'전직군인징역7년구형이기사를추천합니다기사추천은24시간내50회까지참여할수있습니다.닫기쏠쏠정보0흥미진진0공감백배0분석탁월0후속강추0모두에게보여주고싶은기사라면?beta이기사를추천합니다버튼을눌러주세요.집계기간동안추천을많이받은기사는네이버자동기사배열영역에추천요소로활용됩니다.레이어닫기경향신문언론사홈바로가기기자구독후기사보기구독없이계속보기'\n",
      " '팝스타아리아나그란데.하이브제공세계적인팝가수아리아나그란데가하이브아메리카와재계약했다.하이브는그란데가하이브의미국법인HBA와신규비즈니스파트너십계약을체결했다고14일밝혔다.구체적인계약기간과조건은밝히지않았으나기존매니지먼트계약을새로운조건의파트너십계약으로전환한것으로알려졌다.그란데는위버스에도입점한다.위버스는하이브의팬덤플랫폼으로아티스트와팬간소통,굿즈구입등이이뤄지는곳이다.국내외아티스트가입점해있다.하이브아메리카는그란데의뷰티브랜드렘뷰티와의협업도지속한다는계획이다.하이브는2021년미국의엔터테인먼트기업이타카홀딩스를인수하며그란데와인연을맺었다.그란데는2013년부터이타카홀딩스산하SB프로젝트와계약을맺어활동해왔다.하이브는지난해초미국의유명힙합레이블QC미디어홀딩스에이어지난해11월에는라틴음악레이블인‘엑자일’을인수하는등세계음악시장에서의영향력을확대해오고있다.아리아나그란데는미국의싱어송라이터이자배우이다.‘프라블럼’,‘사이드투사이드’등히트곡이있다.하반기개봉하는뮤지컬영화<위키드>에서는주인공‘글린다’를연기한다.최민지기자ming@kyunghyang.com기자프로필최민지기자구독구독중구독자2,398응원수0경향신문최민지기자입니다.아일릿소속사,민희진에형사고소이어민사소송도제기‘트로트열풍’주역서혜진,이번엔아이돌···“겨우틔운싹,묘목까지키워봐야죠”경향신문의구독많은기자를구독해보세요!닫기Copyrightⓒ경향신문.Allrightsreserved.무단전재및재배포금지.이기사는언론사에서생활섹션으로분류했습니다.기사섹션분류안내기사의섹션정보는해당언론사의분류를따르고있습니다.언론사는개별기사를2개이상섹션으로중복분류할수있습니다.닫기구독메인에서바로보는언론사편집뉴스지금바로구독해보세요!구독중메인에서바로보는언론사편집뉴스지금바로확인해보세요!매일라이브경향티비,재밌고효과빠른시사소화제!’5·18성폭력아카이브’16명의증언을모두확인하세요주요뉴스해당언론사에서선정하며언론사페이지(아웃링크)로이동해볼수있습니다.민주\"김건희여사성형보도한카자흐언론…대통령부부무시\"이성윤\"특활비로술먹고민원실에대변본검사들...공수처조사해야\"\"성접대아니라니까요\"6년째고통받는고준희…버닝썬은ing세금내는600살\\'땅부자\\'소나무가있다…이달까지품에안아볼수도있어아내성인방송출연강요\\'협박·감금\\'전직군인징역7년구형이기사를추천합니다기사추천은24시간내50회까지참여할수있습니다.닫기쏠쏠정보0흥미진진0공감백배0분석탁월0후속강추0모두에게보여주고싶은기사라면?beta이기사를추천합니다버튼을눌러주세요.집계기간동안추천을많이받은기사는네이버자동기사배열영역에추천요소로활용됩니다.레이어닫기경향신문언론사홈바로가기기자구독후기사보기구독없이계속보기'\n",
      " '윤석열대통령과중앙아시아3국순방에동행한김건희여사가독자일정을자제하는등조용한행보을이어가고있다.윤대통령출국당일국민권익위원회가김여사명품가방수수의혹사건을종결처리하면서국내에서논란이확산하고있는점등을의식한게아니냐는해석이나온다.윤석열대통령과김건희여사가13일오후(현지시간)우즈베키스탄타슈켄트힐튼호텔에서열린동포만찬간담회에서참석해박수를치고있다.김창길기자윤대통령과김여사는지난10일투르크메니스탄을시작으로,카자흐스탄에이어14일(현지시간)우즈베키스탄에서순방일정을소화하고있다.김여사는지난10일부터전날까지윤대통령과함께참석하는공식일정외에독자일정을공개하지않았다.이기간대통령실이공개한김여사와관련된보도자료는지난11일투르크메니스탄최고지도자배우자와의친교행사를다룬서면브리핑한건이전부다.김여사는지난13일윤대통령이카자흐스탄에서우즈베키스탄으로출발하기전기내에서기자들에게인사를할때도동행하지않았다.이같은김여사의순방동행행보는전례에비춰조용하다고평가할수있다.김여사는네덜란드국빈방문때인지난해12월12일(현지시간)에는암스테르담동물보호재단을방문해“한국국회의여야가함께개식용종식을위해발의한특별법이조속히통과되기를바란다”고밝혔다.이후‘개식용금지법’은‘김건희법’으로불렸고국회를통과했다.김여사가독자행보를넘어사회문제를제기하고법안통과까지유도한셈이다.김여사는사우디아라비아·카타르순방때인지난해10월23일(현지시간)에는사우디아라비아그린리야드프로젝트현장인사이언스파크부지를방문해“지금은환경이시급한과제”라며“지구온난화에마주한지금,환경은모두가고민하고해결해야할숙제”라고말했다.김여사는이외에도‘전공분야’로삼는문화예술분야방문독자일정을과거순방·국빈방문때많이수행해왔다.지난해10월사우디아라비아왕립전통예술원을방문,지난해4월보스턴미술관방문,지난해1월취리히미술관방문,2022년6월스페인한국문화원방문등이대표적이다.중앙아시아3국에서는이날까진문화예술분야일정도없었다.독자행보가논란이된사례도있다.김여사는2022년11월캄보디아프놈펜에서심장질환소년의집을위로차방문한바있다.당시사진을두고장경태더불어민주당의원이‘빈곤포르노’라고비난했고,대통령실이장의원을형사고발했다.공식일정은아니었지만지난해7월김여사가리투아니아에서명품쇼핑을했다는현지보도가논란이되기도했다.김여사가‘조용한동행’기조를이어가는데는확산중인논란을더키우지않으려는뜻이반영된것으로보인다.국민의힘관계자는이날통화에서“여야원구성협상,‘이화영재판’등보수층이결집하는상황에서윤대통령외교일정은지지율에긍정적인영향을줬다”며“괜히김여사행보가주목받을필요는없다”고말했다.다른국민의힘관계자는이날통화에서“눈치를볼수밖에없는상황아니냐”며“국내에서민감한상태라너무나서면안된다”고말했다.반면또다른국민의힘관계자는이날통화에서“일정을취소하거나한건아니지않느냐”며“국가별로여사의역할이다를수있다.너무의미부여할필요는없다”고말했다.타슈켄트|박순봉기자gabgu@kyunghyang.com유설희기자sorry@kyunghyang.com기자프로필박순봉기자구독구독중구독자4,469응원수0정치부정당출입기자입니다.국회기사를씁니다.[속보]대통령실“오늘중대북확성기설치및방송실시”···오물풍선맞대응3차오물풍선에확성기‘맞불’…남북군사충돌‘뇌관’터지나유설희기자구독구독중구독자4,878응원수0정치부동해석유·가스매장윤대통령발표‘신뢰안해’60%‘신뢰한다’28%[한국갤럽]윤대통령,중앙아시아3개국순방출국…김건희여사동행경향신문의구독많은기자를구독해보세요!닫기Copyrightⓒ경향신문.Allrightsreserved.무단전재및재배포금지.이기사는언론사에서정치,세계섹션으로분류했습니다.기사섹션분류안내기사의섹션정보는해당언론사의분류를따르고있습니다.언론사는개별기사를2개이상섹션으로중복분류할수있습니다.닫기구독메인에서바로보는언론사편집뉴스지금바로구독해보세요!구독중메인에서바로보는언론사편집뉴스지금바로확인해보세요!매일라이브경향티비,재밌고효과빠른시사소화제!’5·18성폭력아카이브’16명의증언을모두확인하세요주요뉴스해당언론사에서선정하며언론사페이지(아웃링크)로이동해볼수있습니다.세금내는600살\\'땅부자\\'소나무가있다…이달까지품에안아볼수도있어동해석유·가스매장윤대통령발표\\'신뢰안해\\'60%\\'신뢰한다\\'28%[한국갤럽]\"성접대아니라니까요\"6년째고통받는고준희…버닝썬은ing민주\"김건희여사성형보도한카자흐언론…대통령부부무시\"하천에따릉이27대집어던진남성···경찰이잡았는데\"난아냐\"이기사를추천합니다기사추천은24시간내50회까지참여할수있습니다.닫기쏠쏠정보0흥미진진0공감백배0분석탁월0후속강추0모두에게보여주고싶은기사라면?beta이기사를추천합니다버튼을눌러주세요.집계기간동안추천을많이받은기사는네이버자동기사배열영역에추천요소로활용됩니다.레이어닫기경향신문언론사홈바로가기기자구독후기사보기구독없이계속보기']\n",
      "🍋🍋🍋🍋🍋🍋🍋🍋🍋🍋🍋🍋🍋🍋🍋🍋🍋🍋🍋🍋🍋🍋🍋🍋🍋🍋🍋🍋🍋🍋🍋🍋🍋🍋🍋🍋🍋🍋🍋🍋🍋🍋🍋🍋🍋🍋🍋🍋🍋🍋🍋🍋🍋🍋🍋🍋🍋🍋🍋🍋🍋🍋🍋🍋🍋🍋🍋🍋🍋🍋🍋🍋🍋🍋🍋🍋🍋🍋🍋🍋\n",
      "[list(['협박', '혐의', '성인', '아내', '감금', '검찰', '피해자', '방송출연', '인천', '방송'])\n",
      " list(['의원', '민주당', '검사', '대변', '지금', '확인', '동해', '민주', '김건희', '사성'])\n",
      " list(['목사', '가방', '김여사', '명품', '김건희', '경찰', '대통령', '최재영', '서울', '소리'])\n",
      " list(['하이브', '계약', '아리아나', '최민지', '분류', '아메리카', '파트너', '기간', '조건', '버스'])\n",
      " list(['김여사', '대통령', '순방', '일정', '김건희', '행보', '방문', '동행', '현지', '지난'])]\n"
     ]
    },
    {
     "name": "stderr",
     "output_type": "stream",
     "text": [
      "\n"
     ]
    }
   ],
   "source": [
    "# Chrome Browser와 Chrome Driver Version 확인 및 WebDriver 객체 생성\n",
    "chrome_options = webdriver.ChromeOptions()\n",
    "# ******************************************************\n",
    "chrome_options.add_argument('headless') # Run chrome browser in the background\n",
    "chrome_options.add_argument('window-size = 1920x1080')  # Chrome Browser Window Size\n",
    "# ******************************************************\n",
    "driver = webdriver.Chrome(service = Service(ChromeDriverManager().install()), options = chrome_options)\n",
    "\n",
    "# 1. 뉴스 기사 본문 가져오기 함수 정의\n",
    "def get_article_text (url) :\n",
    "    driver.get(url)\n",
    "\n",
    "    # # **************************************************************************\n",
    "    # # 기본 Path 설정\n",
    "    # today = datetime.now().strftime('%Y%m%d')   # 오늘 날짜 가져오기\n",
    "    # base_path = f\"Data/ScreenShot/By_Press/{today}\"\n",
    "\n",
    "    # ## By_Press 폴더 생성\n",
    "    # os.makedirs(base_path, exist_ok = True)\n",
    "\n",
    "    # # 동일한 By_Press/today Folder가 존재하는지 확인하고, 존재한다면 하위에 새로운 Folder 생성\n",
    "    # new_path = base_path\n",
    "    # while os.path.exists(new_path) :\n",
    "    #     new_path = os.path.join(base_path, str(len(os.listdir(base_path)) + 1)) # index는 폴더 내 파일 개수 + 1로 설정\n",
    "    \n",
    "    # # 새로운 Folder 생성\n",
    "    # os.makedirs(new_path, exist_ok = True)\n",
    "\n",
    "    # # 기본 File Name 설정\n",
    "    # base_filename = news_df[news_df['Link'] == url]['Title'].values[0]\n",
    "    # extension = \".png\"\n",
    "    # name_index = 1  # File Name에 추가될 숫자\n",
    "    # new_filename = base_filename + extension\n",
    "\n",
    "    # # File Path 생성\n",
    "    # screenshot_name = os.path.join(new_path, new_filename)\n",
    "\n",
    "    # # 동일한 File Name이 존재하는지 확인하고, 존재한다면 새로운 File Name 생성\n",
    "    # while os.path.exists(screenshot_name) :\n",
    "    #     new_filename = f\"{base_filename}_{name_index}{extension}\"\n",
    "    #     screenshot_name = os.path.join(new_path, new_filename)\n",
    "    #     name_index += 1\n",
    "    \n",
    "    # # Browser 최대화\n",
    "    # driver.maximize_window()\n",
    "    \n",
    "    # # 현재 화면 Capture하기\n",
    "    # driver.save_screenshot(screenshot_name)\n",
    "    # # **************************************************************************\n",
    "\n",
    "    html = driver.page_source\n",
    "    article_soup = BeautifulSoup(html, \"html.parser\")\n",
    "    content = article_soup.select_one(\"#contents\")\n",
    "    if content :\n",
    "        # 공백과 HTML Tag 제거\n",
    "        text =''.join(content.text.split())\n",
    "        # *******************************************\n",
    "        # 요청 후 임의의 시간만큼 대기 (Page Loaded)\n",
    "        time.sleep(random.uniform(0.5, 2.0))\n",
    "        # *******************************************\n",
    "        \n",
    "        return text\n",
    "\n",
    "# 2. 뉴스 기사 본문 수집\n",
    "content_pbar = tqdm(news_df['Link'], desc = \"뉴스 기사 본문 Crawling 진행 중\", unit = \"Link\")\n",
    "news_df['content'] = [get_article_text(url) for url in content_pbar]\n",
    "\n",
    "# Browser 종료 (모든 Tab 종료)\n",
    "driver.quit()\n",
    "\n",
    "# 3. 키워드 추출 함수 정의\n",
    "def get_keywords (text, num_keywords = 10) :\n",
    "    okt = Okt()\n",
    "    tokens = okt.nouns(text)\n",
    "    tokens = [word for word in tokens if word not in stopwords and len(word) > 1]\n",
    "    return [word for word, freq in Counter(tokens).most_common(num_keywords)]\n",
    "\n",
    "# 4. 각 언론사별 키워드 추출\n",
    "text_pbar = tqdm(news_df['content'], desc = \"Text 처리 중\", unit = \"기사\")\n",
    "news_df['keywords'] = [get_keywords(text) for text in text_pbar]\n",
    "news_df['keywords'].head()\n",
    "\n",
    "print(news_df['content'].head().values)\n",
    "print('🍋' * 80)\n",
    "print(news_df['keywords'].head().values)"
   ]
  },
  {
   "cell_type": "code",
   "execution_count": 19,
   "metadata": {},
   "outputs": [
    {
     "name": "stdout",
     "output_type": "stream",
     "text": [
      "불용어 목록이 성공적으로 업데이트되고 새로운 파일에 저장되었습니다.\n"
     ]
    }
   ],
   "source": [
    "# # 불용어 추가\n",
    "# # new_stopwords = [\n",
    "# #     \"구독\", \"기사\", \"기자\", \"언론사\", \"추천\", \"보기\", \"섹션\", \"뉴스\", \"마이\", \"어스\"\n",
    "# # ]\n",
    "# new_stopwords = list(news_df['Press'].unique())\n",
    "\n",
    "# # 불용어 파일 경로\n",
    "# stopword_file_path = 'Data/updated_stopword.txt'\n",
    "\n",
    "# # 불용어 파일 읽기\n",
    "# with open(stopword_file_path, 'r', encoding = 'utf-8') as file :\n",
    "#   stopwords = file.read().splitlines()\n",
    "\n",
    "# # 기존 불용어 목록에 새 불용어 추가\n",
    "# for word in new_stopwords :\n",
    "#   if word not in stopwords :  # 중복되지 않도록 체크\n",
    "#     stopwords.append(word)\n",
    "\n",
    "# # 새로운 불용어 파일 경로\n",
    "# new_stopword_file_path = 'Data/updated_stopword.txt'\n",
    "\n",
    "# # 불용어 파일 저장\n",
    "# with open(new_stopword_file_path, 'w', encoding = 'utf-8') as file :\n",
    "#   for stopword in stopwords :\n",
    "#     file.write(stopword + '\\n')\n",
    "\n",
    "# print(\"불용어 목록이 성공적으로 업데이트되고 새로운 파일에 저장되었습니다.\")"
   ]
  },
  {
   "cell_type": "markdown",
   "metadata": {},
   "source": [
    "# 뉴스 추천 시스템 구축"
   ]
  },
  {
   "cell_type": "code",
   "execution_count": 22,
   "metadata": {},
   "outputs": [
    {
     "name": "stderr",
     "output_type": "stream",
     "text": [
      "Embedding 처리 중: 100%|██████████| 408/408 [02:24<00:00,  2.82text/s]\n"
     ]
    },
    {
     "data": {
      "text/html": [
       "<div>\n",
       "<style scoped>\n",
       "    .dataframe tbody tr th:only-of-type {\n",
       "        vertical-align: middle;\n",
       "    }\n",
       "\n",
       "    .dataframe tbody tr th {\n",
       "        vertical-align: top;\n",
       "    }\n",
       "\n",
       "    .dataframe thead th {\n",
       "        text-align: right;\n",
       "    }\n",
       "</style>\n",
       "<table border=\"1\" class=\"dataframe\">\n",
       "  <thead>\n",
       "    <tr style=\"text-align: right;\">\n",
       "      <th></th>\n",
       "      <th>Press</th>\n",
       "      <th>Title</th>\n",
       "      <th>similarity</th>\n",
       "    </tr>\n",
       "  </thead>\n",
       "  <tbody>\n",
       "    <tr>\n",
       "      <th>291</th>\n",
       "      <td>프레시안</td>\n",
       "      <td>홍준표 \"실체적 진실이면 이재명은 감옥, 꿰맞춘 수사라면 검찰은 궤멸\"</td>\n",
       "      <td>0.739615</td>\n",
       "    </tr>\n",
       "    <tr>\n",
       "      <th>136</th>\n",
       "      <td>디지털타임스</td>\n",
       "      <td>[속보]이재명 \"대북송금은 있을 수 없는 희대의 조작 사건으로 밝혀질 것\"</td>\n",
       "      <td>0.737046</td>\n",
       "    </tr>\n",
       "    <tr>\n",
       "      <th>147</th>\n",
       "      <td>조선비즈</td>\n",
       "      <td>380만원 넘는 디올백, 원가는 8만원… ‘노동 착취’ 실태 드러나</td>\n",
       "      <td>0.735331</td>\n",
       "    </tr>\n",
       "    <tr>\n",
       "      <th>24</th>\n",
       "      <td>이데일리</td>\n",
       "      <td>거지가 한 달에 375만원 버는 나라…정부 \"절대 돈 주지 마라\" 경고</td>\n",
       "      <td>0.734711</td>\n",
       "    </tr>\n",
       "    <tr>\n",
       "      <th>138</th>\n",
       "      <td>디지털타임스</td>\n",
       "      <td>\"장인이 만든 줄 알았는데\"…380만원짜리 디올 가방 원가에 `발칵`</td>\n",
       "      <td>0.733185</td>\n",
       "    </tr>\n",
       "    <tr>\n",
       "      <th>78</th>\n",
       "      <td>연합뉴스</td>\n",
       "      <td>\"성인방송 강요받다 숨진 내 딸…\" 법정서 아버지 절규</td>\n",
       "      <td>0.733176</td>\n",
       "    </tr>\n",
       "    <tr>\n",
       "      <th>122</th>\n",
       "      <td>MBC</td>\n",
       "      <td>대통령실, '투르크멘 국견 선물' 언급하며 \"김 여사 동물사랑 반향\"</td>\n",
       "      <td>0.731834</td>\n",
       "    </tr>\n",
       "    <tr>\n",
       "      <th>180</th>\n",
       "      <td>시사IN</td>\n",
       "      <td>국민 60%가 ‘석유 가능성’ 안 믿는 이유 [김은지의 뉴스IN]</td>\n",
       "      <td>0.731606</td>\n",
       "    </tr>\n",
       "    <tr>\n",
       "      <th>238</th>\n",
       "      <td>전자신문</td>\n",
       "      <td>태국 거지의 한 달 수입은?… “375만원”</td>\n",
       "      <td>0.730998</td>\n",
       "    </tr>\n",
       "    <tr>\n",
       "      <th>74</th>\n",
       "      <td>국민일보</td>\n",
       "      <td>‘신림 칼부림’ 조선, 2심 선고 전 “감형 한 번 도와주세요”</td>\n",
       "      <td>0.730795</td>\n",
       "    </tr>\n",
       "  </tbody>\n",
       "</table>\n",
       "</div>"
      ],
      "text/plain": [
       "      Press                                      Title  similarity\n",
       "291    프레시안    홍준표 \"실체적 진실이면 이재명은 감옥, 꿰맞춘 수사라면 검찰은 궤멸\"    0.739615\n",
       "136  디지털타임스  [속보]이재명 \"대북송금은 있을 수 없는 희대의 조작 사건으로 밝혀질 것\"    0.737046\n",
       "147    조선비즈      380만원 넘는 디올백, 원가는 8만원… ‘노동 착취’ 실태 드러나    0.735331\n",
       "24     이데일리    거지가 한 달에 375만원 버는 나라…정부 \"절대 돈 주지 마라\" 경고    0.734711\n",
       "138  디지털타임스     \"장인이 만든 줄 알았는데\"…380만원짜리 디올 가방 원가에 `발칵`    0.733185\n",
       "78     연합뉴스             \"성인방송 강요받다 숨진 내 딸…\" 법정서 아버지 절규    0.733176\n",
       "122     MBC     대통령실, '투르크멘 국견 선물' 언급하며 \"김 여사 동물사랑 반향\"    0.731834\n",
       "180    시사IN       국민 60%가 ‘석유 가능성’ 안 믿는 이유 [김은지의 뉴스IN]    0.731606\n",
       "238    전자신문                   태국 거지의 한 달 수입은?… “375만원”    0.730998\n",
       "74     국민일보        ‘신림 칼부림’ 조선, 2심 선고 전 “감형 한 번 도와주세요”    0.730795"
      ]
     },
     "execution_count": 22,
     "metadata": {},
     "output_type": "execute_result"
    }
   ],
   "source": [
    "# 1. BERT 모델 및 토크나이저 불러오기\n",
    "tokenizer = BertTokenizer.from_pretrained('bert-base-multilingual-cased')\n",
    "model = BertModel.from_pretrained('bert-base-multilingual-cased')\n",
    "\n",
    "\"\"\"\n",
    "    with torch.no_grad():\n",
    "    - 블록을 사용하여 모델의 출력을 계산할 때 그래디언트를 저장하지 않도록 했습니다.\n",
    "        - 이는 메모리 사용량을 줄이고 성능을 향상시킵니다.\n",
    "\"\"\"\n",
    "# 2. 문장 임베딩 생성 함수 정의\n",
    "def get_bert_embedding (text) :\n",
    "    inputs = tokenizer(\n",
    "        text,\n",
    "        return_tensors = 'pt',\n",
    "        truncation = True,\n",
    "        padding = True,\n",
    "        max_length = 512\n",
    "    )\n",
    "    with torch.no_grad() :\n",
    "        outputs = model(**inputs)\n",
    "    return outputs.last_hidden_state.mean(dim = 1).detach().numpy()\n",
    "\n",
    "# 3. 각 뉴스 기사 임베딩 생성\n",
    "embed_pbar = tqdm(news_df['content'], desc = \"Embedding 처리 중\", unit = \"text\")\n",
    "news_df['embedding'] = [get_bert_embedding(text) for text in embed_pbar]\n",
    "\n",
    "\n",
    "\"\"\"\n",
    "    keyword_text 생성 시, sum(news_df['keywords'], [])을 사용하여 List의 List를 평탄화한 후 Keyword를 결합합니다.\n",
    "\"\"\"\n",
    "# 4. 주요 Keyword 임베딩 생성\n",
    "keyword_text = ' '.join(sum(news_df['keywords'], []))\n",
    "keyword_embedding = get_bert_embedding(keyword_text)\n",
    "\n",
    "\n",
    "\"\"\"\n",
    "    np.vstack(df['embedding'].values:\n",
    "    - numpy 배열로 변환하는 부분입니다.\n",
    "        - 이는 embeddings 변수를 numpy 배열로 변환하여 코사인 유사도를 계산할 수 있게 합니다.\n",
    "\"\"\"\n",
    "# 5. 코사인 유사도 계산 및 뉴스 추천\n",
    "def recommend_news (df, keyword_embedding, top_n = 10) :\n",
    "    embeddings = np.vstack(df['embedding'].values)\n",
    "    similarities = cosine_similarity(embeddings, keyword_embedding.reshape(1, -1)).flatten()\n",
    "    df['similarity'] = similarities\n",
    "    return df.nlargest(top_n, 'similarity')\n",
    "\n",
    "recommended_news = recommend_news(news_df, keyword_embedding)\n",
    "recommended_news[['Press', 'Title', 'similarity']]"
   ]
  }
 ],
 "metadata": {
  "kernelspec": {
   "display_name": "base",
   "language": "python",
   "name": "python3"
  },
  "language_info": {
   "codemirror_mode": {
    "name": "ipython",
    "version": 3
   },
   "file_extension": ".py",
   "mimetype": "text/x-python",
   "name": "python",
   "nbconvert_exporter": "python",
   "pygments_lexer": "ipython3",
   "version": "3.11.7"
  }
 },
 "nbformat": 4,
 "nbformat_minor": 2
}
