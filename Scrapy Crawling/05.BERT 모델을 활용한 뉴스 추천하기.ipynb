{
 "cells": [
  {
   "cell_type": "markdown",
   "metadata": {},
   "source": [
    "---\n",
    "# Projectr : 하루시작 지하철 혼잡도 분석\n",
    "\n",
    "### Description : \n",
    "- <a><span style = \"color: #FFBE98\">\n",
    "    <b>BERT Model을 활용한 오늘의 주요 키워드 및 뉴스 추천하기</b>\n",
    "  </a>\n",
    "\n",
    "### Author : Zen Den\n",
    "\n",
    "### Date : 2024. 06. 13. (Thu) ~\n",
    "\n",
    "### Detail :\n",
    "  - Crawling 평균 소요시간 <br><br>\n",
    "    - 언론사별 랭킹뉴스의 언론사명, Title, Link: 1분 50초 <br><br>\n",
    "    - 뉴스 기사의 본문: 15분 30초 <br><br>\n",
    "\n",
    "  > (1) 환경 설정 및 라이브러리 설치\n",
    "  - 웹 크롤링을 위한 requests와 BeautifulSoup, Selenium <br>\n",
    "  - 데이터 처리를 위한 pandas <br>\n",
    "  - 텍스트 처리를 위한 nltk <br>\n",
    "  - 딥러닝 모델인 BERT를 활용하기 위한 transformers와 torch <br>\n",
    "  - 자연어 처리 위한 sklearn\n",
    "\n",
    "  > (2) Web Crawling\n",
    "  - 네이버 뉴스 페이지를 요청하고, BeautifulSoup으로 HTML 파싱 <br>\n",
    "  - 각 언론사별로 상위 5개 뉴스 기사 제목 및 Link 추출\n",
    "\n",
    "  > (3) Keyword 추출\n",
    "  - 각 뉴스 기사 본문을 가져와서 빈도수 높은 단어 추출 <br>\n",
    "  - 불용어 제거 및 형태소 분석을 통해 주요 Keyword 도출\n",
    "\n",
    "  > (4) 뉴스 추천 시스템 구축\n",
    "  - BERT Model을 활용하여 각 뉴스 기사 Embedding 생성 <br>\n",
    "  - 코사인 유사도를 사용하여 주요 Keyword와 유사한 뉴스 기사 추천\n",
    "\n",
    "### Update: \n",
    "- 2024.06.13. (Thu) K.Zen : <br><br>\n",
    "  - <span style = \"color: cyan\">\n",
    "      <b>Deep Learning(BERT Model)</b>\n",
    "      을 활용한 뉴스 추천하기\n",
    "    </span>"
   ]
  },
  {
   "cell_type": "markdown",
   "metadata": {},
   "source": [
    "---\n",
    "# Environment Setting and Import Library Package"
   ]
  },
  {
   "cell_type": "markdown",
   "metadata": {},
   "source": [
    "## Basic"
   ]
  },
  {
   "cell_type": "code",
   "execution_count": 1,
   "metadata": {},
   "outputs": [],
   "source": [
    "import pandas as pd, numpy as np"
   ]
  },
  {
   "cell_type": "markdown",
   "metadata": {},
   "source": [
    "## File System"
   ]
  },
  {
   "cell_type": "code",
   "execution_count": 2,
   "metadata": {},
   "outputs": [],
   "source": [
    "import os; from datetime import datetime"
   ]
  },
  {
   "cell_type": "markdown",
   "metadata": {},
   "source": [
    "## Crawling"
   ]
  },
  {
   "cell_type": "code",
   "execution_count": 3,
   "metadata": {},
   "outputs": [],
   "source": [
    "import requests # 인터넷에서 Data를 가져오기 위한 Library (웹페이지에 접속하고 HTML 코드를 가져오기 위해 사용)\n",
    "from bs4 import BeautifulSoup # 웹 페이지 내용을 분석하기 위한 Library (가져온 HTML 코드에서 우리가 필요한 정보를 추출하기 위해 사용)\n",
    "\n",
    "import time # 대기 시간을 추가하기 위한 Library (요청 사이에 랜덤한 시간을 기다리기 위해 사용)\n",
    "import random # Random한 대기 시간을 만들기 위한 Library\n",
    "from tqdm import tqdm # Crawling 진행 상황을 체크하기 위한 Module (진행 상황을 시각적으로 보여주기 위해 사용)\n",
    "\n",
    "from selenium import webdriver\n",
    "from selenium.webdriver.chrome.service import Service\n",
    "from webdriver_manager.chrome import ChromeDriverManager"
   ]
  },
  {
   "cell_type": "markdown",
   "metadata": {},
   "source": [
    "## Bag of Words (BoW)"
   ]
  },
  {
   "cell_type": "code",
   "execution_count": 4,
   "metadata": {},
   "outputs": [
    {
     "name": "stderr",
     "output_type": "stream",
     "text": [
      "[nltk_data] Downloading package punkt to\n",
      "[nltk_data]     /Users/gwangyeong/nltk_data...\n",
      "[nltk_data]   Package punkt is already up-to-date!\n"
     ]
    }
   ],
   "source": [
    "import nltk # Natural Language Toolkit (자연어 처리를 위해 사용)\n",
    "from konlpy.tag import Okt\n",
    "from collections import Counter # 단어의 빈도를 계산하기 위해 사용\n",
    "\n",
    "# 1. nltk Data Download\n",
    "nltk.download('punkt')\n",
    "\n",
    "# 2. 한국어 불용어 사전\n",
    "# ****************************************************************\n",
    "## 한국어 불용어 모음집 불러오기\n",
    "stopword_list = pd.read_csv(\"Data/stopword.txt\", header = None)\n",
    "# ****************************************************************\n",
    "stopword_list[0] = stopword_list[0].apply(lambda x: x.strip())\n",
    "stopwords = stopword_list[0].to_numpy()"
   ]
  },
  {
   "cell_type": "markdown",
   "metadata": {},
   "source": [
    "## Deep Learning - BERT"
   ]
  },
  {
   "cell_type": "code",
   "execution_count": 5,
   "metadata": {},
   "outputs": [],
   "source": [
    "from sklearn.metrics.pairwise import cosine_similarity\n",
    "from transformers import BertModel, BertTokenizer\n",
    "import torch"
   ]
  },
  {
   "cell_type": "markdown",
   "metadata": {},
   "source": [
    "# Web Crawling"
   ]
  },
  {
   "cell_type": "code",
   "execution_count": 6,
   "metadata": {},
   "outputs": [],
   "source": [
    "# 1. 뉴스 Crawling\n",
    "def get_news_links_by_press (url) :\n",
    "  headers = {\n",
    "    'User-Agent': 'Mozilla/5.0 (Windows NT 10.0; Win64; x64) AppleWebKit/537.36 (KHTML, like Gecko) Chrome/58.0.3029.110 Safari/537.3'}\n",
    "  response = requests.get(url, headers = headers) # url(페이지)에 접속\n",
    "  soup = BeautifulSoup(response.content, 'html.parser') # HTML 코드를 파싱(분석)하여 soup 객체에 저장\n",
    "  \n",
    "  press_data = {}\n",
    "  press_sections = soup.select('.rankingnews_box')\n",
    "  \n",
    "  for press_section in tqdm(press_sections, desc = \"언론사별 뉴스 Crawling\") :\n",
    "    press_name = press_section.select_one('.rankingnews_name').get_text(strip = True)\n",
    "    news_links = set()  # 중복 제거를 위한 set 사용\n",
    "    for item in press_section.select('li a') :\n",
    "      title = item.get_text(strip = True)\n",
    "      link = item['href']\n",
    "      if title and link and \"동영상\" not in title :  # Title이 존재하고 \"동영상\"이 포함되지 않은 경우에만 추가\n",
    "        news_links.add((title, link))\n",
    "    press_data[press_name] = list(news_links)[:5]  # 다시 list로 변환 후 상위 5개만 저장\n",
    "    \n",
    "    # *********************************************\n",
    "    # 각 언론사별 뉴스 Crawling 후 대기 시간 추가\n",
    "    time.sleep(random.uniform(0.5, 2.0))\n",
    "    # *********************************************\n",
    "  \n",
    "  return press_data"
   ]
  },
  {
   "cell_type": "code",
   "execution_count": 7,
   "metadata": {},
   "outputs": [
    {
     "name": "stderr",
     "output_type": "stream",
     "text": [
      "언론사별 뉴스 Crawling: 100%|██████████| 82/82 [01:44<00:00,  1.27s/it]\n"
     ]
    },
    {
     "data": {
      "text/html": [
       "<div>\n",
       "<style scoped>\n",
       "    .dataframe tbody tr th:only-of-type {\n",
       "        vertical-align: middle;\n",
       "    }\n",
       "\n",
       "    .dataframe tbody tr th {\n",
       "        vertical-align: top;\n",
       "    }\n",
       "\n",
       "    .dataframe thead th {\n",
       "        text-align: right;\n",
       "    }\n",
       "</style>\n",
       "<table border=\"1\" class=\"dataframe\">\n",
       "  <thead>\n",
       "    <tr style=\"text-align: right;\">\n",
       "      <th></th>\n",
       "      <th>Press</th>\n",
       "      <th>Title</th>\n",
       "      <th>Link</th>\n",
       "    </tr>\n",
       "  </thead>\n",
       "  <tbody>\n",
       "    <tr>\n",
       "      <th>0</th>\n",
       "      <td>조선일보</td>\n",
       "      <td>비비탄총 든 美10대에 총격 사망, 일반인이 매장 지킨다며 쐈다</td>\n",
       "      <td>https://n.news.naver.com/article/023/000384004...</td>\n",
       "    </tr>\n",
       "    <tr>\n",
       "      <th>1</th>\n",
       "      <td>조선일보</td>\n",
       "      <td>강남대로 횡단보도 건너던 50대 여성, 신호 위반 버스에 치여 숨져</td>\n",
       "      <td>https://n.news.naver.com/article/023/000384009...</td>\n",
       "    </tr>\n",
       "    <tr>\n",
       "      <th>2</th>\n",
       "      <td>조선일보</td>\n",
       "      <td>문신男 2000명 웃통 벗겨 끌고 갔다…증거 없어도 체포하는 이 나라</td>\n",
       "      <td>https://n.news.naver.com/article/023/000384006...</td>\n",
       "    </tr>\n",
       "    <tr>\n",
       "      <th>3</th>\n",
       "      <td>조선일보</td>\n",
       "      <td>병원 노조 “의사들 병원 지켜라… 무기한 휴진으로 파생된 업무 거부”</td>\n",
       "      <td>https://n.news.naver.com/article/023/000384012...</td>\n",
       "    </tr>\n",
       "    <tr>\n",
       "      <th>4</th>\n",
       "      <td>조선일보</td>\n",
       "      <td>“부 대물림 안해” 515억 카이스트 기부 정문술 전 미래산업 회장 별세</td>\n",
       "      <td>https://n.news.naver.com/article/023/000384007...</td>\n",
       "    </tr>\n",
       "  </tbody>\n",
       "</table>\n",
       "</div>"
      ],
      "text/plain": [
       "  Press                                     Title  \\\n",
       "0  조선일보       비비탄총 든 美10대에 총격 사망, 일반인이 매장 지킨다며 쐈다   \n",
       "1  조선일보     강남대로 횡단보도 건너던 50대 여성, 신호 위반 버스에 치여 숨져   \n",
       "2  조선일보    문신男 2000명 웃통 벗겨 끌고 갔다…증거 없어도 체포하는 이 나라   \n",
       "3  조선일보    병원 노조 “의사들 병원 지켜라… 무기한 휴진으로 파생된 업무 거부”   \n",
       "4  조선일보  “부 대물림 안해” 515억 카이스트 기부 정문술 전 미래산업 회장 별세   \n",
       "\n",
       "                                                Link  \n",
       "0  https://n.news.naver.com/article/023/000384004...  \n",
       "1  https://n.news.naver.com/article/023/000384009...  \n",
       "2  https://n.news.naver.com/article/023/000384006...  \n",
       "3  https://n.news.naver.com/article/023/000384012...  \n",
       "4  https://n.news.naver.com/article/023/000384007...  "
      ]
     },
     "execution_count": 7,
     "metadata": {},
     "output_type": "execute_result"
    }
   ],
   "source": [
    "base_url = 'https://news.naver.com/main/ranking/popularDay.naver'\n",
    "press_news_data = get_news_links_by_press(base_url)\n",
    "\n",
    "# 1. 뉴스 DataFrame 생성\n",
    "news_list = []\n",
    "for press_name, news_data in press_news_data.items() :\n",
    "    for title, link in news_data :\n",
    "        news_list.append([press_name, title, link])\n",
    "news_df = pd.DataFrame(news_list, columns = ['Press', 'Title', 'Link'])\n",
    "\n",
    "news_df.head()"
   ]
  },
  {
   "cell_type": "markdown",
   "metadata": {},
   "source": [
    "# Keyword 추출"
   ]
  },
  {
   "cell_type": "code",
   "execution_count": 8,
   "metadata": {},
   "outputs": [
    {
     "name": "stderr",
     "output_type": "stream",
     "text": [
      "뉴스 기사 본문 Crawling 진행 중: 100%|██████████| 406/406 [13:18<00:00,  1.97s/Link]\n",
      "Text 처리 중: 100%|██████████| 406/406 [02:02<00:00,  3.32기사/s]"
     ]
    },
    {
     "name": "stdout",
     "output_type": "stream",
     "text": [
      "['지난5일(현지시각)미국워싱턴주렌턴의한스포츠용품매장주차장에서\\'가짜\\'경비원이10대소년을강도로착각해총으로쏴살해하는사건이발생했다./RentonPoliceDepartment미국에서비비탄총을든10대를강도로오인해‘가짜’경비원이총으로쏴살해하는사건이발생했다.최근미국전역에서집이나회사에접근했다는이유만으로무고한이들에게총격을가하는사건이잇따라발생하면서이사건은더욱논란이되고있다.12일(현지시각)미국CNN,ABC등에따르면미국워싱턴주킹카운티검찰은살인혐의로아론마이어스(51)를기소했다.검찰의기소장에따르면,사건은지난5일저녁워싱턴주렌턴에있는‘빅5′스포츠용품매장주차장에서벌어졌다.17세소년하즈라트알리로하니와친구2명은고장난비비탄총을교환하려고이매장에들어서고있었다.주차장에서이모습을본마이어스는‘글록권총’을가진세명의10대가강도행각을저지를것이라고생각했다.즉시차량에서내려권총을겨눈마이어스는소년들에게‘총을버리고땅에엎드리라’고명령했다.마이어스는아무도자기말을듣지않았고,로하니가허리춤에손을뻗고있었다고주장했다.총을꺼내자신을죽일것이라고생각한마이어스는로하니를향해최소7발의총격을가했다.로하니는옆구리와등에6발을맞고현장에서사망했다.하지만,경찰이확보한CCTV영상에는마이어스의주장과모순되는장면이담겨있었다.마이어스의명령에10대들은가짜총을땅바닥에내려놓았다.로하니의친구는“그저비비탄총일뿐”이라고여러차례말했다고진술했다.그럼에도마이어스는로하니에게태클을걸어그를땅바닥에엎드리게했다.이후마이어스는소년에게총격을가했다.더큰문제는마이어스가해당매장에서고용한정식경비원이아니라는점이었다.경비회사를운영중인마이어스는자신의13세아들이빅5매장옆에서주짓수수업을듣는동안주차장에서‘오버워치’를하고있었다고한다.오버워치는특정장소를감시하는행위를뜻하는군대용어다.마이어스는“과거에주차장에서수많은범죄가발생하는것을목격했기때문에그장소에서감시하고있었다”며“무고한사람을해치는것을막고아들을보호하기위해내가나서야할의무가있었다”고주장했다.마이어스의변호사는“그와가족은한소년이목숨을잃었다는사실에큰충격을받았다”면서도“문제의저녁,마이어스는진심으로무장강도를목격했다고믿었고자신을방어하기위해무기를사용했다”고했다.마이어스는2022년에도무고한이를의심한적이있었다.그해3월마이어스는“자전거를타고있던남성이사람들에게총을겨눈것을봤다”고911에신고했다.하지만현장에출동한경찰들이확인한결과,해당남성은비무장상태였다.마이어스가총이라고생각한건은색자전거부품이었다.검찰은마이어스의이전신고기록을두고“그가스스로부과한‘개입의무’를일반적인것으로생각한다는방증”이라며“고액의보석금,가택구금,모든총기자진반납만이훈련받지않은민간인으로부터지역사회를보호할수있다”고했다.마이어스는2급살인및폭행혐의로기소됐다.이대로유죄판결을받는다면최고종신형에처할수있다.-조선일보국제부가픽한글로벌이슈!뉴스레터구독하기☞https://page.stibee.com/subscriptions/275739국제퀴즈풀고선물도받으세요!☞https://www.chosun.com/members-event/?mec=n_quiz이가영기자2ka0@chosun.com기자프로필이가영기자구독구독중구독자25,881응원수0‘아버지고발’박세리,상금만200억...“부모님다드렸다”발언재조명6억빚못갚은명동300억건물주,경매서100억가치떨어지자…조선일보의구독많은기자를구독해보세요!닫기Copyrightⓒ조선일보.Allrightsreserved.무단전재및재배포금지.이기사는언론사에서세계섹션으로분류했습니다.기사섹션분류안내기사의섹션정보는해당언론사의분류를따르고있습니다.언론사는개별기사를2개이상섹션으로중복분류할수있습니다.닫기구독메인에서바로보는언론사편집뉴스지금바로구독해보세요!구독중메인에서바로보는언론사편집뉴스지금바로확인해보세요!이러면낫습니다.오!건강유튜브바로보기QR코드를클릭하면크게볼수있어요.QR을촬영해보세요.이러면낫습니다.오!건강유튜브바로보기닫기세상에이런물건이?신박한아이디어보러가기QR코드를클릭하면크게볼수있어요.QR을촬영해보세요.세상에이런물건이?신박한아이디어보러가기닫기주요뉴스해당언론사에서선정하며언론사페이지(아웃링크)로이동해볼수있습니다.주걱까지써억지로발넣어…식당서도난당한한정판신발\"산모와의약속못깬다\"분만병원140곳,파업불참\"석유탐사,차분하고끈기있게…노르웨이도4년걸렸다\"삼성전자\"AI시대최적화파운드리\"선언...2027년\\'SF2Z\\'양산\"운전석에아무도없네?\"…레벨4자율주행차달린다이기사를추천합니다기사추천은24시간내50회까지참여할수있습니다.닫기쏠쏠정보0흥미진진0공감백배0분석탁월0후속강추0모두에게보여주고싶은기사라면?beta이기사를추천합니다버튼을눌러주세요.집계기간동안추천을많이받은기사는네이버자동기사배열영역에추천요소로활용됩니다.레이어닫기조선일보언론사홈바로가기언론사구독후기사보기구독없이계속보기기자구독후기사보기구독없이계속보기'\n",
      " '버스운전기사입건서울강남경찰서/뉴스1서울강남대로에서횡단보도를건너던여성이신호를위반한버스에치어숨지는사고가발생했다.서울강남경찰서는버스운전기사A씨를교통사고특례법위반(치사)혐의로입건해조사하고있다고13일밝혔다.A씨는12일오후6시10분쯤서울강남구논현동의한횡단보도에서신호를위반해50대여성을친혐의를받는다.피해자는보행신호에횡단보도를건너다가사고를당했고,인근병원으로이송됐으나결국숨졌다.버스에타고있던승객들과주변행인들의추가적인피해는없었던것으로확인됐다.A씨는경찰조사과정에서보행자를보지못했다는취지로진술한것으로알려졌다.경찰은“신호를위반해서보행신호에건너고있는보행자를친건이라엄중하게보고있다”며구속영장신청을검토하고있다고밝혔다.최낙원기자nakwon@chosun.com기자프로필최낙원기자구독구독중구독자52응원수40안녕하세요.최낙원기자입니다.초품아?이젠‘개품아’열풍...반려견놀이터갖춘아파트늘어난다영웅을위한하루...걸으며기부하고,그리며되새겼다조선일보의구독많은기자를구독해보세요!닫기Copyrightⓒ조선일보.Allrightsreserved.무단전재및재배포금지.이기사는언론사에서사회섹션으로분류했습니다.기사섹션분류안내기사의섹션정보는해당언론사의분류를따르고있습니다.언론사는개별기사를2개이상섹션으로중복분류할수있습니다.닫기구독메인에서바로보는언론사편집뉴스지금바로구독해보세요!구독중메인에서바로보는언론사편집뉴스지금바로확인해보세요!이러면낫습니다.오!건강유튜브바로보기QR코드를클릭하면크게볼수있어요.QR을촬영해보세요.이러면낫습니다.오!건강유튜브바로보기닫기세상에이런물건이?신박한아이디어보러가기QR코드를클릭하면크게볼수있어요.QR을촬영해보세요.세상에이런물건이?신박한아이디어보러가기닫기주요뉴스해당언론사에서선정하며언론사페이지(아웃링크)로이동해볼수있습니다.\"산모와의약속못깬다\"분만병원140곳,파업불참\"드라이기절도,탈의실대변까지\"\\'아줌마출입금지\\'헬스장의항변\"석유탐사,차분하고끈기있게…노르웨이도4년걸렸다\"문신男2000명끌고갔다…증거없어도체포하는이나라보트다가오는데이륙강행…수상비행기결국\\'쾅\\'이기사를추천합니다기사추천은24시간내50회까지참여할수있습니다.닫기쏠쏠정보117흥미진진4공감백배4분석탁월3후속강추43모두에게보여주고싶은기사라면?beta이기사를추천합니다버튼을눌러주세요.집계기간동안추천을많이받은기사는네이버자동기사배열영역에추천요소로활용됩니다.레이어닫기조선일보언론사홈바로가기언론사구독후기사보기구독없이계속보기기자구독후기사보기구독없이계속보기'\n",
      " '지난11일(현지시간)엘살바도르대통령실에서공개한사진.웃옷을벗은수감자들이머리에손깍지를낀채테러범수용센터바닥에앉아있다./AFP연합뉴스강력한범죄조직소탕정책을펼쳐온중미엘살바도르가갱단조직원수천명을테러범수용센터(CECOT·세코트)에가뒀다며지난12일(현지시간)관련사진과동영상을공개했다.2019년취임한엘살바도르나이브부켈레(43)대통령은강력한범죄조직소탕정책으로인기를끌어지난2월연임에성공했다.지난1일두번째5년임기를시작한부켈레대통령은이날자신의엑스(X·옛트위터)를통해“우리는3곳의교도소에있던2000명이상의갱단원을세코트로이감했다”며“그곳에서그들은국민에게저지른범죄에대한대가를치르게될것”이라고했다.세코트는지난해1월문을연중남미최대규모의교도소다.엘살바도르수도산살바도르에서남동쪽으로약74㎞떨어진곳에위치한이곳은165만㎡에달하는부지에건물면적23만㎡규모로구축됐다.4만명을수용할수있으며,11m가넘는콘크리트벽과전기울타리,19개의망루가설치돼있다.군·경인력850여명이밤낮으로경비를선다.부지면적만놓고볼경우여의도(2.9㎢·윤중로제방안쪽기준)의절반을넘는다.수감자들이테러범수용센터에앉아있는모습./로이터연합뉴스부켈레대통령이공개한동영상에는몸에문신이가득한갱단원들이웃통을벗고반바지만입은채빼곡히포개져앉아있거나,특수부대원지시에따라허리를굽힌채빠르게앞으로이동하는모습등이담겼다.한편엘살바도르는2022년국가비상사태를선포하고경찰이체포·수색영장이나명확한증거가없어도시민을체포하거나주거지등에대한임의수색을할수있는권한을부여했다.지난해8월에는갱단두목에게징역634년을선고하는등강력한처벌도병행하고있다.수감자들이테러범수용센터에앉아있는모습./로이터연합뉴스엘살바도르국내·외인권단체들은이러한엘살바도르의정책이심각한인권침해라며반발하고있다.인권단체들은부켈레대통령을‘독재자’라고비판하기도한다.이같은비판에도부켈레대통령은스스로자신을‘세계에서가장쿨한독재자(World’sCoolestDictator)’라고인정하며강력한범죄조직소탕정책을유지하고있다.엘살바도르당국에따르면지난해발생한살인범죄건수는10만명당2.4건으로,이는캐나다를제외하고미주대륙에서가장낮은수치다.엘살바도르는2015년엔10만명당살인범죄건수가105.2건을기록해전쟁과분쟁지역을제외하고전세계에서가장수치가높았다.조선일보국제부가픽한글로벌이슈!뉴스레터구독하기☞https://page.stibee.com/subscriptions/275739국제퀴즈풀고선물도받으세요!☞https://www.chosun.com/members-event/?mec=n_quiz김명일기자mi737@chosun.com기자프로필김명일기자구독구독중구독자30,780응원수7,531많은제보부탁드립니다.전화01071598115.메일mi737@chosun.com.구독과응원은큰힘이됩니다.‘야인시대’배우,실제조직보스였다“깨끗하게살려고노력”“아무도안가져가”김호중이기부한75억어치앨범처리골머리조선일보의구독많은기자를구독해보세요!닫기Copyrightⓒ조선일보.Allrightsreserved.무단전재및재배포금지.이기사는언론사에서세계섹션으로분류했습니다.기사섹션분류안내기사의섹션정보는해당언론사의분류를따르고있습니다.언론사는개별기사를2개이상섹션으로중복분류할수있습니다.닫기구독메인에서바로보는언론사편집뉴스지금바로구독해보세요!구독중메인에서바로보는언론사편집뉴스지금바로확인해보세요!이러면낫습니다.오!건강유튜브바로보기QR코드를클릭하면크게볼수있어요.QR을촬영해보세요.이러면낫습니다.오!건강유튜브바로보기닫기세상에이런물건이?신박한아이디어보러가기QR코드를클릭하면크게볼수있어요.QR을촬영해보세요.세상에이런물건이?신박한아이디어보러가기닫기주요뉴스해당언론사에서선정하며언론사페이지(아웃링크)로이동해볼수있습니다.주걱까지써억지로발넣어…식당서도난당한한정판신발\"산모와의약속못깬다\"분만병원140곳,파업불참\"석유탐사,차분하고끈기있게…노르웨이도4년걸렸다\"삼성전자\"AI시대최적화파운드리\"선언...2027년\\'SF2Z\\'양산\"운전석에아무도없네?\"…레벨4자율주행차달린다이기사를추천합니다기사추천은24시간내50회까지참여할수있습니다.닫기쏠쏠정보1흥미진진7공감백배428분석탁월2후속강추8모두에게보여주고싶은기사라면?beta이기사를추천합니다버튼을눌러주세요.집계기간동안추천을많이받은기사는네이버자동기사배열영역에추천요소로활용됩니다.레이어닫기조선일보언론사홈바로가기언론사구독후기사보기구독없이계속보기기자구독후기사보기구독없이계속보기'\n",
      " '한국환자단체연합회등환자단체관계자들이13일오전서울여의도국회앞에서환자의생명과건강을위협하는의료계집단휴진철회촉구환자단체공동기자회견을하고있다./뉴스1연세대학교의과대학,세브란스병원교수들이무기한집단휴진을선언한가운데세브란스병원노동조합은“진료연기,예약취소등집단행동으로파생된업무는일체거부할것”이라고선언했다.세브란스병원노조는13일입장문을통해“집단행동계획을철회하고,현장을지킬것을촉구한다”며“‘이나라는의사가지배하나?’는국민들의한숨과자조섞인반문을칭찬으로이해해서는곤란하다”고했다.노조는“의사들의집단행동에피해를감내하며,현장을지키고있는병원노동자들이동의도안되는집단행동으로파생된업무에강제동원되는모순된상황을허용하지않을것”이라며“진료와수술의중요행위자인의사들의집단휴진은말그대로많은환자의생명을볼모로한무모한행동”이라고했다.노조는“명분을상실한강경행동은문제해결에도움이되지않는다”며“집단행동강행은누구보다전공의들의처우에안타까움을느끼고,의대교수들의노고를이해하고,협력하고,함께해왔던병원노동자들마저등돌리게하는최악의오판이다.집단휴진결정을철회하고,지금당장진료에복귀해야한다”고했다.노조는정부를향해서는“정부는역할과책임을다해야한다.환자의생명을담보로한의정싸움에승자는존재할수없다”며“명색이‘정부’라면국민의생명과안전에책임이있다.의사단체들을비난하는것으로면죄부가생기는것이아니다”라고했다.병원소속노조가집단휴진으로발생하는업무를거부하겠다고선언한것은이번이처음은아니다.앞서분당서울대학교병원노동조합도지난10일의사들을향해휴진결의를멈춰달라는대자보를게시하며업무거부선언을했다.한편연세대학교의과대학,세브란스병원소속교수들은오는27일부터무기한휴진에돌입한다고밝혔다.김명일기자mi737@chosun.com기자프로필김명일기자구독구독중구독자30,780응원수7,531많은제보부탁드립니다.전화01071598115.메일mi737@chosun.com.구독과응원은큰힘이됩니다.‘야인시대’배우,실제조직보스였다“깨끗하게살려고노력”“아무도안가져가”김호중이기부한75억어치앨범처리골머리조선일보의구독많은기자를구독해보세요!닫기Copyrightⓒ조선일보.Allrightsreserved.무단전재및재배포금지.이기사는언론사에서사회섹션으로분류했습니다.기사섹션분류안내기사의섹션정보는해당언론사의분류를따르고있습니다.언론사는개별기사를2개이상섹션으로중복분류할수있습니다.닫기구독메인에서바로보는언론사편집뉴스지금바로구독해보세요!구독중메인에서바로보는언론사편집뉴스지금바로확인해보세요!이러면낫습니다.오!건강유튜브바로보기QR코드를클릭하면크게볼수있어요.QR을촬영해보세요.이러면낫습니다.오!건강유튜브바로보기닫기세상에이런물건이?신박한아이디어보러가기QR코드를클릭하면크게볼수있어요.QR을촬영해보세요.세상에이런물건이?신박한아이디어보러가기닫기주요뉴스해당언론사에서선정하며언론사페이지(아웃링크)로이동해볼수있습니다.\\'불법대북송금\\'이재명사건,\\'이화영유죄\\'재판부로박세리모르는\\'새만금국제골프학교\\'?친부고소사건전말\"석유탐사,차분하고끈기있게…노르웨이도4년걸렸다\"인천공항건물안에서테니스치는커플...\"한국맞아?\"\\'한국인이존경하는인물\\'1위이순신...최고등수기업인은?이기사를추천합니다기사추천은24시간내50회까지참여할수있습니다.닫기쏠쏠정보33흥미진진2공감백배290분석탁월1후속강추2모두에게보여주고싶은기사라면?beta이기사를추천합니다버튼을눌러주세요.집계기간동안추천을많이받은기사는네이버자동기사배열영역에추천요소로활용됩니다.레이어닫기조선일보언론사홈바로가기언론사구독후기사보기구독없이계속보기기자구독후기사보기구독없이계속보기'\n",
      " '/KAIST‘부(富)를대물림하지않겠다’며515억원을한국과학기술원(KAIST)에기부한‘기부왕’정문술(86)전미래산업회장이13일별세했다.고인은전북임실군강진면에서태어나남성고를졸업했다.군복무중5·16을맞았고,혁명군인사·총무담당으로일하다1962년중앙정보부에특채됐다.직장을다니면서대학(원광대종교철학과)을다녔다.1980년5월중정의기조실기획조정과장으로있다가보안사에의해해직됐다.해직후설립했던금형업체가1년을버티지못하고퇴직금사기도당하며어려운시기를보냈다.그러나고인은1983년반도체에서미래를보고반도체장비제조업체인미래산업을창업하면서고난을이겨냈다.미래산업은국산반도체수출호조의수혜를받으며고속성장을거듭해1999년국내기업최초로미국나스닥에상장한기업이됐다.이후1997~2000년닷컴열풍시기벤처기업10여개를세우거나출자하면서‘국내벤처업계의대부’라는이름을얻었다.고인은2001년‘착한기업을만들어달라’는말과함께회사경영권을직원에물려주고스스로은퇴했다.이후지속적이고생산력이있는기부를하겠다는소신을펼쳤다.은퇴한해KAIST에300억원을기부했고2013년다시한번215억원을기부해바이오·뇌공학과,문술미래전략대학원을설립하는데기여했다.국내최초의개인고액기부였다.2014년기부금약정식에서고인은“‘부를대물림하지않겠다’고약속했지만,하루에도12번씩마음이변하더라”며“나자신과의싸움이가장힘들었다”고밝혔다.이어“빈손으로왔다가빈손으로가는것은당연한일”이라며“미래를개척하는인생여정에서자신과의약속을지키게돼기쁘다”고소감을밝혔다.국민은행이사회의장,KAIST이사장을역임했다.2014년미국경제전문지포브스의‘아시아·태평양자선가48인’에선정됐다.과학기술에대한공로로과학기술훈장창조장을수상했다.빈소는건국대학교병원장례식장202호실.발인15일오전9시.(02)2030-7900김효인기자hyoink@chosun.com기자프로필김효인기자구독구독중구독자1,012응원수181테크부과학팀에서과학,제약,바이오등분야를취재하고있습니다.中달뒷면샘플채취한탐사선,비밀로봇숨겼나?연구원출신野초선황정아“25개출연硏,여의도와서보고하라”조선일보의구독많은기자를구독해보세요!닫기Copyrightⓒ조선일보.Allrightsreserved.무단전재및재배포금지.이기사는언론사에서사회섹션으로분류했습니다.기사섹션분류안내기사의섹션정보는해당언론사의분류를따르고있습니다.언론사는개별기사를2개이상섹션으로중복분류할수있습니다.닫기구독메인에서바로보는언론사편집뉴스지금바로구독해보세요!구독중메인에서바로보는언론사편집뉴스지금바로확인해보세요!이러면낫습니다.오!건강유튜브바로보기QR코드를클릭하면크게볼수있어요.QR을촬영해보세요.이러면낫습니다.오!건강유튜브바로보기닫기세상에이런물건이?신박한아이디어보러가기QR코드를클릭하면크게볼수있어요.QR을촬영해보세요.세상에이런물건이?신박한아이디어보러가기닫기주요뉴스해당언론사에서선정하며언론사페이지(아웃링크)로이동해볼수있습니다.가족도놀란美최고령장기기증…한국전참전용사였다\"산모와의약속못깬다\"분만병원140곳,파업불참\"석유탐사,차분하고끈기있게…노르웨이도4년걸렸다\"\"드라이기절도,탈의실대변까지\"\\'아줌마출입금지\\'헬스장의항변보트다가오는데이륙강행…수상비행기결국\\'쾅\\'이기사를추천합니다기사추천은24시간내50회까지참여할수있습니다.닫기쏠쏠정보5흥미진진2공감백배139분석탁월0후속강추5모두에게보여주고싶은기사라면?beta이기사를추천합니다버튼을눌러주세요.집계기간동안추천을많이받은기사는네이버자동기사배열영역에추천요소로활용됩니다.레이어닫기조선일보언론사홈바로가기언론사구독후기사보기구독없이계속보기기자구독후기사보기구독없이계속보기']\n",
      "🍋🍋🍋🍋🍋🍋🍋🍋🍋🍋🍋🍋🍋🍋🍋🍋🍋🍋🍋🍋🍋🍋🍋🍋🍋🍋🍋🍋🍋🍋🍋🍋🍋🍋🍋🍋🍋🍋🍋🍋🍋🍋🍋🍋🍋🍋🍋🍋🍋🍋🍋🍋🍋🍋🍋🍋🍋🍋🍋🍋🍋🍋🍋🍋🍋🍋🍋🍋🍋🍋🍋🍋🍋🍋🍋🍋🍋🍋🍋🍋\n",
      "[list(['마이', '어스', '구독', '기사', '언론사', '미국', '매장', '주차장', '소년', '사건'])\n",
      " list(['구독', '기사', '언론사', '기자', '추천', '버스', '뉴스', '신호', '섹션', '보기'])\n",
      " list(['구독', '기사', '언론사', '엘살바도르', '범죄', '추천', '테러범', '수용', '센터', '조직'])\n",
      " list(['구독', '집단', '기사', '언론사', '행동', '노조', '추천', '환자', '뉴스', '세브란스병원'])\n",
      " list(['구독', '기사', '언론사', '추천', '미래', '섹션', '보기', '고인', '약속', '기자'])]\n"
     ]
    },
    {
     "name": "stderr",
     "output_type": "stream",
     "text": [
      "\n"
     ]
    }
   ],
   "source": [
    "# Chrome Browser와 Chrome Driver Version 확인 및 WebDriver 객체 생성\n",
    "chrome_options = webdriver.ChromeOptions()\n",
    "# ******************************************************\n",
    "chrome_options.add_argument('headless') # Run chrome browser in the background\n",
    "chrome_options.add_argument('window-size = 1920x1080')  # Chrome Browser Window Size\n",
    "# ******************************************************\n",
    "driver = webdriver.Chrome(service = Service(ChromeDriverManager().install()), options = chrome_options)\n",
    "\n",
    "# 1. 뉴스 기사 본문 가져오기 함수 정의\n",
    "def get_article_text (url) :\n",
    "    driver.get(url)\n",
    "\n",
    "    # **************************************************************************\n",
    "    # 기본 Path 설정\n",
    "    today = datetime.now().strftime('%Y%m%d')   # 오늘 날짜 가져오기\n",
    "    base_path = f\"Data/ScreenShot/By_Press/{today}\"\n",
    "\n",
    "    ## By_Press 폴더 생성\n",
    "    os.makedirs(base_path, exist_ok = True)\n",
    "\n",
    "    # 동일한 By_Press/today Folder가 존재하는지 확인하고, 존재한다면 하위에 새로운 Folder 생성\n",
    "    new_path = base_path\n",
    "    while os.path.exists(new_path) :\n",
    "        new_path = os.path.join(base_path, str(len(os.listdir(base_path)) + 1)) # index는 폴더 내 파일 개수 + 1로 설정\n",
    "    \n",
    "    # 새로운 Folder 생성\n",
    "    os.makedirs(new_path, exist_ok = True)\n",
    "\n",
    "    # 기본 File Name 설정\n",
    "    base_filename = news_df[news_df['Link'] == url]['Title'].values[0]\n",
    "    extension = \".png\"\n",
    "    name_index = 1  # File Name에 추가될 숫자\n",
    "    new_filename = base_filename + extension\n",
    "\n",
    "    # File Path 생성\n",
    "    screenshot_name = os.path.join(new_path, new_filename)\n",
    "\n",
    "    # 동일한 File Name이 존재하는지 확인하고, 존재한다면 새로운 File Name 생성\n",
    "    while os.path.exists(screenshot_name) :\n",
    "        new_filename = f\"{base_filename}_{name_index}{extension}\"\n",
    "        screenshot_name = os.path.join(new_path, new_filename)\n",
    "        name_index += 1\n",
    "    \n",
    "    # Browser 최대화\n",
    "    driver.maximize_window()\n",
    "    \n",
    "    # 현재 화면 Capture하기\n",
    "    driver.save_screenshot(screenshot_name)\n",
    "    # **************************************************************************\n",
    "\n",
    "    html = driver.page_source\n",
    "    article_soup = BeautifulSoup(html, \"html.parser\")\n",
    "    content = article_soup.select_one(\"#contents\")\n",
    "    if content :\n",
    "        # 공백과 HTML Tag 제거\n",
    "        text =''.join(content.text.split())\n",
    "        # *******************************************\n",
    "        # 요청 후 임의의 시간만큼 대기 (Page Loaded)\n",
    "        time.sleep(random.uniform(0.5, 2.0))\n",
    "        # *******************************************\n",
    "        \n",
    "        return text\n",
    "\n",
    "# 2. 뉴스 기사 본문 수집\n",
    "content_pbar = tqdm(news_df['Link'], desc = \"뉴스 기사 본문 Crawling 진행 중\", unit = \"Link\")\n",
    "news_df['content'] = [get_article_text(url) for url in content_pbar]\n",
    "\n",
    "# Browser 종료 (모든 Tab 종료)\n",
    "driver.quit()\n",
    "\n",
    "# 3. 키워드 추출 함수 정의\n",
    "def get_keywords (text, num_keywords = 10) :\n",
    "    okt = Okt()\n",
    "    tokens = okt.nouns(text)\n",
    "    tokens = [word for word in tokens if word not in stopwords and len(word) > 1]\n",
    "    return [word for word, freq in Counter(tokens).most_common(num_keywords)]\n",
    "\n",
    "# 4. 각 언론사별 키워드 추출\n",
    "text_pbar = tqdm(news_df['content'], desc = \"Text 처리 중\", unit = \"기사\")\n",
    "news_df['keywords'] = [get_keywords(text) for text in text_pbar]\n",
    "news_df['keywords'].head()\n",
    "\n",
    "print(news_df['content'].head().values)\n",
    "print('🍋' * 80)\n",
    "print(news_df['keywords'].head().values)"
   ]
  },
  {
   "cell_type": "markdown",
   "metadata": {},
   "source": [
    "# 뉴스 추천 시스템 구축"
   ]
  },
  {
   "cell_type": "code",
   "execution_count": 9,
   "metadata": {},
   "outputs": [
    {
     "name": "stderr",
     "output_type": "stream",
     "text": [
      "Embedding 처리 중: 100%|██████████| 406/406 [02:18<00:00,  2.92text/s]\n"
     ]
    },
    {
     "data": {
      "text/html": [
       "<div>\n",
       "<style scoped>\n",
       "    .dataframe tbody tr th:only-of-type {\n",
       "        vertical-align: middle;\n",
       "    }\n",
       "\n",
       "    .dataframe tbody tr th {\n",
       "        vertical-align: top;\n",
       "    }\n",
       "\n",
       "    .dataframe thead th {\n",
       "        text-align: right;\n",
       "    }\n",
       "</style>\n",
       "<table border=\"1\" class=\"dataframe\">\n",
       "  <thead>\n",
       "    <tr style=\"text-align: right;\">\n",
       "      <th></th>\n",
       "      <th>Press</th>\n",
       "      <th>Title</th>\n",
       "      <th>similarity</th>\n",
       "    </tr>\n",
       "  </thead>\n",
       "  <tbody>\n",
       "    <tr>\n",
       "      <th>254</th>\n",
       "      <td>경기일보</td>\n",
       "      <td>수원의 한 도로서 차량 인도 돌진…운전자 등 4명 부상</td>\n",
       "      <td>0.860929</td>\n",
       "    </tr>\n",
       "    <tr>\n",
       "      <th>253</th>\n",
       "      <td>경기일보</td>\n",
       "      <td>정신병원서 지적장애인 폭행한 요양보호사, 검찰 송치</td>\n",
       "      <td>0.860321</td>\n",
       "    </tr>\n",
       "    <tr>\n",
       "      <th>283</th>\n",
       "      <td>전주MBC</td>\n",
       "      <td>군산 태양광 비리 의혹..신영대 의원 전 보좌관 '구속'</td>\n",
       "      <td>0.854462</td>\n",
       "    </tr>\n",
       "    <tr>\n",
       "      <th>314</th>\n",
       "      <td>강원도민일보</td>\n",
       "      <td>춘천 삼악산 케이블카 전망대 인근서 60대 추정 남성 숨진 채 발견</td>\n",
       "      <td>0.853928</td>\n",
       "    </tr>\n",
       "    <tr>\n",
       "      <th>70</th>\n",
       "      <td>MBN</td>\n",
       "      <td>[단독] 10대 남성 호텔에서 숨진 채 발견..경찰 조사 착수</td>\n",
       "      <td>0.853112</td>\n",
       "    </tr>\n",
       "    <tr>\n",
       "      <th>392</th>\n",
       "      <td>JIBS</td>\n",
       "      <td>호텔 주차장 2층서 60대 여성 몰던 제네시스 SUV  추락</td>\n",
       "      <td>0.851154</td>\n",
       "    </tr>\n",
       "    <tr>\n",
       "      <th>13</th>\n",
       "      <td>YTN</td>\n",
       "      <td>해병대 부사관이 군 숙소에서 마약 투약...긴급체포</td>\n",
       "      <td>0.849962</td>\n",
       "    </tr>\n",
       "    <tr>\n",
       "      <th>33</th>\n",
       "      <td>연합뉴스</td>\n",
       "      <td>BBQ, 땡초숯불양념치킨 출시…\"매운맛 찾는 MZ세대 겨냥\"</td>\n",
       "      <td>0.848499</td>\n",
       "    </tr>\n",
       "    <tr>\n",
       "      <th>326</th>\n",
       "      <td>한경비즈니스</td>\n",
       "      <td>[속보]의협 \"주말까지 정부 입장 변화 없으면 '집단 휴진' 강행할 것\"</td>\n",
       "      <td>0.848396</td>\n",
       "    </tr>\n",
       "    <tr>\n",
       "      <th>198</th>\n",
       "      <td>강원일보</td>\n",
       "      <td>삼악산 호수케이블카 전망대 인근서 60대 숨진 채 발견</td>\n",
       "      <td>0.848379</td>\n",
       "    </tr>\n",
       "  </tbody>\n",
       "</table>\n",
       "</div>"
      ],
      "text/plain": [
       "      Press                                     Title  similarity\n",
       "254    경기일보            수원의 한 도로서 차량 인도 돌진…운전자 등 4명 부상    0.860929\n",
       "253    경기일보              정신병원서 지적장애인 폭행한 요양보호사, 검찰 송치    0.860321\n",
       "283   전주MBC           군산 태양광 비리 의혹..신영대 의원 전 보좌관 '구속'    0.854462\n",
       "314  강원도민일보     춘천 삼악산 케이블카 전망대 인근서 60대 추정 남성 숨진 채 발견    0.853928\n",
       "70      MBN        [단독] 10대 남성 호텔에서 숨진 채 발견..경찰 조사 착수    0.853112\n",
       "392    JIBS         호텔 주차장 2층서 60대 여성 몰던 제네시스 SUV  추락    0.851154\n",
       "13      YTN              해병대 부사관이 군 숙소에서 마약 투약...긴급체포    0.849962\n",
       "33     연합뉴스         BBQ, 땡초숯불양념치킨 출시…\"매운맛 찾는 MZ세대 겨냥\"    0.848499\n",
       "326  한경비즈니스  [속보]의협 \"주말까지 정부 입장 변화 없으면 '집단 휴진' 강행할 것\"    0.848396\n",
       "198    강원일보            삼악산 호수케이블카 전망대 인근서 60대 숨진 채 발견    0.848379"
      ]
     },
     "execution_count": 9,
     "metadata": {},
     "output_type": "execute_result"
    }
   ],
   "source": [
    "# 1. BERT 모델 및 토크나이저 불러오기\n",
    "tokenizer = BertTokenizer.from_pretrained('bert-base-multilingual-cased')\n",
    "model = BertModel.from_pretrained('bert-base-multilingual-cased')\n",
    "\n",
    "\"\"\"\n",
    "    with torch.no_grad():\n",
    "    - 블록을 사용하여 모델의 출력을 계산할 때 그래디언트를 저장하지 않도록 했습니다.\n",
    "        - 이는 메모리 사용량을 줄이고 성능을 향상시킵니다.\n",
    "\"\"\"\n",
    "# 2. 문장 임베딩 생성 함수 정의\n",
    "def get_bert_embedding (text) :\n",
    "    inputs = tokenizer(\n",
    "        text,\n",
    "        return_tensors = 'pt',\n",
    "        truncation = True,\n",
    "        padding = True,\n",
    "        max_length = 512\n",
    "    )\n",
    "    with torch.no_grad() :\n",
    "        outputs = model(**inputs)\n",
    "    return outputs.last_hidden_state.mean(dim = 1).detach().numpy()\n",
    "\n",
    "# 3. 각 뉴스 기사 임베딩 생성\n",
    "embed_pbar = tqdm(news_df['content'], desc = \"Embedding 처리 중\", unit = \"text\")\n",
    "news_df['embedding'] = [get_bert_embedding(text) for text in embed_pbar]\n",
    "\n",
    "\n",
    "\"\"\"\n",
    "    keyword_text 생성 시, sum(news_df['keywords'], [])을 사용하여 List의 List를 평탄화한 후 Keyword를 결합합니다.\n",
    "\"\"\"\n",
    "# 4. 주요 Keyword 임베딩 생성\n",
    "keyword_text = ' '.join(sum(news_df['keywords'], []))\n",
    "keyword_embedding = get_bert_embedding(keyword_text)\n",
    "\n",
    "\n",
    "\"\"\"\n",
    "    np.vstack(df['embedding'].values:\n",
    "    - numpy 배열로 변환하는 부분입니다.\n",
    "        - 이는 embeddings 변수를 numpy 배열로 변환하여 코사인 유사도를 계산할 수 있게 합니다.\n",
    "\"\"\"\n",
    "# 5. 코사인 유사도 계산 및 뉴스 추천\n",
    "def recommend_news (df, keyword_embedding, top_n = 10) :\n",
    "    embeddings = np.vstack(df['embedding'].values)\n",
    "    similarities = cosine_similarity(embeddings, keyword_embedding.reshape(1, -1)).flatten()\n",
    "    df['similarity'] = similarities\n",
    "    return df.nlargest(top_n, 'similarity')\n",
    "\n",
    "recommended_news = recommend_news(news_df, keyword_embedding)\n",
    "recommended_news[['Press', 'Title', 'similarity']]"
   ]
  }
 ],
 "metadata": {
  "kernelspec": {
   "display_name": "base",
   "language": "python",
   "name": "python3"
  },
  "language_info": {
   "codemirror_mode": {
    "name": "ipython",
    "version": 3
   },
   "file_extension": ".py",
   "mimetype": "text/x-python",
   "name": "python",
   "nbconvert_exporter": "python",
   "pygments_lexer": "ipython3",
   "version": "3.11.7"
  }
 },
 "nbformat": 4,
 "nbformat_minor": 2
}
